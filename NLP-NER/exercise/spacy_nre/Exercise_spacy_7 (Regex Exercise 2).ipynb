{
 "cells": [
  {
   "cell_type": "code",
   "execution_count": 1,
   "id": "43ca6777",
   "metadata": {},
   "outputs": [],
   "source": [
    "from bs4 import BeautifulSoup\n",
    "import spacy\n",
    "from spacy import displacy\n",
    "from spacy.matcher import Matcher\n",
    "import requests\n",
    "import re\n",
    "import numpy as np\n",
    "\n",
    "nlp = spacy.load('en_core_web_sm')"
   ]
  },
  {
   "cell_type": "code",
   "execution_count": 2,
   "id": "325e4f04",
   "metadata": {},
   "outputs": [
    {
     "name": "stdout",
     "output_type": "stream",
     "text": [
      "['Ryan Bobby', 'Ryan Gosling']\n"
     ]
    }
   ],
   "source": [
    "#We want to search for any first bein with Ryan.\n",
    "#Then followed by any capitalized letter [A-Z]\n",
    "#Then we grab the entire 2nd word \\w+\n",
    "\n",
    "pattern1 = r\"Ryan [A-Z]\\w+\"\n",
    "text1 = 'Ryan Bobby is much cooler than Ryan Gosling'\n",
    "matches = re.findall(pattern1, text1)\n",
    "print (matches)\n",
    "\n"
   ]
  },
  {
   "cell_type": "code",
   "execution_count": 3,
   "id": "602a1998",
   "metadata": {},
   "outputs": [
    {
     "name": "stdout",
     "output_type": "stream",
     "text": [
      "<re.Match object; span=(0, 10), match='Ryan Bobby'>\n",
      "<re.Match object; span=(31, 43), match='Ryan Gosling'>\n"
     ]
    }
   ],
   "source": [
    "matches = re.finditer(pattern1, text1)\n",
    "for i in matches:\n",
    "    print(i)"
   ]
  },
  {
   "cell_type": "code",
   "execution_count": 4,
   "id": "b099a375",
   "metadata": {},
   "outputs": [],
   "source": [
    "from spacy.tokens import Span"
   ]
  },
  {
   "cell_type": "code",
   "execution_count": 5,
   "id": "3a4c9e61",
   "metadata": {},
   "outputs": [
    {
     "name": "stdout",
     "output_type": "stream",
     "text": [
      "None\n"
     ]
    }
   ],
   "source": [
    "nlp = spacy.blank('en')\n",
    "doc = nlp(text1)\n",
    "doc.ents\n",
    "\n",
    "print(doc.char_span(0,2))"
   ]
  },
  {
   "cell_type": "code",
   "execution_count": 6,
   "id": "97dbb64c",
   "metadata": {},
   "outputs": [
    {
     "name": "stdout",
     "output_type": "stream",
     "text": [
      "[(0, 2, 'Ryan Bobby'), (6, 8, 'Ryan Gosling')]\n",
      "############\n",
      "Ryan Bobby PERSON\n",
      "Ryan Gosling PERSON\n"
     ]
    }
   ],
   "source": [
    "#We Build custom components to our function\n",
    "nlp = spacy.blank('en')\n",
    "doc = nlp(text1)\n",
    "original_ents = list(doc.ents)\n",
    "\n",
    "#Multi Words Token\n",
    "mwt_ents = []\n",
    "for match in re.finditer(pattern1, doc.text):\n",
    "    start, end = match.span()\n",
    "    span = doc.char_span(start, end)\n",
    "#     print(span)\n",
    "    if span is not None:\n",
    "        #Now, the span aligninng with the token, not the characters anymore\n",
    "        mwt_ents.append((span.start, span.end, span.text))\n",
    "        \n",
    "print(mwt_ents)\n",
    "print('############')\n",
    "\n",
    "#Now we want to inject it into our function entities\n",
    "for ent in mwt_ents:\n",
    "    start, end, name = ent\n",
    "    per_ent = Span(doc, start, end, label = \"PERSON\")\n",
    "    original_ents.append(per_ent)\n",
    "doc.ents = original_ents\n",
    "\n",
    "for ent in doc.ents:\n",
    "    print(ent.text, ent.label_)"
   ]
  },
  {
   "cell_type": "code",
   "execution_count": 7,
   "id": "d204c051",
   "metadata": {},
   "outputs": [],
   "source": [
    "from spacy.language import Language\n",
    "pattern1 = r\"Ryan [A-Z]\\w+\"\n",
    "@Language.component('paul_ner')\n",
    "def paul_ner(doc):\n",
    "    \n",
    "    original_ents = list(doc.ents)\n",
    "\n",
    "    #Multi Words Token\n",
    "    mwt_ents = []\n",
    "    for match in re.finditer(pattern1, doc.text):\n",
    "        start, end = match.span()\n",
    "        span = doc.char_span(start, end)\n",
    "        if span is not None:\n",
    "            #Now, the span aligninng with the token, not the characters anymore\n",
    "            mwt_ents.append((span.start, span.end, span.text))\n",
    "\n",
    "    #Now we want to inject it into our function entities\n",
    "    for ent in mwt_ents:\n",
    "        start, end, name = ent\n",
    "        per_ent = Span(doc, start, end, label = \"PERSON\")\n",
    "        original_ents.append(per_ent)\n",
    "    doc.ents = original_ents\n",
    "    return (doc)\n"
   ]
  },
  {
   "cell_type": "code",
   "execution_count": 8,
   "id": "6e7dee7d",
   "metadata": {},
   "outputs": [
    {
     "data": {
      "text/plain": [
       "<function __main__.paul_ner(doc)>"
      ]
     },
     "execution_count": 8,
     "metadata": {},
     "output_type": "execute_result"
    }
   ],
   "source": [
    "nlp2 = spacy.blank('en')\n",
    "nlp2.add_pipe('paul_ner')"
   ]
  },
  {
   "cell_type": "code",
   "execution_count": 9,
   "id": "cc0c8bdb",
   "metadata": {},
   "outputs": [
    {
     "name": "stdout",
     "output_type": "stream",
     "text": [
      "(Ryan Bobby, Ryan Gosling)\n"
     ]
    }
   ],
   "source": [
    "doc2 = nlp2('Ryan Bobby is much cooler than Ryan Gosling')\n",
    "print(doc2.ents)"
   ]
  },
  {
   "cell_type": "code",
   "execution_count": 18,
   "id": "f298f503",
   "metadata": {},
   "outputs": [],
   "source": [
    "from spacy.language import Language\n",
    "from spacy.util import filter_spans\n",
    "pattern1 = r\"Gosling\"\n",
    "@Language.component('gosling_ner')\n",
    "def gosling_ner(doc):\n",
    "    \n",
    "    original_ents = list(doc.ents)\n",
    "\n",
    "    #Multi Words Token\n",
    "    mwt_ents = []\n",
    "    for match in re.finditer(pattern1, doc.text):\n",
    "        start, end = match.span()\n",
    "        span = doc.char_span(start, end)\n",
    "        if span is not None:\n",
    "            #Now, the span aligninng with the token, not the characters anymore\n",
    "            mwt_ents.append((span.start, span.end, span.text))\n",
    "\n",
    "    #Now we want to inject it into our function entities\n",
    "    for ent in mwt_ents:\n",
    "        start, end, name = ent\n",
    "        per_ent = Span(doc, start, end, label = \"CINEMA\")\n",
    "        original_ents.append(per_ent)\n",
    "    #Give priority to the linger tokens\n",
    "    filtered = filter_spans(original_ents)\n",
    "    doc.ents = filtered\n",
    "    return (doc)"
   ]
  },
  {
   "cell_type": "code",
   "execution_count": 19,
   "id": "db3b525b",
   "metadata": {},
   "outputs": [
    {
     "data": {
      "text/plain": [
       "<function __main__.gosling_ner(doc)>"
      ]
     },
     "execution_count": 19,
     "metadata": {},
     "output_type": "execute_result"
    }
   ],
   "source": [
    "nlp3 = spacy.load('en_core_web_sm')\n",
    "nlp3.add_pipe('gosling_ner')"
   ]
  },
  {
   "cell_type": "code",
   "execution_count": 17,
   "id": "35f2c3d2",
   "metadata": {},
   "outputs": [
    {
     "name": "stdout",
     "output_type": "stream",
     "text": [
      "Ryan Bobby PERSON\n",
      "Ryan Gosling PERSON\n"
     ]
    }
   ],
   "source": [
    "doc3 = nlp3('Ryan Bobby is much cooler than Ryan Gosling')\n",
    "for i in doc3.ents:\n",
    "    print(i.text, i.label_)"
   ]
  },
  {
   "cell_type": "code",
   "execution_count": null,
   "id": "cbc5254d",
   "metadata": {},
   "outputs": [],
   "source": []
  }
 ],
 "metadata": {
  "kernelspec": {
   "display_name": "Python 3",
   "language": "python",
   "name": "python3"
  },
  "language_info": {
   "codemirror_mode": {
    "name": "ipython",
    "version": 3
   },
   "file_extension": ".py",
   "mimetype": "text/x-python",
   "name": "python",
   "nbconvert_exporter": "python",
   "pygments_lexer": "ipython3",
   "version": "3.8.8"
  }
 },
 "nbformat": 4,
 "nbformat_minor": 5
}
