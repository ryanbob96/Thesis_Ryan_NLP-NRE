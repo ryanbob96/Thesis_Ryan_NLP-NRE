{
 "cells": [
  {
   "cell_type": "code",
   "execution_count": 4,
   "id": "8d6ed69b",
   "metadata": {},
   "outputs": [],
   "source": [
    "from bs4 import BeautifulSoup\n",
    "import spacy\n",
    "from spacy import displacy\n",
    "import requests\n",
    "import re\n",
    "import numpy as np\n",
    "\n",
    "#Contain word vectors: Numerical represntation of words in multidimensional space through matrices\n",
    "nlp = spacy.load(\"en_core_web_md\")"
   ]
  },
  {
   "cell_type": "code",
   "execution_count": 2,
   "id": "6ea81d72",
   "metadata": {},
   "outputs": [],
   "source": [
    "with open ('C:/Users/Ryan Bobby A/Documents/GitHub/Thesis_Ryan_NLP-NRE/data/wiki_us.txt', 'r') as f:\n",
    "    text = f.read()"
   ]
  },
  {
   "cell_type": "code",
   "execution_count": 3,
   "id": "be787be5",
   "metadata": {},
   "outputs": [
    {
     "name": "stdout",
     "output_type": "stream",
     "text": [
      "The United States of America (U.S.A. or USA), commonly known as the United States (U.S. or US) or America, is a country primarily located in North America.\n"
     ]
    }
   ],
   "source": [
    "doc = nlp(text)\n",
    "sentence1 = list(doc.sents)[0]\n",
    "print(sentence1)"
   ]
  },
  {
   "cell_type": "code",
   "execution_count": 10,
   "id": "6223cfb8",
   "metadata": {},
   "outputs": [
    {
     "name": "stdout",
     "output_type": "stream",
     "text": [
      "['country', 'COUNTRY', 'NATION', 'nation', 'COUNTIRES', 'nations', 'member-states', 'worLd', 'World', 'world', 'national', 'NATIONAL', 'HEARTLAND', 'southern', 'STATE-RUN', 'government', 'Sub-Continent', 'foreign', 'FORIEGN', 'semi-rural']\n"
     ]
    }
   ],
   "source": [
    "your_word = 'country'\n",
    "\n",
    "ms = nlp.vocab.vectors.most_similar(np.asarray([nlp.vocab.vectors[nlp.vocab.strings[your_word]]]), n=20)\n",
    "words = [nlp.vocab.strings[w] for w in ms[0][0]]\n",
    "distances = ms[2]\n",
    "print(words)"
   ]
  },
  {
   "cell_type": "code",
   "execution_count": 19,
   "id": "a307c5a7",
   "metadata": {
    "scrolled": false
   },
   "outputs": [
    {
     "name": "stdout",
     "output_type": "stream",
     "text": [
      "12290671265767728302\n",
      "---------------------------\n",
      "[ 7.3677e-02  5.2156e-01  3.1504e-01 -2.5743e-01  6.3185e-01 -1.4061e-01\n",
      "  4.4108e-02  5.5817e-02 -4.5327e-01  3.3915e+00 -8.8491e-01  1.4696e-02\n",
      " -4.4164e-01 -2.7146e-01  6.5846e-02 -1.4115e-01 -1.8359e-01  5.5882e-01\n",
      "  3.4735e-01  4.9206e-01 -2.9363e-01  1.5864e-01  1.8245e-01  2.4616e-01\n",
      " -5.4651e-02 -2.6116e-01 -2.0582e-01  1.7782e-01 -2.3421e-01  2.0985e-01\n",
      "  3.4395e-01 -7.5486e-03  1.1200e-01 -4.3141e-01  7.9923e-02 -1.0038e-01\n",
      " -1.5685e-01 -2.8106e-01  1.3058e-01  4.1862e-01 -8.8605e-02  2.7584e-01\n",
      "  2.5731e-01  1.9394e-01 -2.0442e-01 -4.4856e-01  4.8795e-01 -2.4139e-01\n",
      "  9.9646e-02 -3.3894e-01 -6.3024e-01  2.4977e-01 -4.6698e-02 -3.4425e-01\n",
      "  3.9504e-01 -1.0694e-01  1.5900e-01 -2.0601e-01  3.7994e-01 -1.8441e-01\n",
      " -1.1135e-02  4.4415e-01 -1.6894e-01  4.8023e-01 -1.4859e-01  2.5886e-01\n",
      " -1.5207e-01  6.8721e-02  3.1572e-01  9.3189e-02 -1.5450e-01  1.5372e-01\n",
      "  8.5520e-02  7.5760e-02  3.7679e-02 -1.1032e-01 -4.6535e-01  6.0151e-02\n",
      "  2.2266e-01 -5.7096e-02  2.4310e-01  7.7502e-02 -2.7466e-02  2.2253e-01\n",
      "  6.3764e-02 -1.1032e-01 -5.1599e-01 -2.6317e-01  2.4936e-01  6.5643e-02\n",
      " -6.3565e-01  4.2987e-01 -2.9761e-02  3.4310e-01  3.6958e-01 -1.4985e-01\n",
      " -1.0331e-02  3.5013e-01  2.3337e-01 -2.6436e-02  5.8446e-02  2.4483e-01\n",
      "  6.2583e-02 -8.0011e-02  2.8214e-02 -1.2912e+00 -1.8775e-01 -6.0695e-01\n",
      " -6.3716e-03  1.4873e-01  2.6929e-02  1.5888e-01 -3.2923e-01  7.3494e-02\n",
      " -2.1069e-01  1.9517e-01  4.3057e-01  2.2497e-01 -3.8262e-01 -2.2372e-01\n",
      " -1.5670e-01  4.0250e-01 -3.7874e-03 -2.9402e-01 -1.0453e-01  1.4050e-01\n",
      "  3.7299e-01 -1.3432e-01  1.8656e-01  1.2897e-01  1.3341e-01  2.1084e-01\n",
      " -1.5417e-01  2.3159e-01  1.4429e-01 -5.6674e-02 -1.5820e-01 -9.0158e-02\n",
      "  1.5389e-01  2.0603e-02 -1.2563e+00 -7.2555e-02  4.7897e-01 -1.1825e-01\n",
      " -1.3344e-01 -3.2498e-01  3.1805e-01  3.6749e-01 -6.3748e-02 -3.3200e-02\n",
      " -7.8104e-02  5.4223e-01  1.7810e-01  3.1970e-02  1.3234e-01 -2.0405e-01\n",
      "  1.3638e-01  1.5627e-01 -1.8841e-01  1.6863e-01  2.8886e-01  6.3842e-01\n",
      "  3.4370e-01  2.6142e-01 -2.7519e-01 -8.1966e-02  1.8173e-01 -7.9317e-01\n",
      "  2.9495e-01 -8.9134e-02 -2.5122e-02 -6.2730e-02 -4.3742e-01 -9.4726e-02\n",
      "  2.3308e-01 -3.1573e-03 -2.4452e-01 -1.6524e-01  3.3000e-01  2.2750e-01\n",
      " -5.5493e-02  2.2030e-01 -3.4697e-02 -1.6371e-01 -3.0245e-02 -2.1101e-01\n",
      " -3.8922e-03 -6.0171e-01  2.5657e-01 -7.7900e-02  4.8353e-02 -1.2459e-01\n",
      "  4.3748e-01 -3.2650e-01 -4.4642e-01 -2.6771e-01 -2.6969e-01  1.0791e-02\n",
      "  1.2442e-01 -1.4951e-01  7.3467e-02  2.7785e-01 -9.9041e-02  4.7987e-01\n",
      "  8.1533e-01 -8.6449e-02  1.0389e-01 -1.3790e-01  3.2915e-01 -4.2558e-01\n",
      " -1.4294e-02 -1.0049e-01  2.0973e-01  1.8192e-01  3.5562e-02  2.0906e-01\n",
      " -2.5884e-01  3.5913e-02 -3.9429e-01  4.0285e-01 -9.9147e-02  4.2667e-01\n",
      "  1.6450e-01 -3.7389e-02  2.1325e-01  2.3748e-01  1.8422e-01  4.8579e-02\n",
      " -1.5025e-01  4.0550e-01 -1.6716e-01  1.5850e-01  1.3047e-01 -2.7072e-01\n",
      " -1.6372e-01 -1.2832e-01 -2.9426e-01 -3.2611e-01 -1.2043e-01 -3.1426e-02\n",
      " -5.2571e-01  6.9698e-02  2.6968e-01  2.3319e-01 -2.3935e-02 -1.3453e-01\n",
      "  3.6339e-01  2.8202e-02 -2.4358e-01 -3.6910e-01  5.0481e-01  1.7517e-01\n",
      "  3.0220e-01  3.0645e-01 -3.1637e-01  5.5520e-01  4.2868e-01  4.9956e-03\n",
      " -6.5471e-01  4.0311e-01 -3.1145e-01  1.3433e-01 -1.5962e-01  7.6983e-02\n",
      " -8.0440e-02 -5.7552e-01 -2.4244e-01 -9.1352e-02  6.6212e-02  2.1943e-01\n",
      " -2.7501e-01 -7.3063e-03 -2.5534e-01 -4.3932e-01  1.3570e-01  5.0314e-02\n",
      "  5.1101e-02  1.9769e-01  3.5440e-01 -4.9134e-01 -3.5106e-01  1.5612e-02\n",
      " -3.3875e-01  1.7543e-01  6.5076e-02 -2.6565e-01  2.1258e-01  6.5287e-02\n",
      " -1.1036e-01  2.8950e-02 -1.9406e-01 -1.3524e-01 -2.1956e-01 -4.6050e-01\n",
      "  1.3587e-01 -1.5926e-01  5.9141e-02  3.6609e-02 -1.2966e-01  1.6430e-01]\n",
      "---------------------------\n",
      "[[ 7.3677e-02  5.2156e-01  3.1504e-01 -2.5743e-01  6.3185e-01 -1.4061e-01\n",
      "   4.4108e-02  5.5817e-02 -4.5327e-01  3.3915e+00 -8.8491e-01  1.4696e-02\n",
      "  -4.4164e-01 -2.7146e-01  6.5846e-02 -1.4115e-01 -1.8359e-01  5.5882e-01\n",
      "   3.4735e-01  4.9206e-01 -2.9363e-01  1.5864e-01  1.8245e-01  2.4616e-01\n",
      "  -5.4651e-02 -2.6116e-01 -2.0582e-01  1.7782e-01 -2.3421e-01  2.0985e-01\n",
      "   3.4395e-01 -7.5486e-03  1.1200e-01 -4.3141e-01  7.9923e-02 -1.0038e-01\n",
      "  -1.5685e-01 -2.8106e-01  1.3058e-01  4.1862e-01 -8.8605e-02  2.7584e-01\n",
      "   2.5731e-01  1.9394e-01 -2.0442e-01 -4.4856e-01  4.8795e-01 -2.4139e-01\n",
      "   9.9646e-02 -3.3894e-01 -6.3024e-01  2.4977e-01 -4.6698e-02 -3.4425e-01\n",
      "   3.9504e-01 -1.0694e-01  1.5900e-01 -2.0601e-01  3.7994e-01 -1.8441e-01\n",
      "  -1.1135e-02  4.4415e-01 -1.6894e-01  4.8023e-01 -1.4859e-01  2.5886e-01\n",
      "  -1.5207e-01  6.8721e-02  3.1572e-01  9.3189e-02 -1.5450e-01  1.5372e-01\n",
      "   8.5520e-02  7.5760e-02  3.7679e-02 -1.1032e-01 -4.6535e-01  6.0151e-02\n",
      "   2.2266e-01 -5.7096e-02  2.4310e-01  7.7502e-02 -2.7466e-02  2.2253e-01\n",
      "   6.3764e-02 -1.1032e-01 -5.1599e-01 -2.6317e-01  2.4936e-01  6.5643e-02\n",
      "  -6.3565e-01  4.2987e-01 -2.9761e-02  3.4310e-01  3.6958e-01 -1.4985e-01\n",
      "  -1.0331e-02  3.5013e-01  2.3337e-01 -2.6436e-02  5.8446e-02  2.4483e-01\n",
      "   6.2583e-02 -8.0011e-02  2.8214e-02 -1.2912e+00 -1.8775e-01 -6.0695e-01\n",
      "  -6.3716e-03  1.4873e-01  2.6929e-02  1.5888e-01 -3.2923e-01  7.3494e-02\n",
      "  -2.1069e-01  1.9517e-01  4.3057e-01  2.2497e-01 -3.8262e-01 -2.2372e-01\n",
      "  -1.5670e-01  4.0250e-01 -3.7874e-03 -2.9402e-01 -1.0453e-01  1.4050e-01\n",
      "   3.7299e-01 -1.3432e-01  1.8656e-01  1.2897e-01  1.3341e-01  2.1084e-01\n",
      "  -1.5417e-01  2.3159e-01  1.4429e-01 -5.6674e-02 -1.5820e-01 -9.0158e-02\n",
      "   1.5389e-01  2.0603e-02 -1.2563e+00 -7.2555e-02  4.7897e-01 -1.1825e-01\n",
      "  -1.3344e-01 -3.2498e-01  3.1805e-01  3.6749e-01 -6.3748e-02 -3.3200e-02\n",
      "  -7.8104e-02  5.4223e-01  1.7810e-01  3.1970e-02  1.3234e-01 -2.0405e-01\n",
      "   1.3638e-01  1.5627e-01 -1.8841e-01  1.6863e-01  2.8886e-01  6.3842e-01\n",
      "   3.4370e-01  2.6142e-01 -2.7519e-01 -8.1966e-02  1.8173e-01 -7.9317e-01\n",
      "   2.9495e-01 -8.9134e-02 -2.5122e-02 -6.2730e-02 -4.3742e-01 -9.4726e-02\n",
      "   2.3308e-01 -3.1573e-03 -2.4452e-01 -1.6524e-01  3.3000e-01  2.2750e-01\n",
      "  -5.5493e-02  2.2030e-01 -3.4697e-02 -1.6371e-01 -3.0245e-02 -2.1101e-01\n",
      "  -3.8922e-03 -6.0171e-01  2.5657e-01 -7.7900e-02  4.8353e-02 -1.2459e-01\n",
      "   4.3748e-01 -3.2650e-01 -4.4642e-01 -2.6771e-01 -2.6969e-01  1.0791e-02\n",
      "   1.2442e-01 -1.4951e-01  7.3467e-02  2.7785e-01 -9.9041e-02  4.7987e-01\n",
      "   8.1533e-01 -8.6449e-02  1.0389e-01 -1.3790e-01  3.2915e-01 -4.2558e-01\n",
      "  -1.4294e-02 -1.0049e-01  2.0973e-01  1.8192e-01  3.5562e-02  2.0906e-01\n",
      "  -2.5884e-01  3.5913e-02 -3.9429e-01  4.0285e-01 -9.9147e-02  4.2667e-01\n",
      "   1.6450e-01 -3.7389e-02  2.1325e-01  2.3748e-01  1.8422e-01  4.8579e-02\n",
      "  -1.5025e-01  4.0550e-01 -1.6716e-01  1.5850e-01  1.3047e-01 -2.7072e-01\n",
      "  -1.6372e-01 -1.2832e-01 -2.9426e-01 -3.2611e-01 -1.2043e-01 -3.1426e-02\n",
      "  -5.2571e-01  6.9698e-02  2.6968e-01  2.3319e-01 -2.3935e-02 -1.3453e-01\n",
      "   3.6339e-01  2.8202e-02 -2.4358e-01 -3.6910e-01  5.0481e-01  1.7517e-01\n",
      "   3.0220e-01  3.0645e-01 -3.1637e-01  5.5520e-01  4.2868e-01  4.9956e-03\n",
      "  -6.5471e-01  4.0311e-01 -3.1145e-01  1.3433e-01 -1.5962e-01  7.6983e-02\n",
      "  -8.0440e-02 -5.7552e-01 -2.4244e-01 -9.1352e-02  6.6212e-02  2.1943e-01\n",
      "  -2.7501e-01 -7.3063e-03 -2.5534e-01 -4.3932e-01  1.3570e-01  5.0314e-02\n",
      "   5.1101e-02  1.9769e-01  3.5440e-01 -4.9134e-01 -3.5106e-01  1.5612e-02\n",
      "  -3.3875e-01  1.7543e-01  6.5076e-02 -2.6565e-01  2.1258e-01  6.5287e-02\n",
      "  -1.1036e-01  2.8950e-02 -1.9406e-01 -1.3524e-01 -2.1956e-01 -4.6050e-01\n",
      "   1.3587e-01 -1.5926e-01  5.9141e-02  3.6609e-02 -1.2966e-01  1.6430e-01]]\n",
      "---------------------------\n",
      "(array([[12290671265767728302,  4000319556510314152, 12410946551316419195,\n",
      "         4877621044794520897,  2385813445412495817,  1499857299936515533,\n",
      "          205267743103153844,  7504531472141636304,  9796807554284407750,\n",
      "         1703489418272052182, 14565421918427191397,  5040518304917656230,\n",
      "        15241178954947473410, 12121605977752639731, 10761056367750524452,\n",
      "         3625794390087546215, 17315486270620831708,  4328933821092685489,\n",
      "         1073686926690954672, 11138743956661154809]], dtype=uint64), array([[  513,  9699, 11936,  2286,  1075,  3708, 14077, 14454,  1730,\n",
      "          271,  2242,  4237,  6349,  5187,  4751,   480,  7343,  2371,\n",
      "        16434,  5599]], dtype=int32), array([[1.    , 1.    , 0.7488, 0.7488, 0.7155, 0.6419, 0.6419, 0.6322,\n",
      "        0.6322, 0.6322, 0.6274, 0.6274, 0.6037, 0.6037, 0.5993, 0.5993,\n",
      "        0.5989, 0.5937, 0.5937, 0.5892]], dtype=float32))\n"
     ]
    }
   ],
   "source": [
    "a = nlp.vocab.strings[your_word]\n",
    "print (a)\n",
    "print('---------------------------')\n",
    "\n",
    "b = nlp.vocab.vectors[a]\n",
    "print (b)\n",
    "print('---------------------------')\n",
    "\n",
    "c = np.asarray([b])\n",
    "print (c)\n",
    "print('---------------------------')\n",
    "\n",
    "d = nlp.vocab.vectors.most_similar(c, n=20)\n",
    "print(d)"
   ]
  },
  {
   "cell_type": "code",
   "execution_count": 22,
   "id": "06de2997",
   "metadata": {},
   "outputs": [
    {
     "name": "stdout",
     "output_type": "stream",
     "text": [
      "Ryan is a cool guy <-> He is so brave 0.7761936878518013\n",
      "Ryan is a cool guy <-> Indonesia is an islands country 0.5801221384474026\n"
     ]
    }
   ],
   "source": [
    "doc1 = nlp('Ryan is a cool guy')\n",
    "doc2 = nlp('He is so brave')\n",
    "doc3 = nlp('Indonesia is an islands country')\n",
    "\n",
    "print(doc1, '<->', doc2, doc1.similarity(doc2))\n",
    "print(doc1, '<->', doc3, doc1.similarity(doc3))\n",
    "\n",
    "#Different similarity. 1 & 2 are more related (higher similarity value)"
   ]
  },
  {
   "cell_type": "code",
   "execution_count": 23,
   "id": "57435d3e",
   "metadata": {},
   "outputs": [
    {
     "name": "stdout",
     "output_type": "stream",
     "text": [
      "I enjoy Oranges <-> I enjoy Apples 0.9445392991167937\n",
      "I enjoy Oranges <-> I enjoy Pizza 0.8307003350251418\n"
     ]
    }
   ],
   "source": [
    "doc5 = nlp('I enjoy Oranges')\n",
    "doc6 = nlp('I enjoy Apples')\n",
    "doc7 = nlp('I enjoy Pizza')\n",
    "\n",
    "print(doc5, '<->', doc6, doc5.similarity(doc6))\n",
    "print(doc5, '<->', doc7, doc5.similarity(doc7))\n",
    "\n",
    "#Now, the difference can be seen as the difference in the semantical of the statement or words"
   ]
  },
  {
   "cell_type": "code",
   "execution_count": null,
   "id": "204d9605",
   "metadata": {},
   "outputs": [],
   "source": []
  },
  {
   "cell_type": "code",
   "execution_count": 24,
   "id": "b675901b",
   "metadata": {},
   "outputs": [],
   "source": []
  },
  {
   "cell_type": "code",
   "execution_count": 26,
   "id": "e877b1d8",
   "metadata": {},
   "outputs": [
    {
     "data": {
      "text/plain": [
       "<spacy.pipeline.sentencizer.Sentencizer at 0x1661dceeac0>"
      ]
     },
     "execution_count": 26,
     "metadata": {},
     "output_type": "execute_result"
    }
   ],
   "source": []
  },
  {
   "cell_type": "code",
   "execution_count": 27,
   "id": "716df79e",
   "metadata": {},
   "outputs": [
    {
     "data": {
      "text/plain": [
       "{'summary': {'sentencizer': {'assigns': ['token.is_sent_start', 'doc.sents'],\n",
       "   'requires': [],\n",
       "   'scores': ['sents_f', 'sents_p', 'sents_r'],\n",
       "   'retokenizes': False}},\n",
       " 'problems': {'sentencizer': []},\n",
       " 'attrs': {'token.is_sent_start': {'assigns': ['sentencizer'], 'requires': []},\n",
       "  'doc.sents': {'assigns': ['sentencizer'], 'requires': []}}}"
      ]
     },
     "execution_count": 27,
     "metadata": {},
     "output_type": "execute_result"
    }
   ],
   "source": [
    "#Here are all of our piplines\n",
    "nlp.analyze_pipes()"
   ]
  },
  {
   "cell_type": "code",
   "execution_count": 28,
   "id": "4e830063",
   "metadata": {},
   "outputs": [
    {
     "data": {
      "text/plain": [
       "{'summary': {'tok2vec': {'assigns': ['doc.tensor'],\n",
       "   'requires': [],\n",
       "   'scores': [],\n",
       "   'retokenizes': False},\n",
       "  'tagger': {'assigns': ['token.tag'],\n",
       "   'requires': [],\n",
       "   'scores': ['tag_acc'],\n",
       "   'retokenizes': False},\n",
       "  'parser': {'assigns': ['token.dep',\n",
       "    'token.head',\n",
       "    'token.is_sent_start',\n",
       "    'doc.sents'],\n",
       "   'requires': [],\n",
       "   'scores': ['dep_uas',\n",
       "    'dep_las',\n",
       "    'dep_las_per_type',\n",
       "    'sents_p',\n",
       "    'sents_r',\n",
       "    'sents_f'],\n",
       "   'retokenizes': False},\n",
       "  'attribute_ruler': {'assigns': [],\n",
       "   'requires': [],\n",
       "   'scores': [],\n",
       "   'retokenizes': False},\n",
       "  'lemmatizer': {'assigns': ['token.lemma'],\n",
       "   'requires': [],\n",
       "   'scores': ['lemma_acc'],\n",
       "   'retokenizes': False},\n",
       "  'ner': {'assigns': ['doc.ents', 'token.ent_iob', 'token.ent_type'],\n",
       "   'requires': [],\n",
       "   'scores': ['ents_f', 'ents_p', 'ents_r', 'ents_per_type'],\n",
       "   'retokenizes': False}},\n",
       " 'problems': {'tok2vec': [],\n",
       "  'tagger': [],\n",
       "  'parser': [],\n",
       "  'attribute_ruler': [],\n",
       "  'lemmatizer': [],\n",
       "  'ner': []},\n",
       " 'attrs': {'token.lemma': {'assigns': ['lemmatizer'], 'requires': []},\n",
       "  'token.tag': {'assigns': ['tagger'], 'requires': []},\n",
       "  'token.head': {'assigns': ['parser'], 'requires': []},\n",
       "  'doc.ents': {'assigns': ['ner'], 'requires': []},\n",
       "  'doc.tensor': {'assigns': ['tok2vec'], 'requires': []},\n",
       "  'doc.sents': {'assigns': ['parser'], 'requires': []},\n",
       "  'token.ent_type': {'assigns': ['ner'], 'requires': []},\n",
       "  'token.ent_iob': {'assigns': ['ner'], 'requires': []},\n",
       "  'token.is_sent_start': {'assigns': ['parser'], 'requires': []},\n",
       "  'token.dep': {'assigns': ['parser'], 'requires': []}}}"
      ]
     },
     "execution_count": 28,
     "metadata": {},
     "output_type": "execute_result"
    }
   ],
   "source": [
    "#This will take more time beacuse it has a lot of pipelines. Moreover, it can also give also a lot of sentences which \n",
    "#indicating good indicator\n",
    "\n",
    "nlp2 = spacy.load('en_core_web_sm')\n",
    "nlp2.analyze_pipes()"
   ]
  },
  {
   "cell_type": "code",
   "execution_count": null,
   "id": "51d7b4f2",
   "metadata": {},
   "outputs": [],
   "source": []
  }
 ],
 "metadata": {
  "kernelspec": {
   "display_name": "Python 3",
   "language": "python",
   "name": "python3"
  },
  "language_info": {
   "codemirror_mode": {
    "name": "ipython",
    "version": 3
   },
   "file_extension": ".py",
   "mimetype": "text/x-python",
   "name": "python",
   "nbconvert_exporter": "python",
   "pygments_lexer": "ipython3",
   "version": "3.8.8"
  }
 },
 "nbformat": 4,
 "nbformat_minor": 5
}
