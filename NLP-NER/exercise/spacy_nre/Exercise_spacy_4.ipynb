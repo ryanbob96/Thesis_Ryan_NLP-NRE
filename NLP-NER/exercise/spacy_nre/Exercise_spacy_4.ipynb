{
 "cells": [
  {
   "cell_type": "code",
   "execution_count": 2,
   "id": "2bdcbff0",
   "metadata": {},
   "outputs": [],
   "source": [
    "from bs4 import BeautifulSoup\n",
    "import spacy\n",
    "from spacy import displacy\n",
    "from spacy.matcher import Matcher\n",
    "import requests\n",
    "import re\n",
    "import numpy as np"
   ]
  },
  {
   "cell_type": "code",
   "execution_count": 3,
   "id": "b709f35a",
   "metadata": {},
   "outputs": [],
   "source": [
    "nlp = spacy.load('en_core_web_sm')"
   ]
  },
  {
   "cell_type": "code",
   "execution_count": 4,
   "id": "f25221a7",
   "metadata": {},
   "outputs": [],
   "source": [
    "matcher = Matcher(nlp.vocab)\n",
    "pattern = [{'LIKE_EMAIL': True}]\n",
    "matcher.add('EMAIL_ADDRESS', [pattern])"
   ]
  },
  {
   "cell_type": "code",
   "execution_count": 5,
   "id": "d1e1f967",
   "metadata": {},
   "outputs": [],
   "source": [
    "#Pass the doc object to our Matcher class\n",
    "doc = nlp('Is ryanbobby@rwth.com your email?')\n",
    "matches = matcher(doc)"
   ]
  },
  {
   "cell_type": "code",
   "execution_count": 6,
   "id": "a9243c82",
   "metadata": {},
   "outputs": [
    {
     "name": "stdout",
     "output_type": "stream",
     "text": [
      "[(16571425990740197027, 1, 2)]\n"
     ]
    }
   ],
   "source": [
    "#Unique Lexeme, Start Token, End Token\n",
    "print(matches)"
   ]
  },
  {
   "cell_type": "code",
   "execution_count": 7,
   "id": "d2192fef",
   "metadata": {},
   "outputs": [
    {
     "name": "stdout",
     "output_type": "stream",
     "text": [
      "EMAIL_ADDRESS\n"
     ]
    }
   ],
   "source": [
    "print(nlp.vocab[matches[0][0]].text)"
   ]
  },
  {
   "cell_type": "code",
   "execution_count": 8,
   "id": "aad0616f",
   "metadata": {},
   "outputs": [],
   "source": [
    "with open ('C:/Users/Ryan Bobby A/Documents/GitHub/Thesis_Ryan_NLP-NRE/data/wiki_mlk.txt', 'r') as f:\n",
    "    text = f.read()"
   ]
  },
  {
   "cell_type": "code",
   "execution_count": 9,
   "id": "15852840",
   "metadata": {},
   "outputs": [
    {
     "name": "stdout",
     "output_type": "stream",
     "text": [
      "Martin Luther King Jr. (born Michael King Jr.; January 15, 1929 â€“ April 4, 1968) was an American Baptist minister and activist who became the most visible spokesman and leader in the American civil rights movement from 1955 until his assassination in 1968. King advanced civil rights through nonviolence and civil disobedience, inspired by his Christian beliefs and the nonviolent activism of Mahatma Gandhi. He was the son of early civil rights activist and minister Martin Luther King Sr.\n",
      "\n",
      "King participated in and led marches for blacks' right to vote, desegregation, labor rights, and other basic civil rights.[1] King led the 1955 Montgomery bus boycott and later became the first president of the Southern Christian Leadership Conference (SCLC). As president of the SCLC, he led the unsuccessful Albany Movement in Albany, Georgia, and helped organize some of the nonviolent 1963 protests in Birmingham, Alabama. King helped organize the 1963 March on Washington, where he delivered his famous \"I Have a Dream\" speech on the steps of the Lincoln Memorial.\n",
      "\n",
      "The SCLC put into practice the tactics of nonviolent protest with some success by strategically choosing the methods and places in which protests were carried out. There were several dramatic stand-offs with segregationist authorities, who sometimes turned violent.[2] Federal Bureau of Investigation (FBI) Director J. Edgar Hoover considered King a radical and made him an object of the FBI's COINTELPRO from 1963, forward. FBI agents investigated him for possible communist ties, recorded his extramarital affairs and reported on them to government officials, and, in 1964, mailed King a threatening anonymous letter, which he interpreted as an attempt to make him commit suicide.[3]\n",
      "\n",
      "On October 14, 1964, King won the Nobel Peace Prize for combating racial inequality through nonviolent resistance. In 1965, he helped organize two of the three Selma to Montgomery marches. In his final years, he expanded his focus to include opposition towards poverty, capitalism, and the Vietnam War.\n",
      "\n",
      "In 1968, King was planning a national occupation of Washington, D.C., to be called the Poor People's Campaign, when he was assassinated on April 4 in Memphis, Tennessee. His death was followed by riots in many U.S. cities. Allegations that James Earl Ray, the man convicted of killing King, had been framed or acted in concert with government agents persisted for decades after the shooting. King was posthumously awarded the Presidential Medal of Freedom in 1977 and the Congressional Gold Medal in 2003. Martin Luther King Jr. Day was established as a holiday in cities and states throughout the United States beginning in 1971; the holiday was enacted at the federal level by legislation signed by President Ronald Reagan in 1986. Hundreds of streets in the U.S. have been renamed in his honor, and the most populous county in Washington State was rededicated for him. The Martin Luther King Jr. Memorial on the National Mall in Washington, D.C., was dedicated in 2011.\n"
     ]
    }
   ],
   "source": [
    "print(text)"
   ]
  },
  {
   "cell_type": "code",
   "execution_count": 10,
   "id": "26a2c65d",
   "metadata": {},
   "outputs": [
    {
     "name": "stdout",
     "output_type": "stream",
     "text": [
      "103\n",
      "(3232560085755078826, 0, 1) Martin\n",
      "(3232560085755078826, 1, 2) Luther\n",
      "(3232560085755078826, 2, 3) King\n",
      "(3232560085755078826, 3, 4) Jr.\n",
      "(3232560085755078826, 6, 7) Michael\n",
      "(3232560085755078826, 7, 8) King\n",
      "(3232560085755078826, 8, 9) Jr.\n",
      "(3232560085755078826, 10, 11) January\n",
      "(3232560085755078826, 16, 17) April\n",
      "(3232560085755078826, 23, 24) American\n"
     ]
    }
   ],
   "source": [
    "nlp = spacy.load('en_core_web_sm')\n",
    "\n",
    "matcher = Matcher(nlp.vocab)\n",
    "pattern = [{\"POS\": \"PROPN\"}]\n",
    "matcher.add(\"PROPER_NOUNS\", [pattern])\n",
    "\n",
    "doc = nlp(text)\n",
    "matches = matcher(doc)\n",
    "# matches.sort(key= lambda x: x[1])\n",
    "\n",
    "print(len(matches))\n",
    "\n",
    "for match in matches[:10]:\n",
    "    print(match, doc[match[1]:match[2]])"
   ]
  },
  {
   "cell_type": "code",
   "execution_count": 11,
   "id": "c6eedca1",
   "metadata": {},
   "outputs": [
    {
     "name": "stdout",
     "output_type": "stream",
     "text": [
      "173\n",
      "(3232560085755078826, 0, 1) Martin\n",
      "(3232560085755078826, 0, 2) Martin Luther\n",
      "(3232560085755078826, 1, 2) Luther\n",
      "(3232560085755078826, 0, 3) Martin Luther King\n",
      "(3232560085755078826, 1, 3) Luther King\n",
      "(3232560085755078826, 2, 3) King\n",
      "(3232560085755078826, 0, 4) Martin Luther King Jr.\n",
      "(3232560085755078826, 1, 4) Luther King Jr.\n",
      "(3232560085755078826, 2, 4) King Jr.\n",
      "(3232560085755078826, 3, 4) Jr.\n"
     ]
    }
   ],
   "source": [
    "nlp = spacy.load('en_core_web_sm')\n",
    "\n",
    "matcher = Matcher(nlp.vocab)\n",
    "\n",
    "#With OP, we can grab all repetition (more than one) proper noun word\n",
    "pattern = [{\"POS\": \"PROPN\", \"OP\": '+'}]\n",
    "matcher.add(\"PROPER_NOUNS\", [pattern])\n",
    "\n",
    "doc = nlp(text)\n",
    "matches = matcher(doc)\n",
    "# matches.sort(key= lambda x: x[1])\n",
    "\n",
    "print(len(matches))\n",
    "\n",
    "for match in matches[:10]:\n",
    "    print(match, doc[match[1]:match[2]])\n",
    "    \n",
    "##But the consequence is extract all the repetition words"
   ]
  },
  {
   "cell_type": "code",
   "execution_count": 14,
   "id": "c78f1562",
   "metadata": {},
   "outputs": [
    {
     "name": "stdout",
     "output_type": "stream",
     "text": [
      "62\n",
      "(3232560085755078826, 470, 475) Martin Luther King Jr. Day\n",
      "(3232560085755078826, 537, 542) Martin Luther King Jr. Memorial\n",
      "(3232560085755078826, 0, 4) Martin Luther King Jr.\n",
      "(3232560085755078826, 84, 88) Martin Luther King Sr\n",
      "(3232560085755078826, 129, 133) Southern Christian Leadership Conference\n",
      "(3232560085755078826, 248, 252) Director J. Edgar Hoover\n",
      "(3232560085755078826, 6, 9) Michael King Jr.\n",
      "(3232560085755078826, 326, 329) Nobel Peace Prize\n",
      "(3232560085755078826, 423, 426) James Earl Ray\n",
      "(3232560085755078826, 464, 467) Congressional Gold Medal\n",
      "#############\n",
      "(3232560085755078826, 470, 475) Martin Luther King Jr. Day\n",
      "(3232560085755078826, 537, 542) Martin Luther King Jr. Memorial\n",
      "(3232560085755078826, 0, 4) Martin Luther King Jr.\n",
      "(3232560085755078826, 84, 88) Martin Luther King Sr\n",
      "(3232560085755078826, 129, 133) Southern Christian Leadership Conference\n",
      "(3232560085755078826, 248, 252) Director J. Edgar Hoover\n",
      "(3232560085755078826, 6, 9) Michael King Jr.\n",
      "(3232560085755078826, 326, 329) Nobel Peace Prize\n",
      "(3232560085755078826, 423, 426) James Earl Ray\n",
      "(3232560085755078826, 464, 467) Congressional Gold Medal\n",
      "(3232560085755078826, 504, 507) President Ronald Reagan\n",
      "(3232560085755078826, 23, 25) American Baptist\n",
      "(3232560085755078826, 70, 72) Mahatma Gandhi\n",
      "(3232560085755078826, 147, 149) Albany Movement\n",
      "(3232560085755078826, 194, 196) Lincoln Memorial\n",
      "(3232560085755078826, 241, 243) Federal Bureau\n",
      "(3232560085755078826, 371, 373) Vietnam War\n",
      "(3232560085755078826, 393, 395) Poor People\n",
      "(3232560085755078826, 456, 458) Presidential Medal\n",
      "(3232560085755078826, 486, 488) United States\n",
      "(3232560085755078826, 529, 531) Washington State\n",
      "(3232560085755078826, 544, 546) National Mall\n",
      "(3232560085755078826, 10, 11) January\n",
      "(3232560085755078826, 16, 17) April\n",
      "(3232560085755078826, 50, 51) King\n",
      "(3232560085755078826, 90, 91) King\n",
      "(3232560085755078826, 114, 115) King\n",
      "(3232560085755078826, 118, 119) Montgomery\n",
      "(3232560085755078826, 134, 135) SCLC\n",
      "(3232560085755078826, 141, 142) SCLC\n",
      "(3232560085755078826, 150, 151) Albany\n",
      "(3232560085755078826, 152, 153) Georgia\n",
      "(3232560085755078826, 164, 165) Birmingham\n",
      "(3232560085755078826, 166, 167) Alabama\n",
      "(3232560085755078826, 168, 169) King\n",
      "(3232560085755078826, 173, 174) March\n",
      "(3232560085755078826, 175, 176) Washington\n",
      "(3232560085755078826, 239, 240) violent.[2\n",
      "(3232560085755078826, 244, 245) Investigation\n",
      "(3232560085755078826, 246, 247) FBI\n",
      "(3232560085755078826, 253, 254) King\n",
      "(3232560085755078826, 263, 264) FBI\n",
      "(3232560085755078826, 271, 272) FBI\n",
      "(3232560085755078826, 298, 299) King\n",
      "(3232560085755078826, 318, 319) October\n",
      "(3232560085755078826, 323, 324) King\n",
      "(3232560085755078826, 347, 348) Selma\n",
      "(3232560085755078826, 349, 350) Montgomery\n",
      "(3232560085755078826, 378, 379) King\n",
      "(3232560085755078826, 385, 386) Washington\n",
      "(3232560085755078826, 387, 388) D.C.\n",
      "(3232560085755078826, 396, 397) Campaign\n"
     ]
    }
   ],
   "source": [
    "nlp = spacy.load('en_core_web_sm')\n",
    "\n",
    "matcher = Matcher(nlp.vocab)\n",
    "#With OP, we can grab all repetition word\n",
    "pattern = [{\"POS\": \"PROPN\", \"OP\": '+'}]\n",
    "\n",
    "#Only take the longest PROPN\n",
    "matcher.add(\"PROPER_NOUNS\", [pattern], greedy=\"LONGEST\")\n",
    "\n",
    "doc = nlp(text)\n",
    "matches = matcher(doc)\n",
    "# matches.sort(key= lambda x: x[1])\n",
    "\n",
    "print(len(matches))\n",
    "\n",
    "#It is showing us from Longest to smallest\n",
    "for match in matches[:10]:\n",
    "    print(match, doc[match[1]:match[2]])\n",
    "\n",
    "print('#############')\n",
    "\n",
    "for match in matches[:-10]:\n",
    "    print(match, doc[match[1]:match[2]])"
   ]
  },
  {
   "cell_type": "code",
   "execution_count": 16,
   "id": "75046ec8",
   "metadata": {},
   "outputs": [
    {
     "name": "stdout",
     "output_type": "stream",
     "text": [
      "62\n",
      "(3232560085755078826, 0, 4) Martin Luther King Jr.\n",
      "(3232560085755078826, 6, 9) Michael King Jr.\n",
      "(3232560085755078826, 10, 11) January\n",
      "(3232560085755078826, 16, 17) April\n",
      "(3232560085755078826, 23, 25) American Baptist\n",
      "(3232560085755078826, 50, 51) King\n",
      "(3232560085755078826, 70, 72) Mahatma Gandhi\n",
      "(3232560085755078826, 84, 88) Martin Luther King Sr\n",
      "(3232560085755078826, 90, 91) King\n",
      "(3232560085755078826, 114, 115) King\n"
     ]
    }
   ],
   "source": [
    "nlp = spacy.load('en_core_web_sm')\n",
    "\n",
    "matcher = Matcher(nlp.vocab)\n",
    "#With OP, we can grab all repetition word\n",
    "pattern = [{\"POS\": \"PROPN\", \"OP\": '+'}]\n",
    "\n",
    "#Only take the longest PROPN\n",
    "matcher.add(\"PROPER_NOUNS\", [pattern], greedy=\"LONGEST\")\n",
    "\n",
    "doc = nlp(text)\n",
    "matches = matcher(doc)\n",
    "\n",
    "#This code is crucial as this sort the data based on start token. so that the longest to smallest can be sort out\n",
    "matches.sort(key= lambda x: x[1])\n",
    "\n",
    "print(len(matches))\n",
    "\n",
    "#It is showing us from Longest to smallest\n",
    "for match in matches[:10]:\n",
    "    print(match, doc[match[1]:match[2]])"
   ]
  },
  {
   "cell_type": "code",
   "execution_count": 18,
   "id": "46e6cfe2",
   "metadata": {},
   "outputs": [
    {
     "name": "stdout",
     "output_type": "stream",
     "text": [
      "6\n",
      "(3232560085755078826, 50, 52) King advanced\n",
      "(3232560085755078826, 90, 92) King participated\n",
      "(3232560085755078826, 114, 116) King led\n",
      "(3232560085755078826, 248, 253) Director J. Edgar Hoover considered\n",
      "(3232560085755078826, 323, 325) King won\n",
      "(3232560085755078826, 486, 489) United States beginning\n"
     ]
    }
   ],
   "source": [
    "\n",
    "nlp = spacy.load('en_core_web_sm')\n",
    "\n",
    "matcher = Matcher(nlp.vocab)\n",
    "#With OP, we can grab all repetition word\n",
    "#Now we want to add PROPN that followed by Verb. SO add extra rule\n",
    "pattern = [{\"POS\": \"PROPN\", \"OP\": '+'}, {\"POS\": \"VERB\"}]\n",
    "\n",
    "#Only take the longest PROPN\n",
    "matcher.add(\"PROPER_NOUNS\", [pattern], greedy=\"LONGEST\")\n",
    "\n",
    "doc = nlp(text)\n",
    "matches = matcher(doc)\n",
    "\n",
    "#This code is crucial as this sort the data based on start token. so that the longest to smallest can be sort out\n",
    "matches.sort(key= lambda x: x[1])\n",
    "\n",
    "print(len(matches))\n",
    "\n",
    "#It is showing us from Longest to smallest\n",
    "for match in matches[:10]:\n",
    "    print(match, doc[match[1]:match[2]])"
   ]
  },
  {
   "cell_type": "code",
   "execution_count": 20,
   "id": "61fec258",
   "metadata": {},
   "outputs": [],
   "source": [
    "import json\n",
    "with open ('C:/Users/Ryan Bobby A/Documents/GitHub/Thesis_Ryan_NLP-NRE/data/alice.json', 'r') as f:\n",
    "    data = json.load(f)"
   ]
  },
  {
   "cell_type": "code",
   "execution_count": 32,
   "id": "8519738b",
   "metadata": {},
   "outputs": [
    {
     "name": "stdout",
     "output_type": "stream",
     "text": [
      "Alice was beginning to get very tired of sitting by her sister on the bank, and of having nothing to do: once or twice she had peeped into the book her sister was reading, but it had no pictures or conversations in it, `and what is the use of a book,' thought Alice `without pictures or conversation?'\n"
     ]
    }
   ],
   "source": [
    "#Take the word from 1 paragraph and 1 chapter\n",
    "text = data[0][2][0]\n",
    "print(text)"
   ]
  },
  {
   "cell_type": "code",
   "execution_count": 33,
   "id": "08b2a440",
   "metadata": {},
   "outputs": [
    {
     "name": "stdout",
     "output_type": "stream",
     "text": [
      "Alice was beginning to get very tired of sitting by her sister on the bank, and of having nothing to do: once or twice she had peeped into the book her sister was reading, but it had no pictures or conversations in it, 'and what is the use of a book,' thought Alice 'without pictures or conversation?'\n"
     ]
    }
   ],
   "source": [
    "#Consider the quotation marks about Alice thought. Try to standardize the syntax of quotation mark\n",
    "text = text.replace(\"`\",\"'\")\n",
    "print(text)"
   ]
  },
  {
   "cell_type": "code",
   "execution_count": 34,
   "id": "4455e3ae",
   "metadata": {},
   "outputs": [
    {
     "name": "stdout",
     "output_type": "stream",
     "text": [
      "2\n",
      "(3232560085755078826, 47, 58) 'and what is the use of a book,'\n",
      "(3232560085755078826, 60, 67) 'without pictures or conversation?'\n"
     ]
    }
   ],
   "source": [
    "#Consider the quotation marks about Alice thought.\n",
    "nlp = spacy.load('en_core_web_sm')\n",
    "\n",
    "matcher = Matcher(nlp.vocab)\n",
    "\n",
    "#Quotation mark\n",
    "#Is_Alpha to grab the words of quoted. Use OP + tp grab all the data\n",
    "#Is_Punct is to consider the additional comma before thought alice (inside the quote). But it doesn't have to be always the case (*)\n",
    "#Closed by the quotation mark\n",
    "pattern = [{\"ORTH\": \"'\"},\n",
    "           {\"IS_ALPHA\": True, \"OP\": \"+\"},\n",
    "           {\"IS_PUNCT\": True, \"OP\": \"*\"},\n",
    "           {\"ORTH\": \"'\"}]\n",
    "\n",
    "#Only take the longest PROPN\n",
    "matcher.add(\"PROPER_NOUNS\", [pattern], greedy=\"LONGEST\")\n",
    "\n",
    "doc = nlp(text)\n",
    "matches = matcher(doc)\n",
    "\n",
    "#This code is crucial as this sort the data based on start token. so that the longest to smallest can be sort out\n",
    "matches.sort(key= lambda x: x[1])\n",
    "\n",
    "print(len(matches))\n",
    "\n",
    "#It is showing us from Longest to smallest\n",
    "for match in matches[:10]:\n",
    "    print(match, doc[match[1]:match[2]])"
   ]
  },
  {
   "cell_type": "code",
   "execution_count": 37,
   "id": "f632a71a",
   "metadata": {},
   "outputs": [
    {
     "name": "stdout",
     "output_type": "stream",
     "text": [
      "1\n",
      "(3232560085755078826, 47, 67) 'and what is the use of a book,' thought Alice 'without pictures or conversation?'\n"
     ]
    }
   ],
   "source": [
    "#Consider the quotation marks about Alice thought.\n",
    "nlp = spacy.load('en_core_web_sm')\n",
    "\n",
    "matcher = Matcher(nlp.vocab)\n",
    "\n",
    "#Limitazion word\n",
    "speak_lemmas = [\"think\", \"say\"]\n",
    "\n",
    "#Quotation mark\n",
    "#Is_Alpha to grab the words of quoted. Use OP + tp grab all the data\n",
    "#Is_Punct is to consider the additional comma before thought alice (inside the quote). But it doesn't have to be always the case (*)\n",
    "#Closed by the quotation mark\n",
    "#Add the limitized word about the lemma word that has been assigned\n",
    "#Propen Noun with multiple token (+)\n",
    "\n",
    "pattern = [{\"ORTH\": \"'\"},\n",
    "           {\"IS_ALPHA\": True, \"OP\": \"+\"},\n",
    "           {\"IS_PUNCT\": True, \"OP\": \"*\"},\n",
    "           {\"ORTH\": \"'\"},\n",
    "           {\"POS\": \"VERB\", \"LEMMA\": {\"IN\": speak_lemmas}},\n",
    "           {\"POS\": \"PROPN\", \"OP\": \"+\"},\n",
    "           {\"ORTH\": \"'\"},\n",
    "           {\"IS_ALPHA\": True, \"OP\": \"+\"},\n",
    "           {\"IS_PUNCT\": True, \"OP\": \"*\"},\n",
    "           {\"ORTH\": \"'\"},\n",
    "          ]\n",
    "\n",
    "#Only take the longest PROPN\n",
    "matcher.add(\"PROPER_NOUNS\", [pattern], greedy=\"LONGEST\")\n",
    "\n",
    "doc = nlp(text)\n",
    "matches = matcher(doc)\n",
    "\n",
    "#This code is crucial as this sort the data based on start token. so that the longest to smallest can be sort out\n",
    "matches.sort(key= lambda x: x[1])\n",
    "\n",
    "print(len(matches))\n",
    "\n",
    "#It is showing us from Longest to smallest\n",
    "for match in matches[:10]:\n",
    "    print(match, doc[match[1]:match[2]])"
   ]
  },
  {
   "cell_type": "code",
   "execution_count": 38,
   "id": "a4ffeb22",
   "metadata": {},
   "outputs": [
    {
     "name": "stdout",
     "output_type": "stream",
     "text": [
      "(3232560085755078826, 47, 67) 'and what is the use of a book,' thought Alice 'without pictures or conversation?'\n"
     ]
    }
   ],
   "source": [
    "for text in data[0][2]:\n",
    "    text = text.replace(\"`\",\"'\")\n",
    "    doc = nlp(text)\n",
    "    matches = matcher(doc)\n",
    "    matches.sort(key = lambda x: x[1])\n",
    "    for match in matches[:10]:\n",
    "        print(match, doc[match[1]:match[2]])"
   ]
  },
  {
   "cell_type": "code",
   "execution_count": 43,
   "id": "3f3f1ddf",
   "metadata": {},
   "outputs": [
    {
     "name": "stdout",
     "output_type": "stream",
     "text": [
      "(3232560085755078826, 47, 67) 'and what is the use of a book,' thought Alice 'without pictures or conversation?'\n",
      "(3232560085755078826, 0, 6) 'Well!' thought Alice\n",
      "(3232560085755078826, 57, 68) 'which certainly was not here before,' said Alice\n"
     ]
    }
   ],
   "source": [
    "#Consider the quotation marks about Alice thought.\n",
    "nlp = spacy.load('en_core_web_sm')\n",
    "\n",
    "matcher = Matcher(nlp.vocab)\n",
    "\n",
    "#Limitazion word\n",
    "speak_lemmas = [\"think\", \"say\"]\n",
    "\n",
    "#Quotation mark\n",
    "#Is_Alpha to grab the words of quoted. Use OP + tp grab all the data\n",
    "#Is_Punct is to consider the additional comma before thought alice (inside the quote). But it doesn't have to be always the case (*)\n",
    "#Closed by the quotation mark\n",
    "#Add the limitized word about the lemma word that has been assigned\n",
    "#Propen Noun with multiple token (+)\n",
    "\n",
    "pattern1 = [{'ORTH': \"'\"}, {'IS_ALPHA': True, \"OP\": \"+\"}, {'IS_PUNCT': True, \"OP\": \"*\"}, {'ORTH': \"'\"}, {\"POS\": \"VERB\", \"LEMMA\": {\"IN\": speak_lemmas}}, {\"POS\": \"PROPN\", \"OP\": \"+\"}, {'ORTH': \"'\"}, {'IS_ALPHA': True, \"OP\": \"+\"}, {'IS_PUNCT': True, \"OP\": \"*\"}, {'ORTH': \"'\"}]\n",
    "pattern2 = [{'ORTH': \"'\"}, {'IS_ALPHA': True, \"OP\": \"+\"}, {'IS_PUNCT': True, \"OP\": \"*\"}, {'ORTH': \"'\"}, {\"POS\": \"VERB\", \"LEMMA\": {\"IN\": speak_lemmas}}, {\"POS\": \"PROPN\", \"OP\": \"+\"}]\n",
    "pattern3 = [{\"POS\": \"PROPN\", \"OP\": \"+\"},{\"POS\": \"VERB\", \"LEMMA\": {\"IN\": speak_lemmas}}, {'ORTH': \"'\"}, {'IS_ALPHA': True, \"OP\": \"+\"}, {'IS_PUNCT': True, \"OP\": \"*\"}, {'ORTH': \"'\"}]\n",
    "\n",
    "#Only take the longest PROPN\n",
    "matcher.add(\"PROPER_NOUNS\", [pattern1, pattern2, pattern3], greedy=\"LONGEST\")\n",
    "\n",
    "for text in data[0][2]:\n",
    "    text = text.replace(\"`\",\"'\")\n",
    "    doc = nlp(text)\n",
    "    matches = matcher(doc)\n",
    "    matches.sort(key = lambda x: x[1])\n",
    "    for match in matches[:10]:\n",
    "        print(match, doc[match[1]:match[2]])"
   ]
  },
  {
   "cell_type": "code",
   "execution_count": null,
   "id": "3cec7ce1",
   "metadata": {},
   "outputs": [],
   "source": []
  }
 ],
 "metadata": {
  "kernelspec": {
   "display_name": "Python 3",
   "language": "python",
   "name": "python3"
  },
  "language_info": {
   "codemirror_mode": {
    "name": "ipython",
    "version": 3
   },
   "file_extension": ".py",
   "mimetype": "text/x-python",
   "name": "python",
   "nbconvert_exporter": "python",
   "pygments_lexer": "ipython3",
   "version": "3.8.8"
  }
 },
 "nbformat": 4,
 "nbformat_minor": 5
}
