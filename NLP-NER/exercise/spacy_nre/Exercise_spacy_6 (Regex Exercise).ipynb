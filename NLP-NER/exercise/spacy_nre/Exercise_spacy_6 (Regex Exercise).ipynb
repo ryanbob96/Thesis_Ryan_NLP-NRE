{
 "cells": [
  {
   "cell_type": "code",
   "execution_count": 1,
   "id": "43ca6777",
   "metadata": {},
   "outputs": [],
   "source": [
    "from bs4 import BeautifulSoup\n",
    "import spacy\n",
    "from spacy import displacy\n",
    "from spacy.matcher import Matcher\n",
    "import requests\n",
    "import re\n",
    "import numpy as np\n",
    "\n",
    "nlp = spacy.load('en_core_web_sm')"
   ]
  },
  {
   "cell_type": "code",
   "execution_count": 9,
   "id": "325e4f04",
   "metadata": {},
   "outputs": [
    {
     "name": "stdout",
     "output_type": "stream",
     "text": [
      "[('10th June', '0', 'th', 'June'), ('3rd August', '3', 'rd', 'August'), ('1st January', '1', 'st', 'January')]\n"
     ]
    }
   ],
   "source": [
    "#We want to search for any digit (0-9) that occurs either once or twice ({1,2}).\n",
    "#Next, we have space that indicate expect with a date\n",
    "#The months indicate another component for the pattern, and | indicate 'or'\n",
    "#Then, the pattern will search any one or two numbers followed by a month\n",
    "\n",
    "pattern = r\"((\\d){1,2}(st|th|rd) (January|February|March|April|May|June|July|August|September|October|November|December))\"\n",
    "text = 'Ryan Birthday is 10th June. And his GF birthday is 3rd August. Her mothers birthday is 1st January'\n",
    "matches = re.findall(pattern, text)\n",
    "print (matches)"
   ]
  },
  {
   "cell_type": "code",
   "execution_count": 21,
   "id": "09e28984",
   "metadata": {},
   "outputs": [
    {
     "name": "stdout",
     "output_type": "stream",
     "text": [
      "[('June 10th', '', '', '', '', '', 'June 10th', 'June ', 'June', '0', 'th'), ('3rd August', '3rd August', '3', 'rd', ' August', 'August', '', '', '', '', ''), ('January 1st', '', '', '', '', '', 'January 1st', 'January ', 'January', '1', 'st')]\n",
      "##################################\n",
      "<callable_iterator object at 0x0000021857B545E0>\n",
      "##################################\n",
      "##################################\n",
      "June 10th\n",
      "3rd August\n",
      "January 1st\n"
     ]
    }
   ],
   "source": [
    "#With another condition\n",
    "text2 = 'Ryan Birthday is June 10th . And his GF birthday is 3rd August. Her mothers birthday is January 1st'\n",
    "pattern2 = r\"(((\\d){1,2}(st|th|rd)( (January|February|March|April|May|June|July|August|September|October|November|December)))|(((January|February|March|April|May|June|July|August|September|October|November|December) )(\\d){1,2}(st|th|rd)))\"\n",
    "matches2 = re.findall(pattern2, text2)\n",
    "print(matches2)\n",
    "\n",
    "print('##################################')\n",
    "\n",
    "#We can use finditer to remove some unrelevant results. The result will be iterator objects\n",
    "iter_match = re.finditer(pattern2, text2)\n",
    "print(iter_match)\n",
    "\n",
    "print('##################################')\n",
    "\n",
    "# for i in iter_match:\n",
    "#     print(i)\n",
    "\n",
    "print('##################################')\n",
    "#Slicing the start-end objects\n",
    "for i in iter_match:\n",
    "    start = i.start()\n",
    "    finish = i.end()\n",
    "    print(text2[start:finish])"
   ]
  },
  {
   "cell_type": "code",
   "execution_count": 32,
   "id": "d5aa574b",
   "metadata": {},
   "outputs": [
    {
     "name": "stdout",
     "output_type": "stream",
     "text": [
      "222-1234881234567 PHONE_NUMBER\n"
     ]
    }
   ],
   "source": [
    "#Matcher, PhraseMatcher, EntityRuler\n",
    "text3 = \"This is a sample number 222-1234881234567\"\n",
    "\n",
    "#Build upon the spaCy small model\n",
    "nlp = spacy.blank('en')\n",
    "\n",
    "#Create the Ruler and Add it\n",
    "ruler = nlp.add_pipe('entity_ruler')\n",
    "\n",
    "#list of Entities and Patterns\n",
    "patterns = [\n",
    "    {'label': 'PHONE_NUMBER', 'pattern': [{'SHAPE': 'ddd'},\n",
    "                                     {'ORTH': '-'},\n",
    "                                     {'SHAPE': 'dddd'}]}\n",
    "]\n",
    "\n",
    "#Add patterns to ruler\n",
    "ruler.add_patterns(patterns)\n",
    "\n",
    "#create the doc\n",
    "doc = nlp(text3)\n",
    "\n",
    "#extract entities\n",
    "for ent in doc.ents:\n",
    "    print(ent.text, ent.label_)"
   ]
  },
  {
   "cell_type": "code",
   "execution_count": 37,
   "id": "d7327c14",
   "metadata": {},
   "outputs": [
    {
     "name": "stdout",
     "output_type": "stream",
     "text": [
      "[('222-1234', '2', '1234', '4')]\n",
      "222-1234\n"
     ]
    }
   ],
   "source": [
    "reg_number = r'((\\d){3}-((\\d){4}))'\n",
    "text_4 = \"This is a sample number 222-1234\"\n",
    "matches3 = re.findall(reg_number, text_4)\n",
    "print(matches3)\n",
    "\n",
    "matces4 = re.finditer(reg_number, text_4)\n",
    "for j in matces4:\n",
    "    start = j.start()\n",
    "    end = j.end()\n",
    "    print(text_4[start: end])"
   ]
  },
  {
   "cell_type": "code",
   "execution_count": 39,
   "id": "3ee62792",
   "metadata": {},
   "outputs": [],
   "source": [
    "#Now, Add regex pattern to the nlp entityruler\n",
    "#Matcher, PhraseMatcher, EntityRuler\n",
    "text3 = \"This is a sample number 222-1234\"\n",
    "\n",
    "#Build upon the spaCy small model\n",
    "nlp = spacy.blank('en')\n",
    "\n",
    "#Create the Ruler and Add it\n",
    "ruler = nlp.add_pipe('entity_ruler')\n",
    "\n",
    "#list of Entities and Patterns\n",
    "patterns = [\n",
    "    {'label': 'PHONE_NUMBER', 'pattern': [{'TEXT': {'REGEX': '(\\d){3}-((\\d){4})' }}]\n",
    "    }\n",
    "]\n",
    "\n",
    "#Add patterns to ruler\n",
    "ruler.add_patterns(patterns)\n",
    "\n",
    "#create the doc\n",
    "doc = nlp(text3)\n",
    "\n",
    "#extract entities\n",
    "for ent in doc.ents:\n",
    "    print(ent.text, ent.label_)"
   ]
  },
  {
   "cell_type": "code",
   "execution_count": 42,
   "id": "bc498e3a",
   "metadata": {},
   "outputs": [
    {
     "name": "stdout",
     "output_type": "stream",
     "text": [
      "21234 PHONE_NUMBER\n"
     ]
    }
   ],
   "source": [
    "#Now, Add regex pattern to the nlp entityruler\n",
    "#Matcher, PhraseMatcher, EntityRuler\n",
    "text3 = \"This is a sample number 21234\"\n",
    "\n",
    "#Build upon the spaCy small model\n",
    "nlp = spacy.blank('en')\n",
    "\n",
    "#Create the Ruler and Add it\n",
    "ruler = nlp.add_pipe('entity_ruler')\n",
    "\n",
    "#list of Entities and Patterns\n",
    "patterns = [\n",
    "    {'label': 'PHONE_NUMBER', 'pattern': [{'TEXT': {'REGEX': '((\\d){5})' }}]\n",
    "    }\n",
    "]\n",
    "\n",
    "#Add patterns to ruler\n",
    "ruler.add_patterns(patterns)\n",
    "\n",
    "#create the doc\n",
    "doc = nlp(text3)\n",
    "\n",
    "#extract entities\n",
    "for ent in doc.ents:\n",
    "    print(ent.text, ent.label_)"
   ]
  },
  {
   "cell_type": "code",
   "execution_count": null,
   "id": "0b763065",
   "metadata": {},
   "outputs": [],
   "source": []
  }
 ],
 "metadata": {
  "kernelspec": {
   "display_name": "Python 3",
   "language": "python",
   "name": "python3"
  },
  "language_info": {
   "codemirror_mode": {
    "name": "ipython",
    "version": 3
   },
   "file_extension": ".py",
   "mimetype": "text/x-python",
   "name": "python",
   "nbconvert_exporter": "python",
   "pygments_lexer": "ipython3",
   "version": "3.8.8"
  }
 },
 "nbformat": 4,
 "nbformat_minor": 5
}
