{
 "cells": [
  {
   "cell_type": "code",
   "execution_count": 1,
   "id": "c0b13972",
   "metadata": {},
   "outputs": [],
   "source": [
    "import nltk\n",
    "from nltk.stem import PorterStemmer\n",
    "from nltk.corpus import stopwords"
   ]
  },
  {
   "cell_type": "code",
   "execution_count": 2,
   "id": "8bfa4a8f",
   "metadata": {},
   "outputs": [],
   "source": [
    "paragraph = 'Ir. H. Joko Widodo ( Indonesian pronunciation; born June 21, 1961), or better known as Jokowi , is the President of Indonesia who has been in office since October 20, 2014. Elected in the 2014 Presidential Election , Jokowi became the first President of Indonesia in history. who do not come from an elite Indonesian political or military background . He was elected with Vice President Muhammad Jusuf Kalla and was re-elected with Vice President Maruf Amin in the 2019 Presidential Election . Previously, Jokowi had served as the Governor of DKI Jakarta from 15 October 2012 to 16 October 2014 accompanied by Basuki Tjahaja Purnama as deputy governor. Previously, he was the Mayor of Surakarta ( Solo ), from July 28, 2005 to October 1, 2012 accompanied by FX Hadi Rudyatmo as deputy mayor. [7] Two years into his second term as Mayor of Solo, Jokowi was appointed by his party, the Indonesian Democratic Party of Struggle (PDI-P), to compete in the election for the Governor of DKI Jakarta with Basuki Tjahaja Purnama (Ahok). [8]'"
   ]
  },
  {
   "cell_type": "code",
   "execution_count": 3,
   "id": "4247668f",
   "metadata": {},
   "outputs": [
    {
     "data": {
      "text/plain": [
       "'Ir. H. Joko Widodo ( Indonesian pronunciation; born June 21, 1961), or better known as Jokowi , is the President of Indonesia who has been in office since October 20, 2014. Elected in the 2014 Presidential Election , Jokowi became the first President of Indonesia in history. who do not come from an elite Indonesian political or military background . He was elected with Vice President Muhammad Jusuf Kalla and was re-elected with Vice President Maruf Amin in the 2019 Presidential Election . Previously, Jokowi had served as the Governor of DKI Jakarta from 15 October 2012 to 16 October 2014 accompanied by Basuki Tjahaja Purnama as deputy governor. Previously, he was the Mayor of Surakarta ( Solo ), from July 28, 2005 to October 1, 2012 accompanied by FX Hadi Rudyatmo as deputy mayor. [7] Two years into his second term as Mayor of Solo, Jokowi was appointed by his party, the Indonesian Democratic Party of Struggle (PDI-P), to compete in the election for the Governor of DKI Jakarta with Basuki Tjahaja Purnama (Ahok). [8]'"
      ]
     },
     "execution_count": 3,
     "metadata": {},
     "output_type": "execute_result"
    }
   ],
   "source": [
    "paragraph"
   ]
  },
  {
   "cell_type": "code",
   "execution_count": 4,
   "id": "e5718f50",
   "metadata": {},
   "outputs": [
    {
     "name": "stderr",
     "output_type": "stream",
     "text": [
      "[nltk_data] Downloading package punkt to C:\\Users\\Ryan Bobby\n",
      "[nltk_data]     A\\AppData\\Roaming\\nltk_data...\n",
      "[nltk_data]   Package punkt is already up-to-date!\n"
     ]
    }
   ],
   "source": [
    "## Tokenization -- converts paragraph-sentences-words\n",
    "nltk.download('punkt')\n",
    "sentences = nltk.sent_tokenize(paragraph)"
   ]
  },
  {
   "cell_type": "code",
   "execution_count": 5,
   "id": "12f65f81",
   "metadata": {},
   "outputs": [
    {
     "name": "stderr",
     "output_type": "stream",
     "text": [
      "[nltk_data] Downloading package stopwords to C:\\Users\\Ryan Bobby\n",
      "[nltk_data]     A\\AppData\\Roaming\\nltk_data...\n",
      "[nltk_data]   Package stopwords is already up-to-date!\n"
     ]
    },
    {
     "data": {
      "text/plain": [
       "True"
      ]
     },
     "execution_count": 5,
     "metadata": {},
     "output_type": "execute_result"
    }
   ],
   "source": [
    "nltk.download('stopwords')"
   ]
  },
  {
   "cell_type": "code",
   "execution_count": 6,
   "id": "f3475c30",
   "metadata": {},
   "outputs": [
    {
     "name": "stderr",
     "output_type": "stream",
     "text": [
      "[nltk_data] Downloading package wordnet to C:\\Users\\Ryan Bobby\n",
      "[nltk_data]     A\\AppData\\Roaming\\nltk_data...\n",
      "[nltk_data]   Package wordnet is already up-to-date!\n"
     ]
    },
    {
     "data": {
      "text/plain": [
       "True"
      ]
     },
     "execution_count": 6,
     "metadata": {},
     "output_type": "execute_result"
    }
   ],
   "source": [
    "nltk.download('wordnet')"
   ]
  },
  {
   "cell_type": "code",
   "execution_count": 7,
   "id": "e685aacf",
   "metadata": {
    "scrolled": true
   },
   "outputs": [
    {
     "name": "stdout",
     "output_type": "stream",
     "text": [
      "Ir.\n",
      "\n",
      "\n",
      "H. Joko Widodo ( Indonesian pronunciation; born June 21, 1961), or better known as Jokowi , is the President of Indonesia who has been in office since October 20, 2014.\n",
      "\n",
      "\n",
      "Elected in the 2014 Presidential Election , Jokowi became the first President of Indonesia in history.\n",
      "\n",
      "\n",
      "who do not come from an elite Indonesian political or military background .\n",
      "\n",
      "\n",
      "He was elected with Vice President Muhammad Jusuf Kalla and was re-elected with Vice President Maruf Amin in the 2019 Presidential Election .\n",
      "\n",
      "\n",
      "Previously, Jokowi had served as the Governor of DKI Jakarta from 15 October 2012 to 16 October 2014 accompanied by Basuki Tjahaja Purnama as deputy governor.\n",
      "\n",
      "\n",
      "Previously, he was the Mayor of Surakarta ( Solo ), from July 28, 2005 to October 1, 2012 accompanied by FX Hadi Rudyatmo as deputy mayor.\n",
      "\n",
      "\n",
      "[7] Two years into his second term as Mayor of Solo, Jokowi was appointed by his party, the Indonesian Democratic Party of Struggle (PDI-P), to compete in the election for the Governor of DKI Jakarta with Basuki Tjahaja Purnama (Ahok).\n",
      "\n",
      "\n",
      "[8]\n",
      "\n",
      "\n"
     ]
    }
   ],
   "source": [
    "for i in sentences:\n",
    "    print(i)\n",
    "    print('\\n')"
   ]
  },
  {
   "cell_type": "code",
   "execution_count": 56,
   "id": "240537ed",
   "metadata": {},
   "outputs": [],
   "source": [
    "stemmer = PorterStemmer()"
   ]
  },
  {
   "cell_type": "code",
   "execution_count": 57,
   "id": "a01ee7dc",
   "metadata": {},
   "outputs": [
    {
     "data": {
      "text/plain": [
       "'final'"
      ]
     },
     "execution_count": 57,
     "metadata": {},
     "output_type": "execute_result"
    }
   ],
   "source": [
    "stemmer.stem('going')\n",
    "stemmer.stem('finalize')"
   ]
  },
  {
   "cell_type": "code",
   "execution_count": 58,
   "id": "5ed791d7",
   "metadata": {},
   "outputs": [],
   "source": [
    "from nltk.stem import WordNetLemmatizer"
   ]
  },
  {
   "cell_type": "code",
   "execution_count": 59,
   "id": "df059644",
   "metadata": {},
   "outputs": [],
   "source": [
    "lemmatizer = WordNetLemmatizer()"
   ]
  },
  {
   "cell_type": "code",
   "execution_count": 60,
   "id": "6b47e8c0",
   "metadata": {},
   "outputs": [
    {
     "data": {
      "text/plain": [
       "'go'"
      ]
     },
     "execution_count": 60,
     "metadata": {},
     "output_type": "execute_result"
    }
   ],
   "source": [
    "lemmatizer.lemmatize('goes')"
   ]
  },
  {
   "cell_type": "code",
   "execution_count": 48,
   "id": "32cc14f5",
   "metadata": {},
   "outputs": [],
   "source": [
    "import re"
   ]
  },
  {
   "cell_type": "code",
   "execution_count": 69,
   "id": "b42759a6",
   "metadata": {},
   "outputs": [
    {
     "data": {
      "text/plain": [
       "['Ir ',\n",
       " 'H  Joko Widodo   Indonesian pronunciation  born June            or better known as Jokowi   is the President of Indonesia who has been in office since October          ',\n",
       " 'Elected in the      Presidential Election   Jokowi became the first President of Indonesia in history ',\n",
       " 'who do not come from an elite Indonesian political or military background  ',\n",
       " 'He was elected with Vice President Muhammad Jusuf Kalla and was re elected with Vice President Maruf Amin in the      Presidential Election  ',\n",
       " 'Previously  Jokowi had served as the Governor of DKI Jakarta from    October      to    October      accompanied by Basuki Tjahaja Purnama as deputy governor ',\n",
       " 'Previously  he was the Mayor of Surakarta   Solo    from July          to October         accompanied by FX Hadi Rudyatmo as deputy mayor ',\n",
       " '    Two years into his second term as Mayor of Solo  Jokowi was appointed by his party  the Indonesian Democratic Party of Struggle  PDI P   to compete in the election for the Governor of DKI Jakarta with Basuki Tjahaja Purnama  Ahok  ',\n",
       " '   ']"
      ]
     },
     "execution_count": 69,
     "metadata": {},
     "output_type": "execute_result"
    }
   ],
   "source": [
    "#Paragraphs\n",
    "corpus=[]\n",
    "for i in range(len(sentences)):\n",
    "    review = re.sub('[^a-zA-Z]',' ', sentences[i]) #we want to substitute every other character of capital a-z n small a-z, with ' '\n",
    "    review.lower()\n",
    "    corpus.append(review)\n",
    "corpus"
   ]
  },
  {
   "cell_type": "code",
   "execution_count": 63,
   "id": "01bf4de7",
   "metadata": {
    "scrolled": true
   },
   "outputs": [
    {
     "name": "stdout",
     "output_type": "stream",
     "text": [
      "Ir \n",
      "\n",
      "\n",
      "H  Joko Widodo   Indonesian pronunciation  born June            or better known as Jokowi   is the President of Indonesia who has been in office since October          \n",
      "\n",
      "\n",
      "Elected in the      Presidential Election   Jokowi became the first President of Indonesia in history \n",
      "\n",
      "\n",
      "who do not come from an elite Indonesian political or military background  \n",
      "\n",
      "\n",
      "He was elected with Vice President Muhammad Jusuf Kalla and was re elected with Vice President Maruf Amin in the      Presidential Election  \n",
      "\n",
      "\n",
      "Previously  Jokowi had served as the Governor of DKI Jakarta from    October      to    October      accompanied by Basuki Tjahaja Purnama as deputy governor \n",
      "\n",
      "\n",
      "Previously  he was the Mayor of Surakarta   Solo    from July          to October         accompanied by FX Hadi Rudyatmo as deputy mayor \n",
      "\n",
      "\n",
      "    Two years into his second term as Mayor of Solo  Jokowi was appointed by his party  the Indonesian Democratic Party of Struggle  PDI P   to compete in the election for the Governor of DKI Jakarta with Basuki Tjahaja Purnama  Ahok  \n",
      "\n",
      "\n",
      "   \n",
      "\n",
      "\n"
     ]
    }
   ],
   "source": [
    "for i in corpus:\n",
    "    print(i)\n",
    "    print('\\n')"
   ]
  },
  {
   "cell_type": "code",
   "execution_count": 64,
   "id": "e03e02d0",
   "metadata": {
    "scrolled": true
   },
   "outputs": [
    {
     "data": {
      "text/plain": [
       "['i',\n",
       " 'me',\n",
       " 'my',\n",
       " 'myself',\n",
       " 'we',\n",
       " 'our',\n",
       " 'ours',\n",
       " 'ourselves',\n",
       " 'you',\n",
       " \"you're\",\n",
       " \"you've\",\n",
       " \"you'll\",\n",
       " \"you'd\",\n",
       " 'your',\n",
       " 'yours',\n",
       " 'yourself',\n",
       " 'yourselves',\n",
       " 'he',\n",
       " 'him',\n",
       " 'his',\n",
       " 'himself',\n",
       " 'she',\n",
       " \"she's\",\n",
       " 'her',\n",
       " 'hers',\n",
       " 'herself',\n",
       " 'it',\n",
       " \"it's\",\n",
       " 'its',\n",
       " 'itself',\n",
       " 'they',\n",
       " 'them',\n",
       " 'their',\n",
       " 'theirs',\n",
       " 'themselves',\n",
       " 'what',\n",
       " 'which',\n",
       " 'who',\n",
       " 'whom',\n",
       " 'this',\n",
       " 'that',\n",
       " \"that'll\",\n",
       " 'these',\n",
       " 'those',\n",
       " 'am',\n",
       " 'is',\n",
       " 'are',\n",
       " 'was',\n",
       " 'were',\n",
       " 'be',\n",
       " 'been',\n",
       " 'being',\n",
       " 'have',\n",
       " 'has',\n",
       " 'had',\n",
       " 'having',\n",
       " 'do',\n",
       " 'does',\n",
       " 'did',\n",
       " 'doing',\n",
       " 'a',\n",
       " 'an',\n",
       " 'the',\n",
       " 'and',\n",
       " 'but',\n",
       " 'if',\n",
       " 'or',\n",
       " 'because',\n",
       " 'as',\n",
       " 'until',\n",
       " 'while',\n",
       " 'of',\n",
       " 'at',\n",
       " 'by',\n",
       " 'for',\n",
       " 'with',\n",
       " 'about',\n",
       " 'against',\n",
       " 'between',\n",
       " 'into',\n",
       " 'through',\n",
       " 'during',\n",
       " 'before',\n",
       " 'after',\n",
       " 'above',\n",
       " 'below',\n",
       " 'to',\n",
       " 'from',\n",
       " 'up',\n",
       " 'down',\n",
       " 'in',\n",
       " 'out',\n",
       " 'on',\n",
       " 'off',\n",
       " 'over',\n",
       " 'under',\n",
       " 'again',\n",
       " 'further',\n",
       " 'then',\n",
       " 'once',\n",
       " 'here',\n",
       " 'there',\n",
       " 'when',\n",
       " 'where',\n",
       " 'why',\n",
       " 'how',\n",
       " 'all',\n",
       " 'any',\n",
       " 'both',\n",
       " 'each',\n",
       " 'few',\n",
       " 'more',\n",
       " 'most',\n",
       " 'other',\n",
       " 'some',\n",
       " 'such',\n",
       " 'no',\n",
       " 'nor',\n",
       " 'not',\n",
       " 'only',\n",
       " 'own',\n",
       " 'same',\n",
       " 'so',\n",
       " 'than',\n",
       " 'too',\n",
       " 'very',\n",
       " 's',\n",
       " 't',\n",
       " 'can',\n",
       " 'will',\n",
       " 'just',\n",
       " 'don',\n",
       " \"don't\",\n",
       " 'should',\n",
       " \"should've\",\n",
       " 'now',\n",
       " 'd',\n",
       " 'll',\n",
       " 'm',\n",
       " 'o',\n",
       " 're',\n",
       " 've',\n",
       " 'y',\n",
       " 'ain',\n",
       " 'aren',\n",
       " \"aren't\",\n",
       " 'couldn',\n",
       " \"couldn't\",\n",
       " 'didn',\n",
       " \"didn't\",\n",
       " 'doesn',\n",
       " \"doesn't\",\n",
       " 'hadn',\n",
       " \"hadn't\",\n",
       " 'hasn',\n",
       " \"hasn't\",\n",
       " 'haven',\n",
       " \"haven't\",\n",
       " 'isn',\n",
       " \"isn't\",\n",
       " 'ma',\n",
       " 'mightn',\n",
       " \"mightn't\",\n",
       " 'mustn',\n",
       " \"mustn't\",\n",
       " 'needn',\n",
       " \"needn't\",\n",
       " 'shan',\n",
       " \"shan't\",\n",
       " 'shouldn',\n",
       " \"shouldn't\",\n",
       " 'wasn',\n",
       " \"wasn't\",\n",
       " 'weren',\n",
       " \"weren't\",\n",
       " 'won',\n",
       " \"won't\",\n",
       " 'wouldn',\n",
       " \"wouldn't\"]"
      ]
     },
     "execution_count": 64,
     "metadata": {},
     "output_type": "execute_result"
    }
   ],
   "source": [
    "stopwords.words('english')"
   ]
  },
  {
   "cell_type": "code",
   "execution_count": 67,
   "id": "e1f5c49c",
   "metadata": {
    "scrolled": true
   },
   "outputs": [
    {
     "name": "stdout",
     "output_type": "stream",
     "text": [
      "ir\n",
      "h\n",
      "joko\n",
      "widodo\n",
      "indonesian\n",
      "pronunci\n",
      "born\n",
      "june\n",
      "better\n",
      "known\n",
      "jokowi\n",
      "presid\n",
      "indonesia\n",
      "offic\n",
      "sinc\n",
      "octob\n",
      "elect\n",
      "presidenti\n",
      "elect\n",
      "jokowi\n",
      "becam\n",
      "first\n",
      "presid\n",
      "indonesia\n",
      "histori\n",
      "come\n",
      "elit\n",
      "indonesian\n",
      "polit\n",
      "militari\n",
      "background\n",
      "he\n",
      "elect\n",
      "vice\n",
      "presid\n",
      "muhammad\n",
      "jusuf\n",
      "kalla\n",
      "elect\n",
      "vice\n",
      "presid\n",
      "maruf\n",
      "amin\n",
      "presidenti\n",
      "elect\n",
      "previous\n",
      "jokowi\n",
      "serv\n",
      "governor\n",
      "dki\n",
      "jakarta\n",
      "octob\n",
      "octob\n",
      "accompani\n",
      "basuki\n",
      "tjahaja\n",
      "purnama\n",
      "deputi\n",
      "governor\n",
      "previous\n",
      "mayor\n",
      "surakarta\n",
      "solo\n",
      "juli\n",
      "octob\n",
      "accompani\n",
      "fx\n",
      "hadi\n",
      "rudyatmo\n",
      "deputi\n",
      "mayor\n",
      "two\n",
      "year\n",
      "second\n",
      "term\n",
      "mayor\n",
      "solo\n",
      "jokowi\n",
      "appoint\n",
      "parti\n",
      "indonesian\n",
      "democrat\n",
      "parti\n",
      "struggl\n",
      "pdi\n",
      "p\n",
      "compet\n",
      "elect\n",
      "governor\n",
      "dki\n",
      "jakarta\n",
      "basuki\n",
      "tjahaja\n",
      "purnama\n",
      "ahok\n"
     ]
    }
   ],
   "source": [
    "#Stemming\n",
    "for i in corpus:\n",
    "    words = nltk.word_tokenize(i) #Sentence to Words\n",
    "    for word in words:\n",
    "        if word not in stopwords.words('english'):\n",
    "            print(stemmer.stem(word))"
   ]
  },
  {
   "cell_type": "code",
   "execution_count": 68,
   "id": "63fb7f6c",
   "metadata": {
    "scrolled": true
   },
   "outputs": [
    {
     "name": "stdout",
     "output_type": "stream",
     "text": [
      "Ir\n",
      "H\n",
      "Joko\n",
      "Widodo\n",
      "Indonesian\n",
      "pronunciation\n",
      "born\n",
      "June\n",
      "better\n",
      "known\n",
      "Jokowi\n",
      "President\n",
      "Indonesia\n",
      "office\n",
      "since\n",
      "October\n",
      "Elected\n",
      "Presidential\n",
      "Election\n",
      "Jokowi\n",
      "became\n",
      "first\n",
      "President\n",
      "Indonesia\n",
      "history\n",
      "come\n",
      "elite\n",
      "Indonesian\n",
      "political\n",
      "military\n",
      "background\n",
      "He\n",
      "elected\n",
      "Vice\n",
      "President\n",
      "Muhammad\n",
      "Jusuf\n",
      "Kalla\n",
      "elected\n",
      "Vice\n",
      "President\n",
      "Maruf\n",
      "Amin\n",
      "Presidential\n",
      "Election\n",
      "Previously\n",
      "Jokowi\n",
      "served\n",
      "Governor\n",
      "DKI\n",
      "Jakarta\n",
      "October\n",
      "October\n",
      "accompanied\n",
      "Basuki\n",
      "Tjahaja\n",
      "Purnama\n",
      "deputy\n",
      "governor\n",
      "Previously\n",
      "Mayor\n",
      "Surakarta\n",
      "Solo\n",
      "July\n",
      "October\n",
      "accompanied\n",
      "FX\n",
      "Hadi\n",
      "Rudyatmo\n",
      "deputy\n",
      "mayor\n",
      "Two\n",
      "year\n",
      "second\n",
      "term\n",
      "Mayor\n",
      "Solo\n",
      "Jokowi\n",
      "appointed\n",
      "party\n",
      "Indonesian\n",
      "Democratic\n",
      "Party\n",
      "Struggle\n",
      "PDI\n",
      "P\n",
      "compete\n",
      "election\n",
      "Governor\n",
      "DKI\n",
      "Jakarta\n",
      "Basuki\n",
      "Tjahaja\n",
      "Purnama\n",
      "Ahok\n"
     ]
    }
   ],
   "source": [
    "# Lemmatization\n",
    "for i in corpus:\n",
    "    words = nltk.word_tokenize(i) #Sentence to Words\n",
    "    for word in words:\n",
    "        if word not in stopwords.words('english'):\n",
    "            print(lemmatizer.lemmatize(word))"
   ]
  },
  {
   "cell_type": "code",
   "execution_count": 103,
   "id": "646b9b1b",
   "metadata": {},
   "outputs": [
    {
     "data": {
      "text/plain": [
       "'ryan-bobb-and'"
      ]
     },
     "execution_count": 103,
     "metadata": {},
     "output_type": "execute_result"
    }
   ],
   "source": [
    "a = ['ryan','bobb','and']\n",
    "'-'.join(a)"
   ]
  },
  {
   "cell_type": "code",
   "execution_count": 92,
   "id": "ec9da911",
   "metadata": {},
   "outputs": [
    {
     "data": {
      "text/plain": [
       "['ir',\n",
       " 'h joko widodo indonesian pronunciation born june better known jokowi president indonesia office since october',\n",
       " 'elected presidential election jokowi became first president indonesia history',\n",
       " 'come elite indonesian political military background',\n",
       " 'elected vice president muhammad jusuf kalla elected vice president maruf amin presidential election',\n",
       " 'previously jokowi served governor dki jakarta october october accompanied basuki tjahaja purnama deputy governor',\n",
       " 'previously mayor surakarta solo july october accompanied fx hadi rudyatmo deputy mayor',\n",
       " 'two year second term mayor solo jokowi appointed party indonesian democratic party struggle pdi p compete election governor dki jakarta basuki tjahaja purnama ahok',\n",
       " '']"
      ]
     },
     "execution_count": 92,
     "metadata": {},
     "output_type": "execute_result"
    }
   ],
   "source": [
    "# Aply Stopword in Lemmatization\n",
    "#Paragraphs\n",
    "corpus=[]\n",
    "for i in range(len(sentences)):\n",
    "    review = re.sub('[^a-zA-Z]',' ', sentences[i]) #we want to substitute every other character of capital a-z n small a-z, with ' '\n",
    "    review = review.lower()\n",
    "    review = review.split()\n",
    "    review = [lemmatizer.lemmatize(word) for word in review if not word in set(stopwords.words('english'))]\n",
    "    review = ' '.join(review)\n",
    "    corpus.append(review)\n",
    "corpus"
   ]
  },
  {
   "cell_type": "markdown",
   "id": "081d9604",
   "metadata": {},
   "source": [
    "## Bag of Words (BOW)"
   ]
  },
  {
   "cell_type": "code",
   "execution_count": 93,
   "id": "2fd5fdbc",
   "metadata": {},
   "outputs": [],
   "source": [
    "#Bag of Words\n",
    "from sklearn.feature_extraction.text import CountVectorizer\n",
    "cv = CountVectorizer()"
   ]
  },
  {
   "cell_type": "code",
   "execution_count": 94,
   "id": "46398f19",
   "metadata": {},
   "outputs": [],
   "source": [
    "#Create Bag of Words Based on the Index or Feature Number from the vocabulary\n",
    "X = cv.fit_transform(corpus)"
   ]
  },
  {
   "cell_type": "code",
   "execution_count": 95,
   "id": "781e108d",
   "metadata": {
    "scrolled": true
   },
   "outputs": [
    {
     "data": {
      "text/plain": [
       "{'ir': 24,\n",
       " 'joko': 26,\n",
       " 'widodo': 58,\n",
       " 'indonesian': 23,\n",
       " 'pronunciation': 45,\n",
       " 'born': 8,\n",
       " 'june': 29,\n",
       " 'better': 7,\n",
       " 'known': 32,\n",
       " 'jokowi': 27,\n",
       " 'president': 42,\n",
       " 'indonesia': 22,\n",
       " 'office': 38,\n",
       " 'since': 50,\n",
       " 'october': 37,\n",
       " 'elected': 14,\n",
       " 'presidential': 43,\n",
       " 'election': 15,\n",
       " 'became': 6,\n",
       " 'first': 17,\n",
       " 'history': 21,\n",
       " 'come': 9,\n",
       " 'elite': 16,\n",
       " 'political': 41,\n",
       " 'military': 35,\n",
       " 'background': 4,\n",
       " 'vice': 57,\n",
       " 'muhammad': 36,\n",
       " 'jusuf': 30,\n",
       " 'kalla': 31,\n",
       " 'maruf': 33,\n",
       " 'amin': 2,\n",
       " 'previously': 44,\n",
       " 'served': 49,\n",
       " 'governor': 19,\n",
       " 'dki': 13,\n",
       " 'jakarta': 25,\n",
       " 'accompanied': 0,\n",
       " 'basuki': 5,\n",
       " 'tjahaja': 55,\n",
       " 'purnama': 46,\n",
       " 'deputy': 12,\n",
       " 'mayor': 34,\n",
       " 'surakarta': 53,\n",
       " 'solo': 51,\n",
       " 'july': 28,\n",
       " 'fx': 18,\n",
       " 'hadi': 20,\n",
       " 'rudyatmo': 47,\n",
       " 'two': 56,\n",
       " 'year': 59,\n",
       " 'second': 48,\n",
       " 'term': 54,\n",
       " 'appointed': 3,\n",
       " 'party': 39,\n",
       " 'democratic': 11,\n",
       " 'struggle': 52,\n",
       " 'pdi': 40,\n",
       " 'compete': 10,\n",
       " 'ahok': 1}"
      ]
     },
     "execution_count": 95,
     "metadata": {},
     "output_type": "execute_result"
    }
   ],
   "source": [
    "cv.vocabulary_"
   ]
  },
  {
   "cell_type": "code",
   "execution_count": 96,
   "id": "20eb7ffd",
   "metadata": {},
   "outputs": [
    {
     "data": {
      "text/plain": [
       "'h joko widodo indonesian pronunciation born june better known jokowi president indonesia office since october'"
      ]
     },
     "execution_count": 96,
     "metadata": {},
     "output_type": "execute_result"
    }
   ],
   "source": [
    "corpus[1]"
   ]
  },
  {
   "cell_type": "code",
   "execution_count": 97,
   "id": "ecb507cf",
   "metadata": {},
   "outputs": [
    {
     "data": {
      "text/plain": [
       "array([[0, 0, 0, 0, 0, 0, 0, 1, 1, 0, 0, 0, 0, 0, 0, 0, 0, 0, 0, 0, 0, 0,\n",
       "        1, 1, 0, 0, 1, 1, 0, 1, 0, 0, 1, 0, 0, 0, 0, 1, 1, 0, 0, 0, 1, 0,\n",
       "        0, 1, 0, 0, 0, 0, 1, 0, 0, 0, 0, 0, 0, 0, 1, 0]], dtype=int64)"
      ]
     },
     "execution_count": 97,
     "metadata": {},
     "output_type": "execute_result"
    }
   ],
   "source": [
    "X[1].toarray()"
   ]
  },
  {
   "cell_type": "code",
   "execution_count": 98,
   "id": "a1159d7e",
   "metadata": {},
   "outputs": [
    {
     "data": {
      "text/plain": [
       "'elected presidential election jokowi became first president indonesia history'"
      ]
     },
     "execution_count": 98,
     "metadata": {},
     "output_type": "execute_result"
    }
   ],
   "source": [
    "corpus[2]"
   ]
  },
  {
   "cell_type": "code",
   "execution_count": 99,
   "id": "95c7e12a",
   "metadata": {},
   "outputs": [
    {
     "data": {
      "text/plain": [
       "array([[0, 0, 0, 0, 0, 0, 1, 0, 0, 0, 0, 0, 0, 0, 1, 1, 0, 1, 0, 0, 0, 1,\n",
       "        1, 0, 0, 0, 0, 1, 0, 0, 0, 0, 0, 0, 0, 0, 0, 0, 0, 0, 0, 0, 1, 1,\n",
       "        0, 0, 0, 0, 0, 0, 0, 0, 0, 0, 0, 0, 0, 0, 0, 0]], dtype=int64)"
      ]
     },
     "execution_count": 99,
     "metadata": {},
     "output_type": "execute_result"
    }
   ],
   "source": [
    "X[2].toarray()"
   ]
  },
  {
   "cell_type": "code",
   "execution_count": 100,
   "id": "941d64f8",
   "metadata": {},
   "outputs": [
    {
     "data": {
      "text/plain": [
       "array([[0, 0, 0, 0, 0, 0, 1, 0, 0, 0, 0, 0, 0, 0, 1, 1, 0, 1, 0, 0, 0, 1,\n",
       "        1, 0, 0, 0, 0, 1, 0, 0, 0, 0, 0, 0, 0, 0, 0, 0, 0, 0, 0, 0, 1, 1,\n",
       "        0, 0, 0, 0, 0, 0, 0, 0, 0, 0, 0, 0, 0, 0, 0, 0]], dtype=int64)"
      ]
     },
     "execution_count": 100,
     "metadata": {},
     "output_type": "execute_result"
    }
   ],
   "source": [
    "#With Binary, only 1 or 0\n",
    "cv = CountVectorizer(binary = True)\n",
    "X = cv.fit_transform(corpus)\n",
    "X[2].toarray()"
   ]
  },
  {
   "cell_type": "code",
   "execution_count": 104,
   "id": "2853e631",
   "metadata": {
    "scrolled": true
   },
   "outputs": [
    {
     "data": {
      "text/plain": [
       "{'joko widodo indonesian': 28,\n",
       " 'widodo indonesian pronunciation': 72,\n",
       " 'indonesian pronunciation born': 25,\n",
       " 'pronunciation born june': 57,\n",
       " 'born june better': 7,\n",
       " 'june better known': 34,\n",
       " 'better known jokowi': 6,\n",
       " 'known jokowi president': 37,\n",
       " 'jokowi president indonesia': 31,\n",
       " 'president indonesia office': 51,\n",
       " 'indonesia office since': 22,\n",
       " 'office since october': 45,\n",
       " 'elected presidential election': 13,\n",
       " 'presidential election jokowi': 54,\n",
       " 'election jokowi became': 16,\n",
       " 'jokowi became first': 30,\n",
       " 'became first president': 5,\n",
       " 'first president indonesia': 18,\n",
       " 'president indonesia history': 50,\n",
       " 'come elite indonesian': 8,\n",
       " 'elite indonesian political': 17,\n",
       " 'indonesian political military': 24,\n",
       " 'political military background': 49,\n",
       " 'elected vice president': 14,\n",
       " 'vice president muhammad': 71,\n",
       " 'president muhammad jusuf': 53,\n",
       " 'muhammad jusuf kalla': 41,\n",
       " 'jusuf kalla elected': 35,\n",
       " 'kalla elected vice': 36,\n",
       " 'vice president maruf': 70,\n",
       " 'president maruf amin': 52,\n",
       " 'maruf amin presidential': 38,\n",
       " 'amin presidential election': 2,\n",
       " 'previously jokowi served': 55,\n",
       " 'jokowi served governor': 32,\n",
       " 'served governor dki': 61,\n",
       " 'governor dki jakarta': 20,\n",
       " 'dki jakarta october': 12,\n",
       " 'jakarta october october': 27,\n",
       " 'october october accompanied': 44,\n",
       " 'october accompanied basuki': 42,\n",
       " 'accompanied basuki tjahaja': 0,\n",
       " 'basuki tjahaja purnama': 4,\n",
       " 'tjahaja purnama deputy': 68,\n",
       " 'purnama deputy governor': 58,\n",
       " 'previously mayor surakarta': 56,\n",
       " 'mayor surakarta solo': 40,\n",
       " 'surakarta solo july': 65,\n",
       " 'solo july october': 63,\n",
       " 'july october accompanied': 33,\n",
       " 'october accompanied fx': 43,\n",
       " 'accompanied fx hadi': 1,\n",
       " 'fx hadi rudyatmo': 19,\n",
       " 'hadi rudyatmo deputy': 21,\n",
       " 'rudyatmo deputy mayor': 59,\n",
       " 'two year second': 69,\n",
       " 'year second term': 73,\n",
       " 'second term mayor': 60,\n",
       " 'term mayor solo': 66,\n",
       " 'mayor solo jokowi': 39,\n",
       " 'solo jokowi appointed': 62,\n",
       " 'jokowi appointed party': 29,\n",
       " 'appointed party indonesian': 3,\n",
       " 'party indonesian democratic': 46,\n",
       " 'indonesian democratic party': 23,\n",
       " 'democratic party struggle': 10,\n",
       " 'party struggle pdi': 47,\n",
       " 'struggle pdi compete': 64,\n",
       " 'pdi compete election': 48,\n",
       " 'compete election governor': 9,\n",
       " 'election governor dki': 15,\n",
       " 'dki jakarta basuki': 11,\n",
       " 'jakarta basuki tjahaja': 26,\n",
       " 'tjahaja purnama ahok': 67}"
      ]
     },
     "execution_count": 104,
     "metadata": {},
     "output_type": "execute_result"
    }
   ],
   "source": [
    "#With Binary, only 1 or 0. And Ngram (3,3) will grab 3 words among 3 words\n",
    "cv = CountVectorizer(binary = True, ngram_range=(3,3))\n",
    "X = cv.fit_transform(corpus)\n",
    "cv.vocabulary_"
   ]
  },
  {
   "cell_type": "code",
   "execution_count": 105,
   "id": "5d764f1a",
   "metadata": {},
   "outputs": [
    {
     "data": {
      "text/plain": [
       "{'joko widodo': 58,\n",
       " 'widodo indonesian': 145,\n",
       " 'indonesian pronunciation': 52,\n",
       " 'pronunciation born': 115,\n",
       " 'born june': 14,\n",
       " 'june better': 70,\n",
       " 'better known': 12,\n",
       " 'known jokowi': 76,\n",
       " 'jokowi president': 64,\n",
       " 'president indonesia': 102,\n",
       " 'indonesia office': 46,\n",
       " 'office since': 92,\n",
       " 'since october': 126,\n",
       " 'joko widodo indonesian': 59,\n",
       " 'widodo indonesian pronunciation': 146,\n",
       " 'indonesian pronunciation born': 53,\n",
       " 'pronunciation born june': 116,\n",
       " 'born june better': 15,\n",
       " 'june better known': 71,\n",
       " 'better known jokowi': 13,\n",
       " 'known jokowi president': 77,\n",
       " 'jokowi president indonesia': 65,\n",
       " 'president indonesia office': 104,\n",
       " 'indonesia office since': 47,\n",
       " 'office since october': 93,\n",
       " 'elected presidential': 27,\n",
       " 'presidential election': 109,\n",
       " 'election jokowi': 33,\n",
       " 'jokowi became': 62,\n",
       " 'became first': 10,\n",
       " 'first president': 37,\n",
       " 'indonesia history': 45,\n",
       " 'elected presidential election': 28,\n",
       " 'presidential election jokowi': 110,\n",
       " 'election jokowi became': 34,\n",
       " 'jokowi became first': 63,\n",
       " 'became first president': 11,\n",
       " 'first president indonesia': 38,\n",
       " 'president indonesia history': 103,\n",
       " 'come elite': 16,\n",
       " 'elite indonesian': 35,\n",
       " 'indonesian political': 50,\n",
       " 'political military': 100,\n",
       " 'military background': 84,\n",
       " 'come elite indonesian': 17,\n",
       " 'elite indonesian political': 36,\n",
       " 'indonesian political military': 51,\n",
       " 'political military background': 101,\n",
       " 'elected vice': 29,\n",
       " 'vice president': 142,\n",
       " 'president muhammad': 107,\n",
       " 'muhammad jusuf': 85,\n",
       " 'jusuf kalla': 72,\n",
       " 'kalla elected': 74,\n",
       " 'president maruf': 105,\n",
       " 'maruf amin': 78,\n",
       " 'amin presidential': 4,\n",
       " 'elected vice president': 30,\n",
       " 'vice president muhammad': 144,\n",
       " 'president muhammad jusuf': 108,\n",
       " 'muhammad jusuf kalla': 86,\n",
       " 'jusuf kalla elected': 73,\n",
       " 'kalla elected vice': 75,\n",
       " 'vice president maruf': 143,\n",
       " 'president maruf amin': 106,\n",
       " 'maruf amin presidential': 79,\n",
       " 'amin presidential election': 5,\n",
       " 'previously jokowi': 111,\n",
       " 'jokowi served': 66,\n",
       " 'served governor': 124,\n",
       " 'governor dki': 41,\n",
       " 'dki jakarta': 24,\n",
       " 'jakarta october': 56,\n",
       " 'october october': 90,\n",
       " 'october accompanied': 87,\n",
       " 'accompanied basuki': 0,\n",
       " 'basuki tjahaja': 8,\n",
       " 'tjahaja purnama': 137,\n",
       " 'purnama deputy': 118,\n",
       " 'deputy governor': 22,\n",
       " 'previously jokowi served': 112,\n",
       " 'jokowi served governor': 67,\n",
       " 'served governor dki': 125,\n",
       " 'governor dki jakarta': 42,\n",
       " 'dki jakarta october': 26,\n",
       " 'jakarta october october': 57,\n",
       " 'october october accompanied': 91,\n",
       " 'october accompanied basuki': 88,\n",
       " 'accompanied basuki tjahaja': 1,\n",
       " 'basuki tjahaja purnama': 9,\n",
       " 'tjahaja purnama deputy': 139,\n",
       " 'purnama deputy governor': 119,\n",
       " 'previously mayor': 113,\n",
       " 'mayor surakarta': 82,\n",
       " 'surakarta solo': 133,\n",
       " 'solo july': 129,\n",
       " 'july october': 68,\n",
       " 'accompanied fx': 2,\n",
       " 'fx hadi': 39,\n",
       " 'hadi rudyatmo': 43,\n",
       " 'rudyatmo deputy': 120,\n",
       " 'deputy mayor': 23,\n",
       " 'previously mayor surakarta': 114,\n",
       " 'mayor surakarta solo': 83,\n",
       " 'surakarta solo july': 134,\n",
       " 'solo july october': 130,\n",
       " 'july october accompanied': 69,\n",
       " 'october accompanied fx': 89,\n",
       " 'accompanied fx hadi': 3,\n",
       " 'fx hadi rudyatmo': 40,\n",
       " 'hadi rudyatmo deputy': 44,\n",
       " 'rudyatmo deputy mayor': 121,\n",
       " 'two year': 140,\n",
       " 'year second': 147,\n",
       " 'second term': 122,\n",
       " 'term mayor': 135,\n",
       " 'mayor solo': 80,\n",
       " 'solo jokowi': 127,\n",
       " 'jokowi appointed': 60,\n",
       " 'appointed party': 6,\n",
       " 'party indonesian': 94,\n",
       " 'indonesian democratic': 48,\n",
       " 'democratic party': 20,\n",
       " 'party struggle': 96,\n",
       " 'struggle pdi': 131,\n",
       " 'pdi compete': 98,\n",
       " 'compete election': 18,\n",
       " 'election governor': 31,\n",
       " 'jakarta basuki': 54,\n",
       " 'purnama ahok': 117,\n",
       " 'two year second': 141,\n",
       " 'year second term': 148,\n",
       " 'second term mayor': 123,\n",
       " 'term mayor solo': 136,\n",
       " 'mayor solo jokowi': 81,\n",
       " 'solo jokowi appointed': 128,\n",
       " 'jokowi appointed party': 61,\n",
       " 'appointed party indonesian': 7,\n",
       " 'party indonesian democratic': 95,\n",
       " 'indonesian democratic party': 49,\n",
       " 'democratic party struggle': 21,\n",
       " 'party struggle pdi': 97,\n",
       " 'struggle pdi compete': 132,\n",
       " 'pdi compete election': 99,\n",
       " 'compete election governor': 19,\n",
       " 'election governor dki': 32,\n",
       " 'dki jakarta basuki': 25,\n",
       " 'jakarta basuki tjahaja': 55,\n",
       " 'tjahaja purnama ahok': 138}"
      ]
     },
     "execution_count": 105,
     "metadata": {},
     "output_type": "execute_result"
    }
   ],
   "source": [
    "#With Binary, only 1 or 0. And Ngram (2,3) will grab 2 words among 3 words\n",
    "cv = CountVectorizer(binary = True, ngram_range=(2,3))\n",
    "X = cv.fit_transform(corpus)\n",
    "cv.vocabulary_"
   ]
  },
  {
   "cell_type": "markdown",
   "id": "fe9c078d",
   "metadata": {},
   "source": [
    "## TF-IDF"
   ]
  },
  {
   "cell_type": "code",
   "execution_count": 106,
   "id": "404b7702",
   "metadata": {},
   "outputs": [],
   "source": [
    "from sklearn.feature_extraction.text import TfidfVectorizer"
   ]
  },
  {
   "cell_type": "code",
   "execution_count": 115,
   "id": "2981ec3d",
   "metadata": {},
   "outputs": [
    {
     "data": {
      "text/plain": [
       "array([[0.        , 0.        , 0.        , 0.        , 0.        ,\n",
       "        0.        , 0.        , 0.        , 0.        , 0.        ,\n",
       "        0.26327869, 0.26327869, 0.        , 0.        , 0.        ,\n",
       "        0.        , 0.        , 0.        , 0.        , 0.        ,\n",
       "        0.        , 0.        , 0.        , 0.        , 0.        ,\n",
       "        0.        , 0.        , 0.26327869, 0.26327869, 0.        ,\n",
       "        0.        , 0.        , 0.        , 0.26327869, 0.26327869,\n",
       "        0.        , 0.        , 0.26327869, 0.26327869, 0.        ,\n",
       "        0.        , 0.        , 0.        , 0.        , 0.        ,\n",
       "        0.26327869, 0.        , 0.        , 0.        , 0.        ,\n",
       "        0.        , 0.        , 0.        , 0.        , 0.        ,\n",
       "        0.        , 0.        , 0.        , 0.        , 0.        ,\n",
       "        0.        , 0.        , 0.26327869, 0.26327869, 0.        ,\n",
       "        0.        , 0.        , 0.        , 0.        , 0.        ,\n",
       "        0.        , 0.        , 0.        , 0.        , 0.        ,\n",
       "        0.        , 0.        , 0.        , 0.        , 0.        ,\n",
       "        0.        , 0.        , 0.        , 0.        , 0.        ,\n",
       "        0.        , 0.        , 0.        , 0.        , 0.        ,\n",
       "        0.        , 0.        , 0.        , 0.        , 0.        ,\n",
       "        0.        , 0.        , 0.        , 0.        , 0.        ,\n",
       "        0.        , 0.        , 0.22236938, 0.26327869, 0.        ,\n",
       "        0.        , 0.        , 0.        , 0.        , 0.22236938,\n",
       "        0.26327869, 0.        , 0.        , 0.        , 0.        ,\n",
       "        0.        , 0.        , 0.        , 0.        , 0.        ,\n",
       "        0.        , 0.        , 0.        , 0.        , 0.        ,\n",
       "        0.        , 0.        , 0.        , 0.        , 0.        ,\n",
       "        0.        , 0.        , 0.        , 0.        , 0.        ,\n",
       "        0.        , 0.        , 0.        , 0.        , 0.        ,\n",
       "        0.        , 0.        , 0.        , 0.        , 0.        ,\n",
       "        0.        , 0.        , 0.        , 0.        ]])"
      ]
     },
     "execution_count": 115,
     "metadata": {},
     "output_type": "execute_result"
    }
   ],
   "source": [
    "# with Ngram (2,3) will grab 2 words among 3 words.\n",
    "cv = TfidfVectorizer(ngram_range=(2,3))\n",
    "X=cv.fit_transform(corpus)\n",
    "X[2].toarray()\n",
    "#Here, you can see the difference value compare to the BOW"
   ]
  },
  {
   "cell_type": "code",
   "execution_count": 116,
   "id": "ba443375",
   "metadata": {},
   "outputs": [
    {
     "data": {
      "text/plain": [
       "array([[0., 0., 1.]])"
      ]
     },
     "execution_count": 116,
     "metadata": {},
     "output_type": "execute_result"
    }
   ],
   "source": [
    "# with Ngram (2,3) will grab 2 words among 3 words, n with max_features (3) define only top (3) max_features considered.\n",
    "cv = TfidfVectorizer(ngram_range=(2,3), max_features=3)\n",
    "X=cv.fit_transform(corpus)\n",
    "X[2].toarray()"
   ]
  },
  {
   "cell_type": "code",
   "execution_count": null,
   "id": "8f29eda4",
   "metadata": {},
   "outputs": [],
   "source": []
  }
 ],
 "metadata": {
  "kernelspec": {
   "display_name": "Python 3",
   "language": "python",
   "name": "python3"
  },
  "language_info": {
   "codemirror_mode": {
    "name": "ipython",
    "version": 3
   },
   "file_extension": ".py",
   "mimetype": "text/x-python",
   "name": "python",
   "nbconvert_exporter": "python",
   "pygments_lexer": "ipython3",
   "version": "3.8.8"
  }
 },
 "nbformat": 4,
 "nbformat_minor": 5
}
