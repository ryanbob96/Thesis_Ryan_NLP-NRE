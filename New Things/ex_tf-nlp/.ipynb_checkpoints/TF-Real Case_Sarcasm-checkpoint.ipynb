{
 "cells": [
  {
   "cell_type": "code",
   "execution_count": 44,
   "id": "7375ed62",
   "metadata": {},
   "outputs": [],
   "source": [
    "import json\n",
    "import tensorflow as tf\n",
    "import numpy as np"
   ]
  },
  {
   "cell_type": "code",
   "execution_count": 52,
   "id": "0c23db16",
   "metadata": {},
   "outputs": [],
   "source": [
    "vocab_size = 10000\n",
    "embedding_dim = 16\n",
    "max_length = 100\n",
    "trunc_type='post'\n",
    "padding_type='post'\n",
    "oov_tok = \"<OOV>\"\n",
    "training_size = 20000"
   ]
  },
  {
   "cell_type": "markdown",
   "id": "1307e475",
   "metadata": {},
   "source": [
    "## Read the Data"
   ]
  },
  {
   "cell_type": "code",
   "execution_count": 53,
   "id": "d6cd76fa",
   "metadata": {},
   "outputs": [
    {
     "data": {
      "text/plain": [
       "[{'is_sarcastic': 1,\n",
       "  'headline': 'thirtysomething scientists unveil doomsday clock of hair loss',\n",
       "  'article_link': 'https://www.theonion.com/thirtysomething-scientists-unveil-doomsday-clock-of-hai-1819586205'},\n",
       " {'is_sarcastic': 0,\n",
       "  'headline': 'dem rep. totally nails why congress is falling short on gender, racial equality',\n",
       "  'article_link': 'https://www.huffingtonpost.com/entry/donna-edwards-inequality_us_57455f7fe4b055bb1170b207'},\n",
       " {'is_sarcastic': 0,\n",
       "  'headline': 'eat your veggies: 9 deliciously different recipes',\n",
       "  'article_link': 'https://www.huffingtonpost.com/entry/eat-your-veggies-9-delici_b_8899742.html'},\n",
       " {'is_sarcastic': 1,\n",
       "  'headline': 'inclement weather prevents liar from getting to work',\n",
       "  'article_link': 'https://local.theonion.com/inclement-weather-prevents-liar-from-getting-to-work-1819576031'},\n",
       " {'is_sarcastic': 1,\n",
       "  'headline': \"mother comes pretty close to using word 'streaming' correctly\",\n",
       "  'article_link': 'https://www.theonion.com/mother-comes-pretty-close-to-using-word-streaming-cor-1819575546'}]"
      ]
     },
     "execution_count": 53,
     "metadata": {},
     "output_type": "execute_result"
    }
   ],
   "source": [
    "file = open(\"Sarcasm_Headlines_Dataset_v2.json\")\n",
    "json_data = [json.loads(line) for line in file]\n",
    "json_data[0:5]"
   ]
  },
  {
   "cell_type": "code",
   "execution_count": 54,
   "id": "7f3a6797",
   "metadata": {},
   "outputs": [],
   "source": [
    "sentences = []\n",
    "labels = []\n",
    "urls = []\n",
    "for item in json_data:\n",
    "    sentences.append(item['headline'])\n",
    "    labels.append(item['is_sarcastic'])\n",
    "    urls.append(item['article_link'])"
   ]
  },
  {
   "cell_type": "markdown",
   "id": "f808c1f3",
   "metadata": {},
   "source": [
    "## Tokenization, Sequences, and Padding"
   ]
  },
  {
   "cell_type": "code",
   "execution_count": 55,
   "id": "3b00670b",
   "metadata": {},
   "outputs": [
    {
     "name": "stdout",
     "output_type": "stream",
     "text": [
      "[16004   355  3167  7474  2644     3   661  1119     0     0     0     0\n",
      "     0     0     0     0     0     0     0     0     0     0     0     0\n",
      "     0     0     0     0     0     0     0     0     0     0     0     0\n",
      "     0     0     0     0     0     0     0     0     0     0     0     0\n",
      "     0     0     0     0     0     0     0     0     0     0     0     0\n",
      "     0     0     0     0     0     0     0     0     0     0     0     0\n",
      "     0     0     0     0     0     0     0     0     0     0     0     0\n",
      "     0     0     0     0     0     0     0     0     0     0     0     0\n",
      "     0     0     0     0     0     0     0     0     0     0     0     0\n",
      "     0     0     0     0     0     0     0     0     0     0     0     0\n",
      "     0     0     0     0     0     0     0     0     0     0     0     0\n",
      "     0     0     0     0     0     0     0     0     0     0     0     0\n",
      "     0     0     0     0     0     0     0     0]\n",
      "152\n"
     ]
    }
   ],
   "source": [
    "from tensorflow.keras.preprocessing.text import Tokenizer\n",
    "from tensorflow.keras.preprocessing.sequence import pad_sequences\n",
    "tokenizer = Tokenizer(oov_token='<OOV>')\n",
    "tokenizer.fit_on_texts(sentences)\n",
    "word_index = tokenizer.word_index\n",
    "\n",
    "sequences = tokenizer.texts_to_sequences(sentences)\n",
    "padded = pad_sequences(sequences, padding = 'post')\n",
    "print(padded[0])\n",
    "print(padded.shape[1])"
   ]
  },
  {
   "cell_type": "markdown",
   "id": "2f114a93",
   "metadata": {},
   "source": [
    "## Test & Train Data"
   ]
  },
  {
   "cell_type": "code",
   "execution_count": 56,
   "id": "a089d9e3",
   "metadata": {},
   "outputs": [],
   "source": [
    "training_sentences = np.array(sentences[0:training_size])\n",
    "testing_sentences = np.array(sentences[training_size:])\n",
    "training_labels = np.array(labels[0:training_size])\n",
    "testing_labels = np.array(labels[training_size:])"
   ]
  },
  {
   "cell_type": "code",
   "execution_count": 57,
   "id": "17ef4625",
   "metadata": {},
   "outputs": [],
   "source": [
    "tokenizer = Tokenizer(num_words=vocab_size, oov_token=oov_tok)\n",
    "tokenizer.fit_on_texts(training_sentences)\n",
    "\n",
    "word_index = tokenizer.word_index\n",
    "\n",
    "training_sequences = tokenizer.texts_to_sequences(training_sentences)\n",
    "training_padded = pad_sequences(training_sequences, maxlen=max_length, padding=padding_type, truncating=trunc_type)\n",
    "\n",
    "testing_sequences = tokenizer.texts_to_sequences(testing_sentences)\n",
    "testing_padded = pad_sequences(testing_sequences, maxlen=max_length, padding=padding_type, truncating=trunc_type)"
   ]
  },
  {
   "cell_type": "markdown",
   "id": "82067295",
   "metadata": {},
   "source": [
    "## Embedding Techniques"
   ]
  },
  {
   "cell_type": "code",
   "execution_count": 58,
   "id": "595d509b",
   "metadata": {},
   "outputs": [],
   "source": [
    "model = tf.keras.Sequential([\n",
    "    tf.keras.layers.Embedding(vocab_size, embedding_dim, input_length=max_length),\n",
    "    tf.keras.layers.GlobalAveragePooling1D(),\n",
    "    tf.keras.layers.Dense(24, activation='relu'),\n",
    "    tf.keras.layers.Dense(1, activation='sigmoid')\n",
    "])\n",
    "model.compile(loss='binary_crossentropy',optimizer='adam',metrics=['accuracy'])"
   ]
  },
  {
   "cell_type": "code",
   "execution_count": 59,
   "id": "1f7aea02",
   "metadata": {},
   "outputs": [
    {
     "name": "stdout",
     "output_type": "stream",
     "text": [
      "Model: \"sequential_3\"\n",
      "_________________________________________________________________\n",
      " Layer (type)                Output Shape              Param #   \n",
      "=================================================================\n",
      " embedding_3 (Embedding)     (None, 100, 16)           160000    \n",
      "                                                                 \n",
      " global_average_pooling1d_3   (None, 16)               0         \n",
      " (GlobalAveragePooling1D)                                        \n",
      "                                                                 \n",
      " dense_6 (Dense)             (None, 24)                408       \n",
      "                                                                 \n",
      " dense_7 (Dense)             (None, 1)                 25        \n",
      "                                                                 \n",
      "=================================================================\n",
      "Total params: 160,433\n",
      "Trainable params: 160,433\n",
      "Non-trainable params: 0\n",
      "_________________________________________________________________\n"
     ]
    }
   ],
   "source": [
    "model.summary()"
   ]
  },
  {
   "cell_type": "code",
   "execution_count": 60,
   "id": "0ffe383f",
   "metadata": {},
   "outputs": [
    {
     "name": "stdout",
     "output_type": "stream",
     "text": [
      "Epoch 1/30\n",
      "625/625 - 1s - loss: 0.6644 - accuracy: 0.6137 - val_loss: 0.5702 - val_accuracy: 0.8055 - 1s/epoch - 2ms/step\n",
      "Epoch 2/30\n",
      "625/625 - 1s - loss: 0.4394 - accuracy: 0.8281 - val_loss: 0.3822 - val_accuracy: 0.8386 - 722ms/epoch - 1ms/step\n",
      "Epoch 3/30\n",
      "625/625 - 1s - loss: 0.3242 - accuracy: 0.8708 - val_loss: 0.3463 - val_accuracy: 0.8527 - 712ms/epoch - 1ms/step\n",
      "Epoch 4/30\n",
      "625/625 - 1s - loss: 0.2721 - accuracy: 0.8931 - val_loss: 0.3331 - val_accuracy: 0.8579 - 713ms/epoch - 1ms/step\n",
      "Epoch 5/30\n",
      "625/625 - 1s - loss: 0.2347 - accuracy: 0.9097 - val_loss: 0.3450 - val_accuracy: 0.8463 - 712ms/epoch - 1ms/step\n",
      "Epoch 6/30\n",
      "625/625 - 1s - loss: 0.2076 - accuracy: 0.9230 - val_loss: 0.3363 - val_accuracy: 0.8561 - 713ms/epoch - 1ms/step\n",
      "Epoch 7/30\n",
      "625/625 - 1s - loss: 0.1865 - accuracy: 0.9304 - val_loss: 0.3470 - val_accuracy: 0.8517 - 716ms/epoch - 1ms/step\n",
      "Epoch 8/30\n",
      "625/625 - 1s - loss: 0.1676 - accuracy: 0.9390 - val_loss: 0.3600 - val_accuracy: 0.8508 - 736ms/epoch - 1ms/step\n",
      "Epoch 9/30\n",
      "625/625 - 1s - loss: 0.1516 - accuracy: 0.9464 - val_loss: 0.3738 - val_accuracy: 0.8500 - 713ms/epoch - 1ms/step\n",
      "Epoch 10/30\n",
      "625/625 - 1s - loss: 0.1382 - accuracy: 0.9503 - val_loss: 0.3925 - val_accuracy: 0.8457 - 736ms/epoch - 1ms/step\n",
      "Epoch 11/30\n",
      "625/625 - 1s - loss: 0.1270 - accuracy: 0.9549 - val_loss: 0.4123 - val_accuracy: 0.8434 - 741ms/epoch - 1ms/step\n",
      "Epoch 12/30\n",
      "625/625 - 1s - loss: 0.1170 - accuracy: 0.9597 - val_loss: 0.4333 - val_accuracy: 0.8406 - 732ms/epoch - 1ms/step\n",
      "Epoch 13/30\n",
      "625/625 - 1s - loss: 0.1059 - accuracy: 0.9642 - val_loss: 0.4575 - val_accuracy: 0.8366 - 777ms/epoch - 1ms/step\n",
      "Epoch 14/30\n",
      "625/625 - 1s - loss: 0.0992 - accuracy: 0.9676 - val_loss: 0.4813 - val_accuracy: 0.8349 - 740ms/epoch - 1ms/step\n",
      "Epoch 15/30\n",
      "625/625 - 1s - loss: 0.0915 - accuracy: 0.9682 - val_loss: 0.5101 - val_accuracy: 0.8321 - 748ms/epoch - 1ms/step\n",
      "Epoch 16/30\n",
      "625/625 - 1s - loss: 0.0832 - accuracy: 0.9730 - val_loss: 0.5411 - val_accuracy: 0.8306 - 724ms/epoch - 1ms/step\n",
      "Epoch 17/30\n",
      "625/625 - 1s - loss: 0.0782 - accuracy: 0.9754 - val_loss: 0.5683 - val_accuracy: 0.8282 - 771ms/epoch - 1ms/step\n",
      "Epoch 18/30\n",
      "625/625 - 1s - loss: 0.0724 - accuracy: 0.9766 - val_loss: 0.6030 - val_accuracy: 0.8253 - 734ms/epoch - 1ms/step\n",
      "Epoch 19/30\n",
      "625/625 - 1s - loss: 0.0680 - accuracy: 0.9788 - val_loss: 0.6543 - val_accuracy: 0.8214 - 753ms/epoch - 1ms/step\n",
      "Epoch 20/30\n",
      "625/625 - 1s - loss: 0.0605 - accuracy: 0.9817 - val_loss: 0.6624 - val_accuracy: 0.8232 - 715ms/epoch - 1ms/step\n",
      "Epoch 21/30\n",
      "625/625 - 1s - loss: 0.0567 - accuracy: 0.9837 - val_loss: 0.7257 - val_accuracy: 0.8204 - 714ms/epoch - 1ms/step\n",
      "Epoch 22/30\n",
      "625/625 - 1s - loss: 0.0524 - accuracy: 0.9849 - val_loss: 0.7338 - val_accuracy: 0.8173 - 719ms/epoch - 1ms/step\n",
      "Epoch 23/30\n",
      "625/625 - 1s - loss: 0.0513 - accuracy: 0.9837 - val_loss: 0.7743 - val_accuracy: 0.8191 - 718ms/epoch - 1ms/step\n",
      "Epoch 24/30\n",
      "625/625 - 1s - loss: 0.0438 - accuracy: 0.9879 - val_loss: 0.8067 - val_accuracy: 0.8165 - 720ms/epoch - 1ms/step\n",
      "Epoch 25/30\n",
      "625/625 - 1s - loss: 0.0416 - accuracy: 0.9885 - val_loss: 0.8472 - val_accuracy: 0.8152 - 713ms/epoch - 1ms/step\n",
      "Epoch 26/30\n",
      "625/625 - 1s - loss: 0.0394 - accuracy: 0.9890 - val_loss: 0.8805 - val_accuracy: 0.8115 - 717ms/epoch - 1ms/step\n",
      "Epoch 27/30\n",
      "625/625 - 1s - loss: 0.0357 - accuracy: 0.9904 - val_loss: 0.9649 - val_accuracy: 0.8130 - 717ms/epoch - 1ms/step\n",
      "Epoch 28/30\n",
      "625/625 - 1s - loss: 0.0332 - accuracy: 0.9912 - val_loss: 1.0334 - val_accuracy: 0.8096 - 732ms/epoch - 1ms/step\n",
      "Epoch 29/30\n",
      "625/625 - 1s - loss: 0.0314 - accuracy: 0.9919 - val_loss: 1.0133 - val_accuracy: 0.8097 - 735ms/epoch - 1ms/step\n",
      "Epoch 30/30\n",
      "625/625 - 1s - loss: 0.0287 - accuracy: 0.9921 - val_loss: 1.0897 - val_accuracy: 0.8071 - 718ms/epoch - 1ms/step\n"
     ]
    }
   ],
   "source": [
    "num_epochs = 30\n",
    "history = model.fit(training_padded, training_labels, epochs=num_epochs, validation_data=(testing_padded, testing_labels), verbose=2)"
   ]
  },
  {
   "cell_type": "code",
   "execution_count": 61,
   "id": "d53290e5",
   "metadata": {},
   "outputs": [
    {
     "data": {
      "image/png": "[encoded data removed]",
      "text/plain": [
       "<Figure size 432x288 with 1 Axes>"
      ]
     },
     "metadata": {
      "needs_background": "light"
     },
     "output_type": "display_data"
    },
    {
     "data": {
      "image/png": "[encoded data removed]",
      "text/plain": [
       "<Figure size 432x288 with 1 Axes>"
      ]
     },
     "metadata": {
      "needs_background": "light"
     },
     "output_type": "display_data"
    }
   ],
   "source": [
    "import matplotlib.pyplot as plt\n",
    "\n",
    "\n",
    "def plot_graphs(history, string):\n",
    "  plt.plot(history.history[string])\n",
    "  plt.plot(history.history['val_'+string])\n",
    "  plt.xlabel(\"Epochs\")\n",
    "  plt.ylabel(string)\n",
    "  plt.legend([string, 'val_'+string])\n",
    "  plt.show()\n",
    "  \n",
    "plot_graphs(history, \"accuracy\")\n",
    "plot_graphs(history, \"loss\")"
   ]
  },
  {
   "cell_type": "code",
   "execution_count": null,
   "id": "d438303e",
   "metadata": {},
   "outputs": [],
   "source": []
  }
 ],
 "metadata": {
  "kernelspec": {
   "display_name": "Python 3",
   "language": "python",
   "name": "python3"
  },
  "language_info": {
   "codemirror_mode": {
    "name": "ipython",
    "version": 3
   },
   "file_extension": ".py",
   "mimetype": "text/x-python",
   "name": "python",
   "nbconvert_exporter": "python",
   "pygments_lexer": "ipython3",
   "version": "3.8.8"
  }
 },
 "nbformat": 4,
 "nbformat_minor": 5
}
