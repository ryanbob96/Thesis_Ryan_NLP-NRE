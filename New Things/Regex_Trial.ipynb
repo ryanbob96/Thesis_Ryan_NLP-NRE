{
 "cells": [
  {
   "cell_type": "code",
   "execution_count": 2,
   "id": "81adf368",
   "metadata": {},
   "outputs": [],
   "source": [
    "import re"
   ]
  },
  {
   "cell_type": "markdown",
   "id": "d0c5bec3",
   "metadata": {},
   "source": [
    "## Character Sets"
   ]
  },
  {
   "cell_type": "code",
   "execution_count": 7,
   "id": "1d47070a",
   "metadata": {},
   "outputs": [
    {
     "name": "stdout",
     "output_type": "stream",
     "text": [
      "<re.Match object; span=(5, 10), match='Bobby'>\n",
      "<re.Match object; span=(0, 5), match='RyanB'>\n"
     ]
    }
   ],
   "source": [
    "# \\w matches alpha numeric characters [a-zA-Z0-9_]\n",
    "print(re.search(r'\\w\\w\\w\\w\\w',\"Ryan Bobby Andika\")) #Each \\w represent one character of alpha numeric\n",
    "print(re.search(r'\\w\\w\\w\\w\\w',\"RyanBobbyAndika\"))"
   ]
  },
  {
   "cell_type": "code",
   "execution_count": 8,
   "id": "d948b154",
   "metadata": {},
   "outputs": [
    {
     "name": "stdout",
     "output_type": "stream",
     "text": [
      "<re.Match object; span=(4, 5), match=' '>\n",
      "<re.Match object; span=(6, 9), match='!@#'>\n"
     ]
    }
   ],
   "source": [
    "# \\W matches nothing from alpha numeric\n",
    "print(re.search(r'\\W',\"Ryan Bobby Andika\"))\n",
    "print(re.search(r'\\W\\W\\W',\"asda-_!@#\"))"
   ]
  },
  {
   "cell_type": "markdown",
   "id": "62da36cb",
   "metadata": {},
   "source": [
    "## Quantifiers"
   ]
  },
  {
   "cell_type": "code",
   "execution_count": null,
   "id": "899a95f6",
   "metadata": {},
   "outputs": [],
   "source": [
    "'+' = 1 or more\n",
    "'?'  = 0 or 1\n",
    "'*' = 0 or more\n",
    "'{n,m}' = n to m repetitions {,3}, {3,}"
   ]
  },
  {
   "cell_type": "code",
   "execution_count": 10,
   "id": "91ed8501",
   "metadata": {},
   "outputs": [
    {
     "name": "stdout",
     "output_type": "stream",
     "text": [
      "<re.Match object; span=(0, 7), match='abcdefg'>\n"
     ]
    }
   ],
   "source": [
    "print(re.search(r'\\w+',\"abcdefg jkl\")) #+ will continue the search until irrepresentative character"
   ]
  },
  {
   "cell_type": "code",
   "execution_count": 11,
   "id": "e5a016ca",
   "metadata": {},
   "outputs": [
    {
     "name": "stdout",
     "output_type": "stream",
     "text": [
      "<re.Match object; span=(0, 11), match='abcdefg jkl'>\n"
     ]
    }
   ],
   "source": [
    "print(re.search(r'\\w+\\W+\\w+',\"abcdefg jkl\")) #first will search for the alpha numeric characters, then non, then again alpha numeric characters"
   ]
  },
  {
   "cell_type": "code",
   "execution_count": 66,
   "id": "a3f49ba9",
   "metadata": {},
   "outputs": [
    {
     "name": "stdout",
     "output_type": "stream",
     "text": [
      "None\n",
      "<re.Match object; span=(0, 10), match='abcdefgjkl'>\n"
     ]
    }
   ],
   "source": [
    "print(re.search(r'\\w+\\W+\\w+',\"abcdefgjkl\")) #it won't work as the condition is not fulfilled\n",
    "print(re.search(r'\\w+\\W?\\w+',\"abcdefgjkl\")) #it'll work as the condition is fulfilled. ? means \\W can be non or alpha numeric"
   ]
  },
  {
   "cell_type": "code",
   "execution_count": 13,
   "id": "06b0d465",
   "metadata": {},
   "outputs": [
    {
     "data": {
      "text/plain": [
       "<re.Match object; span=(0, 3), match='aaa'>"
      ]
     },
     "execution_count": 13,
     "metadata": {},
     "output_type": "execute_result"
    }
   ],
   "source": [
    "#With specific amounts\n",
    "re.search(r'\\w{3}', 'aaaaaaaa')"
   ]
  },
  {
   "cell_type": "code",
   "execution_count": 16,
   "id": "cb130c27",
   "metadata": {},
   "outputs": [
    {
     "data": {
      "text/plain": [
       "<re.Match object; span=(3, 7), match='aaaa'>"
      ]
     },
     "execution_count": 16,
     "metadata": {},
     "output_type": "execute_result"
    }
   ],
   "source": [
    "re.search(r'\\w{3,4}', 'ab aaaaaaaa') #at least 1 character, n maximum 4 characters, to be called"
   ]
  },
  {
   "cell_type": "markdown",
   "id": "5af1e160",
   "metadata": {},
   "source": [
    "## Other type of characters"
   ]
  },
  {
   "cell_type": "code",
   "execution_count": null,
   "id": "2258dab0",
   "metadata": {},
   "outputs": [],
   "source": [
    "'\\d' = matches digit\n",
    "'\\D' = non any matches digit"
   ]
  },
  {
   "cell_type": "code",
   "execution_count": 17,
   "id": "55cf1abb",
   "metadata": {},
   "outputs": [
    {
     "data": {
      "text/plain": [
       "'23'"
      ]
     },
     "execution_count": 17,
     "metadata": {},
     "output_type": "execute_result"
    }
   ],
   "source": [
    "string = '23abcde++'\n",
    "re.search('\\d+', string).group()"
   ]
  },
  {
   "cell_type": "code",
   "execution_count": null,
   "id": "ac2561c6",
   "metadata": {},
   "outputs": [],
   "source": [
    "'\\s' = matches any whitespcae character\n",
    "'\\S' = matches any non whitespace character"
   ]
  },
  {
   "cell_type": "code",
   "execution_count": 20,
   "id": "98585dee",
   "metadata": {},
   "outputs": [
    {
     "name": "stdout",
     "output_type": "stream",
     "text": [
      "None\n",
      "<re.Match object; span=(0, 9), match='23abcde++'>\n"
     ]
    }
   ],
   "source": [
    "print(re.search('\\s+', string))\n",
    "print(re.search('\\S+', string))"
   ]
  },
  {
   "cell_type": "code",
   "execution_count": 21,
   "id": "d0c617a1",
   "metadata": {},
   "outputs": [],
   "source": [
    "string = '''Robots are branching out. A new prototype soft robot takes inspiration from plants by growing to explore its environment.\n",
    "\n",
    "Vines and some fungi extend from their tips to explore their surroundings. \n",
    "Elliot Hawkes of the University of California in Santa Barbara \n",
    "and his colleagues designed a bot that works \n",
    "on similar principles. Its mechanical body \n",
    "sits inside a plastic tube reel that extends \n",
    "through pressurized inflation, a method that some \n",
    "invertebrates like peanut worms (Sipunculus nudus)\n",
    "also use to extend their appendages. The plastic \n",
    "tubing has two compartments, and inflating one \n",
    "side or the other changes the extension direction. \n",
    "A camera sensor at the tip alerts the bot when it’s \n",
    "about to run into something.\n",
    "\n",
    "In the lab, Hawkes and his colleagues \n",
    "programmed the robot to form 3-D structures such \n",
    "as a radio antenna, turn off a valve, navigate a maze, \n",
    "swim through glue, act as a fire extinguisher, squeeze \n",
    "through tight gaps, shimmy through fly paper and slither \n",
    "across a bed of nails. The soft bot can extend up to \n",
    "72 meters, and unlike plants, it can grow at a speed of \n",
    "10 meters per second, the team reports July 19 in Science Robotics. \n",
    "The design could serve as a model for building robots \n",
    "that can traverse constrained environments\n",
    "\n",
    "This isn’t the first robot to take \n",
    "inspiration from plants. One plantlike \n",
    "predecessor was a robot modeled on roots.'''"
   ]
  },
  {
   "cell_type": "code",
   "execution_count": 22,
   "id": "c8260a2c",
   "metadata": {},
   "outputs": [
    {
     "data": {
      "text/plain": [
       "['Robots',\n",
       " 'are',\n",
       " 'branching',\n",
       " 'out.',\n",
       " 'A',\n",
       " 'new',\n",
       " 'prototype',\n",
       " 'soft',\n",
       " 'robot',\n",
       " 'takes',\n",
       " 'inspiration',\n",
       " 'from',\n",
       " 'plants',\n",
       " 'by',\n",
       " 'growing',\n",
       " 'to',\n",
       " 'explore',\n",
       " 'its',\n",
       " 'environment.',\n",
       " 'Vines',\n",
       " 'and',\n",
       " 'some',\n",
       " 'fungi',\n",
       " 'extend',\n",
       " 'from',\n",
       " 'their',\n",
       " 'tips',\n",
       " 'to',\n",
       " 'explore',\n",
       " 'their',\n",
       " 'surroundings.',\n",
       " 'Elliot',\n",
       " 'Hawkes',\n",
       " 'of',\n",
       " 'the',\n",
       " 'University',\n",
       " 'of',\n",
       " 'California',\n",
       " 'in',\n",
       " 'Santa',\n",
       " 'Barbara',\n",
       " 'and',\n",
       " 'his',\n",
       " 'colleagues',\n",
       " 'designed',\n",
       " 'a',\n",
       " 'bot',\n",
       " 'that',\n",
       " 'works',\n",
       " 'on',\n",
       " 'similar',\n",
       " 'principles.',\n",
       " 'Its',\n",
       " 'mechanical',\n",
       " 'body',\n",
       " 'sits',\n",
       " 'inside',\n",
       " 'a',\n",
       " 'plastic',\n",
       " 'tube',\n",
       " 'reel',\n",
       " 'that',\n",
       " 'extends',\n",
       " 'through',\n",
       " 'pressurized',\n",
       " 'inflation,',\n",
       " 'a',\n",
       " 'method',\n",
       " 'that',\n",
       " 'some',\n",
       " 'invertebrates',\n",
       " 'like',\n",
       " 'peanut',\n",
       " 'worms',\n",
       " '(Sipunculus',\n",
       " 'nudus)',\n",
       " 'also',\n",
       " 'use',\n",
       " 'to',\n",
       " 'extend',\n",
       " 'their',\n",
       " 'appendages.',\n",
       " 'The',\n",
       " 'plastic',\n",
       " 'tubing',\n",
       " 'has',\n",
       " 'two',\n",
       " 'compartments,',\n",
       " 'and',\n",
       " 'inflating',\n",
       " 'one',\n",
       " 'side',\n",
       " 'or',\n",
       " 'the',\n",
       " 'other',\n",
       " 'changes',\n",
       " 'the',\n",
       " 'extension',\n",
       " 'direction.',\n",
       " 'A',\n",
       " 'camera',\n",
       " 'sensor',\n",
       " 'at',\n",
       " 'the',\n",
       " 'tip',\n",
       " 'alerts',\n",
       " 'the',\n",
       " 'bot',\n",
       " 'when',\n",
       " 'it’s',\n",
       " 'about',\n",
       " 'to',\n",
       " 'run',\n",
       " 'into',\n",
       " 'something.',\n",
       " 'In',\n",
       " 'the',\n",
       " 'lab,',\n",
       " 'Hawkes',\n",
       " 'and',\n",
       " 'his',\n",
       " 'colleagues',\n",
       " 'programmed',\n",
       " 'the',\n",
       " 'robot',\n",
       " 'to',\n",
       " 'form',\n",
       " '3-D',\n",
       " 'structures',\n",
       " 'such',\n",
       " 'as',\n",
       " 'a',\n",
       " 'radio',\n",
       " 'antenna,',\n",
       " 'turn',\n",
       " 'off',\n",
       " 'a',\n",
       " 'valve,',\n",
       " 'navigate',\n",
       " 'a',\n",
       " 'maze,',\n",
       " 'swim',\n",
       " 'through',\n",
       " 'glue,',\n",
       " 'act',\n",
       " 'as',\n",
       " 'a',\n",
       " 'fire',\n",
       " 'extinguisher,',\n",
       " 'squeeze',\n",
       " 'through',\n",
       " 'tight',\n",
       " 'gaps,',\n",
       " 'shimmy',\n",
       " 'through',\n",
       " 'fly',\n",
       " 'paper',\n",
       " 'and',\n",
       " 'slither',\n",
       " 'across',\n",
       " 'a',\n",
       " 'bed',\n",
       " 'of',\n",
       " 'nails.',\n",
       " 'The',\n",
       " 'soft',\n",
       " 'bot',\n",
       " 'can',\n",
       " 'extend',\n",
       " 'up',\n",
       " 'to',\n",
       " '72',\n",
       " 'meters,',\n",
       " 'and',\n",
       " 'unlike',\n",
       " 'plants,',\n",
       " 'it',\n",
       " 'can',\n",
       " 'grow',\n",
       " 'at',\n",
       " 'a',\n",
       " 'speed',\n",
       " 'of',\n",
       " '10',\n",
       " 'meters',\n",
       " 'per',\n",
       " 'second,',\n",
       " 'the',\n",
       " 'team',\n",
       " 'reports',\n",
       " 'July',\n",
       " '19',\n",
       " 'in',\n",
       " 'Science',\n",
       " 'Robotics.',\n",
       " 'The',\n",
       " 'design',\n",
       " 'could',\n",
       " 'serve',\n",
       " 'as',\n",
       " 'a',\n",
       " 'model',\n",
       " 'for',\n",
       " 'building',\n",
       " 'robots',\n",
       " 'that',\n",
       " 'can',\n",
       " 'traverse',\n",
       " 'constrained',\n",
       " 'environments',\n",
       " 'This',\n",
       " 'isn’t',\n",
       " 'the',\n",
       " 'first',\n",
       " 'robot',\n",
       " 'to',\n",
       " 'take',\n",
       " 'inspiration',\n",
       " 'from',\n",
       " 'plants.',\n",
       " 'One',\n",
       " 'plantlike',\n",
       " 'predecessor',\n",
       " 'was',\n",
       " 'a',\n",
       " 'robot',\n",
       " 'modeled',\n",
       " 'on',\n",
       " 'roots.']"
      ]
     },
     "execution_count": 22,
     "metadata": {},
     "output_type": "execute_result"
    }
   ],
   "source": [
    "#capture all words\n",
    "re.findall('\\S+', string)"
   ]
  },
  {
   "cell_type": "code",
   "execution_count": 27,
   "id": "dd3c9a99",
   "metadata": {},
   "outputs": [
    {
     "data": {
      "text/plain": [
       "'Robots are branching out. A new prototype soft robot takes inspiration from plants by growing to explore its environment. Vines and some fungi extend from their tips to explore their surroundings. Elliot Hawkes of the University of California in Santa Barbara and his colleagues designed a bot that works on similar principles. Its mechanical body sits inside a plastic tube reel that extends through pressurized inflation, a method that some invertebrates like peanut worms (Sipunculus nudus) also use to extend their appendages. The plastic tubing has two compartments, and inflating one side or the other changes the extension direction. A camera sensor at the tip alerts the bot when it’s about to run into something. In the lab, Hawkes and his colleagues programmed the robot to form 3-D structures such as a radio antenna, turn off a valve, navigate a maze, swim through glue, act as a fire extinguisher, squeeze through tight gaps, shimmy through fly paper and slither across a bed of nails. The soft bot can extend up to 72 meters, and unlike plants, it can grow at a speed of 10 meters per second, the team reports July 19 in Science Robotics. The design could serve as a model for building robots that can traverse constrained environments This isn’t the first robot to take inspiration from plants. One plantlike predecessor was a robot modeled on roots.'"
      ]
     },
     "execution_count": 27,
     "metadata": {},
     "output_type": "execute_result"
    }
   ],
   "source": [
    "#Combines again into a full paragraph\n",
    "' '.join(re.findall('\\S+', string))"
   ]
  },
  {
   "cell_type": "code",
   "execution_count": 26,
   "id": "0f40cb40",
   "metadata": {},
   "outputs": [
    {
     "data": {
      "text/plain": [
       "<re.Match object; span=(1272, 1282), match='This isn’t'>"
      ]
     },
     "execution_count": 26,
     "metadata": {},
     "output_type": "execute_result"
    }
   ],
   "source": [
    "re.search(r'This \\S+',string)"
   ]
  },
  {
   "cell_type": "code",
   "execution_count": null,
   "id": "fa28195f",
   "metadata": {},
   "outputs": [],
   "source": [
    ". the dot matches any character except the new line"
   ]
  },
  {
   "cell_type": "code",
   "execution_count": 28,
   "id": "170fd2cc",
   "metadata": {},
   "outputs": [],
   "source": [
    "string = '''Robots are branching out. A new prototype soft robot takes inspiration from plants by growing to explore its environment.\n",
    "\n",
    "Vines and some fungi extend from their tips to explore their surroundings. Elliot Hawkes of the University of California in Santa Barbara and his colleagues designed a bot that works on similar principles. Its mechanical body sits inside a plastic tube reel that extends through pressurized inflation, a method that some invertebrates like peanut worms (Sipunculus nudus) also use to extend their appendages. The plastic tubing has two compartments, and inflating one side or the other changes the extension direction. A camera sensor at the tip alerts the bot when it’s about to run into something.\n",
    "\n",
    "In the lab, Hawkes and his colleagues programmed the robot to form 3-D structures such as a radio antenna, turn off a valve, navigate a maze, swim through glue, act as a fire extinguisher, squeeze through tight gaps, shimmy through fly paper and slither across a bed of nails. The soft bot can extend up to 72 meters, and unlike plants, it can grow at a speed of 10 meters per second, the team reports July 19 in Science Robotics. The design could serve as a model for building robots that can traverse constrained environments\n",
    "\n",
    "This isn’t the first robot to take inspiration from plants. One plantlike predecessor was a robot modeled on roots.'''"
   ]
  },
  {
   "cell_type": "code",
   "execution_count": 30,
   "id": "fc0d091a",
   "metadata": {},
   "outputs": [
    {
     "data": {
      "text/plain": [
       "'R'"
      ]
     },
     "execution_count": 30,
     "metadata": {},
     "output_type": "execute_result"
    }
   ],
   "source": [
    "re.search('.+', string).group()"
   ]
  },
  {
   "cell_type": "code",
   "execution_count": 31,
   "id": "49a30645",
   "metadata": {},
   "outputs": [
    {
     "data": {
      "text/plain": [
       "'Robots are branching out. A new prototype soft robot takes inspiration from plants by growing to explore its environment.\\n\\nVines and some fungi extend from their tips to explore their surroundings. Elliot Hawkes of the University of California in Santa Barbara and his colleagues designed a bot that works on similar principles. Its mechanical body sits inside a plastic tube reel that extends through pressurized inflation, a method that some invertebrates like peanut worms (Sipunculus nudus) also use to extend their appendages. The plastic tubing has two compartments, and inflating one side or the other changes the extension direction. A camera sensor at the tip alerts the bot when it’s about to run into something.\\n\\nIn the lab, Hawkes and his colleagues programmed the robot to form 3-D structures such as a radio antenna, turn off a valve, navigate a maze, swim through glue, act as a fire extinguisher, squeeze through tight gaps, shimmy through fly paper and slither across a bed of nails. The soft bot can extend up to 72 meters, and unlike plants, it can grow at a speed of 10 meters per second, the team reports July 19 in Science Robotics. The design could serve as a model for building robots that can traverse constrained environments\\n\\nThis isn’t the first robot to take inspiration from plants. One plantlike predecessor was a robot modeled on roots.'"
      ]
     },
     "execution_count": 31,
     "metadata": {},
     "output_type": "execute_result"
    }
   ],
   "source": [
    "re.search('.+', string, flags=re.DOTALL).group() #INCLUDE ALL NEW LINES"
   ]
  },
  {
   "cell_type": "markdown",
   "id": "6e862d61",
   "metadata": {},
   "source": [
    "## Create your own character sets"
   ]
  },
  {
   "cell_type": "code",
   "execution_count": null,
   "id": "e781f4ff",
   "metadata": {},
   "outputs": [],
   "source": [
    "[A-Z] '-' is a metacharacter when used in [] (custom characters)"
   ]
  },
  {
   "cell_type": "code",
   "execution_count": 34,
   "id": "f20e1b97",
   "metadata": {},
   "outputs": [],
   "source": [
    "string = 'Hello, Ryan, Is, Here.'"
   ]
  },
  {
   "cell_type": "code",
   "execution_count": 35,
   "id": "31f5046e",
   "metadata": {},
   "outputs": [
    {
     "data": {
      "text/plain": [
       "['H', 'R', 'I', 'H']"
      ]
     },
     "execution_count": 35,
     "metadata": {},
     "output_type": "execute_result"
    }
   ],
   "source": [
    "re.findall('[A-Z]', string)"
   ]
  },
  {
   "cell_type": "code",
   "execution_count": 37,
   "id": "68dd2889",
   "metadata": {},
   "outputs": [
    {
     "data": {
      "text/plain": [
       "['H', ',', 'R', ',', 'I', ',', 'H', '.']"
      ]
     },
     "execution_count": 37,
     "metadata": {},
     "output_type": "execute_result"
    }
   ],
   "source": [
    "re.findall('[A-Z,.]', string)"
   ]
  },
  {
   "cell_type": "code",
   "execution_count": 40,
   "id": "9fee5e61",
   "metadata": {},
   "outputs": [
    {
     "data": {
      "text/plain": [
       "['H',\n",
       " 'e',\n",
       " 'l',\n",
       " 'l',\n",
       " 'o',\n",
       " ',',\n",
       " ' ',\n",
       " 'R',\n",
       " 'y',\n",
       " 'a',\n",
       " 'n',\n",
       " ',',\n",
       " ' ',\n",
       " 'I',\n",
       " 's',\n",
       " ',',\n",
       " ' ',\n",
       " 'H',\n",
       " 'e',\n",
       " 'r',\n",
       " 'e',\n",
       " '.']"
      ]
     },
     "execution_count": 40,
     "metadata": {},
     "output_type": "execute_result"
    }
   ],
   "source": [
    "re.findall('[A-Za-z,\\s.]', string)"
   ]
  },
  {
   "cell_type": "markdown",
   "id": "f7d0d4fc",
   "metadata": {},
   "source": [
    "## Quantifiers with custom sets"
   ]
  },
  {
   "cell_type": "code",
   "execution_count": 70,
   "id": "2fdfc8c3",
   "metadata": {},
   "outputs": [],
   "source": [
    "string = 'HELLO, Ryan, Is, Here...'"
   ]
  },
  {
   "cell_type": "code",
   "execution_count": 71,
   "id": "57eb0cf2",
   "metadata": {},
   "outputs": [
    {
     "data": {
      "text/plain": [
       "<re.Match object; span=(0, 5), match='HELLO'>"
      ]
     },
     "execution_count": 71,
     "metadata": {},
     "output_type": "execute_result"
    }
   ],
   "source": [
    "re.search('[A-Z]+', string)"
   ]
  },
  {
   "cell_type": "code",
   "execution_count": 73,
   "id": "822967db",
   "metadata": {},
   "outputs": [
    {
     "data": {
      "text/plain": [
       "['HELLO', 'R', 'I', 'H']"
      ]
     },
     "execution_count": 73,
     "metadata": {},
     "output_type": "execute_result"
    }
   ],
   "source": [
    "re.findall('[A-Z]+', string)"
   ]
  },
  {
   "cell_type": "code",
   "execution_count": 49,
   "id": "aeb18d58",
   "metadata": {},
   "outputs": [
    {
     "name": "stdout",
     "output_type": "stream",
     "text": [
      "['HELLO']\n",
      "['HELLO', 'R', 'I', 'H']\n"
     ]
    }
   ],
   "source": [
    "print(re.findall('[A-Z]{2,}', string))\n",
    "print(re.findall('[A-Z]{1,}', string))"
   ]
  },
  {
   "cell_type": "code",
   "execution_count": 53,
   "id": "4cb81a3b",
   "metadata": {},
   "outputs": [
    {
     "data": {
      "text/plain": [
       "'HELLO, Ryan, Is, Here'"
      ]
     },
     "execution_count": 53,
     "metadata": {},
     "output_type": "execute_result"
    }
   ],
   "source": [
    "re.search('[A-Za-z\\s,]+', string).group()"
   ]
  },
  {
   "cell_type": "code",
   "execution_count": 56,
   "id": "fbe93698",
   "metadata": {},
   "outputs": [
    {
     "data": {
      "text/plain": [
       "['O, ', 'Ryan, ', 'Is, ', 'Here']"
      ]
     },
     "execution_count": 56,
     "metadata": {},
     "output_type": "execute_result"
    }
   ],
   "source": [
    "re.findall('[A-Z]?[a-z\\s,]+', string)"
   ]
  },
  {
   "cell_type": "code",
   "execution_count": 58,
   "id": "7888a192",
   "metadata": {},
   "outputs": [
    {
     "data": {
      "text/plain": [
       "'...'"
      ]
     },
     "execution_count": 58,
     "metadata": {},
     "output_type": "execute_result"
    }
   ],
   "source": [
    "# '^' means non or negate the custom sets\n",
    "re.search('[^A-Za-z\\s,]+', string).group() #non of all things inside the bracket\n",
    "#Therefore we got '...'"
   ]
  },
  {
   "cell_type": "code",
   "execution_count": 59,
   "id": "3a09bf5c",
   "metadata": {},
   "outputs": [
    {
     "data": {
      "text/plain": [
       "[', ', 'yan, ', 's, ', 'ere...']"
      ]
     },
     "execution_count": 59,
     "metadata": {},
     "output_type": "execute_result"
    }
   ],
   "source": [
    "re.findall('[^A-Z]+', string)"
   ]
  },
  {
   "cell_type": "markdown",
   "id": "3b288ae5",
   "metadata": {},
   "source": [
    "## Group"
   ]
  },
  {
   "cell_type": "code",
   "execution_count": 249,
   "id": "7594a98f",
   "metadata": {},
   "outputs": [],
   "source": [
    "string = 'John has 6 cats but I think my friend Susan has 3 dogs and Mike has 8 fishes'"
   ]
  },
  {
   "cell_type": "code",
   "execution_count": 250,
   "id": "d46fae6a",
   "metadata": {},
   "outputs": [
    {
     "data": {
      "text/plain": [
       "['John has 6 cats', 'Susan has 3 dogs', 'Mike has 8 fishes']"
      ]
     },
     "execution_count": 250,
     "metadata": {},
     "output_type": "execute_result"
    }
   ],
   "source": [
    "re.findall('[A-Za-z]+ \\w+ \\d+ \\w+', string)"
   ]
  },
  {
   "cell_type": "code",
   "execution_count": 251,
   "id": "883ed881",
   "metadata": {},
   "outputs": [
    {
     "ename": "NameError",
     "evalue": "name 'metacharacter' is not defined",
     "output_type": "error",
     "traceback": [
      "\u001b[1;31m---------------------------------------------------------------------------\u001b[0m",
      "\u001b[1;31mNameError\u001b[0m                                 Traceback (most recent call last)",
      "\u001b[1;32m<ipython-input-251-d84d746a0b55>\u001b[0m in \u001b[0;36m<module>\u001b[1;34m\u001b[0m\n\u001b[0;32m      1\u001b[0m \u001b[1;31m#The use of brackets denotes a group\u001b[0m\u001b[1;33m\u001b[0m\u001b[1;33m\u001b[0m\u001b[1;33m\u001b[0m\u001b[0m\n\u001b[1;32m----> 2\u001b[1;33m \u001b[1;33m(\u001b[0m\u001b[1;33m)\u001b[0m \u001b[1;33m=\u001b[0m \u001b[0mmetacharacter\u001b[0m\u001b[1;33m\u001b[0m\u001b[1;33m\u001b[0m\u001b[0m\n\u001b[0m",
      "\u001b[1;31mNameError\u001b[0m: name 'metacharacter' is not defined"
     ]
    }
   ],
   "source": [
    "#The use of brackets denotes a group\n",
    "() = metacharacter"
   ]
  },
  {
   "cell_type": "code",
   "execution_count": 252,
   "id": "9c2e0e19",
   "metadata": {},
   "outputs": [
    {
     "data": {
      "text/plain": [
       "['John', 'Susan', 'Mike']"
      ]
     },
     "execution_count": 252,
     "metadata": {},
     "output_type": "execute_result"
    }
   ],
   "source": [
    "re.findall('([A-Za-z]+) \\w+ \\d+ \\w+', string) #In Findall, we only take or produce the group. In here, only the name"
   ]
  },
  {
   "cell_type": "code",
   "execution_count": 253,
   "id": "4c3629b0",
   "metadata": {},
   "outputs": [
    {
     "data": {
      "text/plain": [
       "['cats', 'dogs', 'fishes']"
      ]
     },
     "execution_count": 253,
     "metadata": {},
     "output_type": "execute_result"
    }
   ],
   "source": [
    "re.findall('[A-Za-z]+ \\w+ \\d+ (\\w+)', string) #In Findall, we only take or produce the group. In here, only the animals"
   ]
  },
  {
   "cell_type": "code",
   "execution_count": 254,
   "id": "7db0efcb",
   "metadata": {},
   "outputs": [
    {
     "data": {
      "text/plain": [
       "[('John', '6', 'cats'), ('Susan', '3', 'dogs'), ('Mike', '8', 'fishes')]"
      ]
     },
     "execution_count": 254,
     "metadata": {},
     "output_type": "execute_result"
    }
   ],
   "source": [
    "re.findall('([A-Za-z]+) \\w+ (\\d+) (\\w+)', string) #In Findall, we only take or produce the group"
   ]
  },
  {
   "cell_type": "code",
   "execution_count": 255,
   "id": "01f97250",
   "metadata": {},
   "outputs": [],
   "source": [
    "info = re.findall('([A-Za-z]+) \\w+ (\\d+) (\\w+)', string) #In Findall, we only take or produce the group"
   ]
  },
  {
   "cell_type": "code",
   "execution_count": 256,
   "id": "7cdc7490",
   "metadata": {},
   "outputs": [
    {
     "data": {
      "text/plain": [
       "[('John', 'Susan', 'Mike'), ('6', '3', '8'), ('cats', 'dogs', 'fishes')]"
      ]
     },
     "execution_count": 256,
     "metadata": {},
     "output_type": "execute_result"
    }
   ],
   "source": [
    "list(zip(*info)) #organize our data by categories"
   ]
  },
  {
   "cell_type": "code",
   "execution_count": 107,
   "id": "60ec70e7",
   "metadata": {},
   "outputs": [
    {
     "data": {
      "text/plain": [
       "[(1, 3, 5), (2, 4, 6)]"
      ]
     },
     "execution_count": 107,
     "metadata": {},
     "output_type": "execute_result"
    }
   ],
   "source": [
    "a = [(1,2,3),(3,4),(5,6)]\n",
    "list(zip(*a))"
   ]
  },
  {
   "cell_type": "code",
   "execution_count": 114,
   "id": "e9261d8e",
   "metadata": {},
   "outputs": [
    {
     "data": {
      "text/plain": [
       "[(1,), (2,), (3,), (4,)]"
      ]
     },
     "execution_count": 114,
     "metadata": {},
     "output_type": "execute_result"
    }
   ],
   "source": [
    "b = (1,2,3,4)\n",
    "list(zip(b))"
   ]
  },
  {
   "cell_type": "code",
   "execution_count": 117,
   "id": "dc535012",
   "metadata": {},
   "outputs": [
    {
     "data": {
      "text/plain": [
       "<re.Match object; span=(0, 15), match='John has 6 cats'>"
      ]
     },
     "execution_count": 117,
     "metadata": {},
     "output_type": "execute_result"
    }
   ],
   "source": [
    "match = re.search('([A-Za-z]+) \\w+ (\\d+) (\\w+)', string)\n",
    "match"
   ]
  },
  {
   "cell_type": "code",
   "execution_count": 118,
   "id": "e618b3ef",
   "metadata": {},
   "outputs": [
    {
     "data": {
      "text/plain": [
       "'John has 6 cats'"
      ]
     },
     "execution_count": 118,
     "metadata": {},
     "output_type": "execute_result"
    }
   ],
   "source": [
    "match.group()"
   ]
  },
  {
   "cell_type": "code",
   "execution_count": 120,
   "id": "2b1f8c59",
   "metadata": {},
   "outputs": [
    {
     "data": {
      "text/plain": [
       "('John', '6', 'cats')"
      ]
     },
     "execution_count": 120,
     "metadata": {},
     "output_type": "execute_result"
    }
   ],
   "source": [
    "match.groups()"
   ]
  },
  {
   "cell_type": "code",
   "execution_count": 122,
   "id": "8a6112f2",
   "metadata": {},
   "outputs": [
    {
     "data": {
      "text/plain": [
       "'John'"
      ]
     },
     "execution_count": 122,
     "metadata": {},
     "output_type": "execute_result"
    }
   ],
   "source": [
    "match.group(1)"
   ]
  },
  {
   "cell_type": "code",
   "execution_count": 123,
   "id": "1668987c",
   "metadata": {},
   "outputs": [
    {
     "data": {
      "text/plain": [
       "'6'"
      ]
     },
     "execution_count": 123,
     "metadata": {},
     "output_type": "execute_result"
    }
   ],
   "source": [
    "match.group(2)"
   ]
  },
  {
   "cell_type": "code",
   "execution_count": 124,
   "id": "0aa1b98d",
   "metadata": {},
   "outputs": [
    {
     "data": {
      "text/plain": [
       "('John', 'cats')"
      ]
     },
     "execution_count": 124,
     "metadata": {},
     "output_type": "execute_result"
    }
   ],
   "source": [
    "match.group(1,3)"
   ]
  },
  {
   "cell_type": "code",
   "execution_count": 125,
   "id": "086f71a3",
   "metadata": {},
   "outputs": [
    {
     "data": {
      "text/plain": [
       "(0, 15)"
      ]
     },
     "execution_count": 125,
     "metadata": {},
     "output_type": "execute_result"
    }
   ],
   "source": [
    "match.span()"
   ]
  },
  {
   "cell_type": "code",
   "execution_count": 127,
   "id": "82a97043",
   "metadata": {},
   "outputs": [
    {
     "data": {
      "text/plain": [
       "(9, 10)"
      ]
     },
     "execution_count": 127,
     "metadata": {},
     "output_type": "execute_result"
    }
   ],
   "source": [
    "match.span(2) #tells the beginning and the end of the string of '6'"
   ]
  },
  {
   "cell_type": "code",
   "execution_count": 130,
   "id": "8b52ea8a",
   "metadata": {},
   "outputs": [
    {
     "data": {
      "text/plain": [
       "11"
      ]
     },
     "execution_count": 130,
     "metadata": {},
     "output_type": "execute_result"
    }
   ],
   "source": [
    "match.start(3)"
   ]
  },
  {
   "cell_type": "code",
   "execution_count": 131,
   "id": "e95d3880",
   "metadata": {},
   "outputs": [
    {
     "ename": "AttributeError",
     "evalue": "'tuple' object has no attribute 'group'",
     "output_type": "error",
     "traceback": [
      "\u001b[1;31m---------------------------------------------------------------------------\u001b[0m",
      "\u001b[1;31mAttributeError\u001b[0m                            Traceback (most recent call last)",
      "\u001b[1;32m<ipython-input-131-41fec656c5ab>\u001b[0m in \u001b[0;36m<module>\u001b[1;34m\u001b[0m\n\u001b[1;32m----> 1\u001b[1;33m \u001b[0mre\u001b[0m\u001b[1;33m.\u001b[0m\u001b[0mfindall\u001b[0m\u001b[1;33m(\u001b[0m\u001b[1;34m'([A-Za-z]+) \\w+ (\\d+) (\\w+)'\u001b[0m\u001b[1;33m,\u001b[0m \u001b[0mstring\u001b[0m\u001b[1;33m)\u001b[0m\u001b[1;33m[\u001b[0m\u001b[1;36m0\u001b[0m\u001b[1;33m]\u001b[0m\u001b[1;33m.\u001b[0m\u001b[0mgroup\u001b[0m\u001b[1;33m(\u001b[0m\u001b[1;36m1\u001b[0m\u001b[1;33m)\u001b[0m\u001b[1;33m\u001b[0m\u001b[1;33m\u001b[0m\u001b[0m\n\u001b[0m",
      "\u001b[1;31mAttributeError\u001b[0m: 'tuple' object has no attribute 'group'"
     ]
    }
   ],
   "source": [
    "re.findall('([A-Za-z]+) \\w+ (\\d+) (\\w+)', string)[0].group(1)"
   ]
  },
  {
   "cell_type": "code",
   "execution_count": 132,
   "id": "2f880d8d",
   "metadata": {},
   "outputs": [],
   "source": [
    "data = re.findall('(([A-Za-z]+) \\w+ (\\d+) (\\w+))', string) #We make a big group of words"
   ]
  },
  {
   "cell_type": "code",
   "execution_count": 134,
   "id": "32a3000a",
   "metadata": {},
   "outputs": [
    {
     "data": {
      "text/plain": [
       "[('John has 6 cats', 'John', '6', 'cats'),\n",
       " ('Susan has 3 dogs', 'Susan', '3', 'dogs'),\n",
       " ('Mike has 8 fishes', 'Mike', '8', 'fishes')]"
      ]
     },
     "execution_count": 134,
     "metadata": {},
     "output_type": "execute_result"
    }
   ],
   "source": [
    "data #Now, the regex can extract the whole group of words and the each group of chracter"
   ]
  },
  {
   "cell_type": "markdown",
   "id": "681e9507",
   "metadata": {},
   "source": [
    "## Using Iterators"
   ]
  },
  {
   "cell_type": "code",
   "execution_count": 155,
   "id": "07c9472d",
   "metadata": {},
   "outputs": [],
   "source": [
    "#Using iteration\n",
    "it = re.finditer('([A-Za-z]+) \\w+ (\\d+) (\\w+)', string)"
   ]
  },
  {
   "cell_type": "code",
   "execution_count": 156,
   "id": "41862a6e",
   "metadata": {},
   "outputs": [],
   "source": [
    "# next(it).group()"
   ]
  },
  {
   "cell_type": "code",
   "execution_count": 157,
   "id": "cea07f57",
   "metadata": {},
   "outputs": [
    {
     "name": "stdout",
     "output_type": "stream",
     "text": [
      "('John', '6', 'cats')\n",
      "('Susan', '3', 'dogs')\n",
      "('Mike', '8', 'fishes')\n"
     ]
    }
   ],
   "source": [
    "#ITERATORS CAN EXHAUST\n",
    "for i in it:\n",
    "    print(i.group(1,2,3))"
   ]
  },
  {
   "cell_type": "markdown",
   "id": "54774265",
   "metadata": {},
   "source": [
    "## Naming Groups"
   ]
  },
  {
   "cell_type": "code",
   "execution_count": 165,
   "id": "46a435f8",
   "metadata": {},
   "outputs": [],
   "source": [
    "string = 'New York, New York 11369'"
   ]
  },
  {
   "cell_type": "code",
   "execution_count": 173,
   "id": "8d26c95c",
   "metadata": {},
   "outputs": [],
   "source": [
    "match =re.search('([A-Za-z\\s]+),([A-Za-z\\s]+)(\\d+)', string)"
   ]
  },
  {
   "cell_type": "code",
   "execution_count": 175,
   "id": "fd68481b",
   "metadata": {},
   "outputs": [
    {
     "data": {
      "text/plain": [
       "('New York', ' New York ', '11369', 'New York, New York 11369')"
      ]
     },
     "execution_count": 175,
     "metadata": {},
     "output_type": "execute_result"
    }
   ],
   "source": [
    "match.group(1), match.group(2), match.group(3), match.group(0)"
   ]
  },
  {
   "cell_type": "code",
   "execution_count": null,
   "id": "cb7e3920",
   "metadata": {},
   "outputs": [],
   "source": [
    "?P< > #To name a group inside the <>, followed by RE for group"
   ]
  },
  {
   "cell_type": "code",
   "execution_count": 177,
   "id": "b4f853d1",
   "metadata": {},
   "outputs": [],
   "source": [
    "pattern =re.compile('(?P<City>[A-Za-z\\s]+),(?P<State>[A-Za-z\\s]+) (?P<ZipCode>\\d+)')"
   ]
  },
  {
   "cell_type": "code",
   "execution_count": 178,
   "id": "19159479",
   "metadata": {},
   "outputs": [],
   "source": [
    "match = re.search(pattern, string)"
   ]
  },
  {
   "cell_type": "code",
   "execution_count": 179,
   "id": "94fccc81",
   "metadata": {},
   "outputs": [
    {
     "data": {
      "text/plain": [
       "('New York', ' New York', '11369')"
      ]
     },
     "execution_count": 179,
     "metadata": {},
     "output_type": "execute_result"
    }
   ],
   "source": [
    "#Now, we can use label group instead of number\n",
    "match.group('City'), match.group('State'), match.group('ZipCode')"
   ]
  },
  {
   "cell_type": "code",
   "execution_count": 180,
   "id": "cd4252c5",
   "metadata": {},
   "outputs": [
    {
     "data": {
      "text/plain": [
       "'New York'"
      ]
     },
     "execution_count": 180,
     "metadata": {},
     "output_type": "execute_result"
    }
   ],
   "source": [
    "match.group(1)"
   ]
  },
  {
   "cell_type": "markdown",
   "id": "0ab39e66",
   "metadata": {},
   "source": [
    "## Quantifiers on Group"
   ]
  },
  {
   "cell_type": "code",
   "execution_count": 183,
   "id": "1e41b4f2",
   "metadata": {},
   "outputs": [
    {
     "data": {
      "text/plain": [
       "<re.Match object; span=(0, 8), match='abababab'>"
      ]
     },
     "execution_count": 183,
     "metadata": {},
     "output_type": "execute_result"
    }
   ],
   "source": [
    "string='abababab'\n",
    "re.search('(ab)+', string)"
   ]
  },
  {
   "cell_type": "code",
   "execution_count": null,
   "id": "f61e6d2b",
   "metadata": {},
   "outputs": [],
   "source": [
    "re.search('[ab]+', string)"
   ]
  },
  {
   "cell_type": "code",
   "execution_count": 184,
   "id": "7e25eaef",
   "metadata": {},
   "outputs": [],
   "source": [
    "string='ababababbbbb'"
   ]
  },
  {
   "cell_type": "code",
   "execution_count": 185,
   "id": "5424fdc3",
   "metadata": {},
   "outputs": [
    {
     "data": {
      "text/plain": [
       "<re.Match object; span=(0, 8), match='abababab'>"
      ]
     },
     "execution_count": 185,
     "metadata": {},
     "output_type": "execute_result"
    }
   ],
   "source": [
    "re.search('(ab)+', string)"
   ]
  },
  {
   "cell_type": "code",
   "execution_count": 186,
   "id": "fffade9d",
   "metadata": {},
   "outputs": [
    {
     "data": {
      "text/plain": [
       "<re.Match object; span=(0, 12), match='ababababbbbb'>"
      ]
     },
     "execution_count": 186,
     "metadata": {},
     "output_type": "execute_result"
    }
   ],
   "source": [
    "re.search('[ab]+', string)"
   ]
  },
  {
   "cell_type": "markdown",
   "id": "cfcf6d80",
   "metadata": {},
   "source": [
    "## Nuances to be wary of"
   ]
  },
  {
   "cell_type": "code",
   "execution_count": 206,
   "id": "e680f2c1",
   "metadata": {},
   "outputs": [],
   "source": [
    "string='abababab'\n",
    "match = re.search('(ab)+', string)"
   ]
  },
  {
   "cell_type": "code",
   "execution_count": 195,
   "id": "61d704db",
   "metadata": {},
   "outputs": [
    {
     "data": {
      "text/plain": [
       "'ab'"
      ]
     },
     "execution_count": 195,
     "metadata": {},
     "output_type": "execute_result"
    }
   ],
   "source": [
    "match.group(1) #capturing only one gorup; value is overwritten each time"
   ]
  },
  {
   "cell_type": "code",
   "execution_count": 196,
   "id": "6af24811",
   "metadata": {},
   "outputs": [
    {
     "ename": "IndexError",
     "evalue": "no such group",
     "output_type": "error",
     "traceback": [
      "\u001b[1;31m---------------------------------------------------------------------------\u001b[0m",
      "\u001b[1;31mIndexError\u001b[0m                                Traceback (most recent call last)",
      "\u001b[1;32m<ipython-input-196-6b310a10f15b>\u001b[0m in \u001b[0;36m<module>\u001b[1;34m\u001b[0m\n\u001b[1;32m----> 1\u001b[1;33m \u001b[0mmatch\u001b[0m\u001b[1;33m.\u001b[0m\u001b[0mgroup\u001b[0m\u001b[1;33m(\u001b[0m\u001b[1;36m2\u001b[0m\u001b[1;33m)\u001b[0m \u001b[1;31m#No Value\u001b[0m\u001b[1;33m\u001b[0m\u001b[1;33m\u001b[0m\u001b[0m\n\u001b[0m",
      "\u001b[1;31mIndexError\u001b[0m: no such group"
     ]
    }
   ],
   "source": [
    "match.group(2) #No Value"
   ]
  },
  {
   "cell_type": "code",
   "execution_count": 197,
   "id": "eaa903f1",
   "metadata": {},
   "outputs": [
    {
     "data": {
      "text/plain": [
       "'abababab'"
      ]
     },
     "execution_count": 197,
     "metadata": {},
     "output_type": "execute_result"
    }
   ],
   "source": [
    "match.group()"
   ]
  },
  {
   "cell_type": "code",
   "execution_count": 215,
   "id": "781b9e9d",
   "metadata": {},
   "outputs": [],
   "source": [
    "string = 'ababababab'"
   ]
  },
  {
   "cell_type": "code",
   "execution_count": 216,
   "id": "74564bcb",
   "metadata": {},
   "outputs": [
    {
     "data": {
      "text/plain": [
       "<re.Match object; span=(0, 10), match='ababababab'>"
      ]
     },
     "execution_count": 216,
     "metadata": {},
     "output_type": "execute_result"
    }
   ],
   "source": [
    "match = re.search('(ab)+(ab)+', string) #first rule try to satisfy the data till the end\n",
    "match"
   ]
  },
  {
   "cell_type": "code",
   "execution_count": 217,
   "id": "a26db2e8",
   "metadata": {},
   "outputs": [
    {
     "data": {
      "text/plain": [
       "('ab', 'ab')"
      ]
     },
     "execution_count": 217,
     "metadata": {},
     "output_type": "execute_result"
    }
   ],
   "source": [
    "match.groups()"
   ]
  },
  {
   "cell_type": "code",
   "execution_count": 218,
   "id": "b82cf409",
   "metadata": {},
   "outputs": [
    {
     "data": {
      "text/plain": [
       "(8, 10)"
      ]
     },
     "execution_count": 218,
     "metadata": {},
     "output_type": "execute_result"
    }
   ],
   "source": [
    "match.span(2) #It takes only the last characters"
   ]
  },
  {
   "cell_type": "code",
   "execution_count": 219,
   "id": "9f38ada2",
   "metadata": {},
   "outputs": [],
   "source": [
    "string = '123456789'\n",
    "\n",
    "match = re.search('(\\d)+', string)"
   ]
  },
  {
   "cell_type": "code",
   "execution_count": 220,
   "id": "b2043aa1",
   "metadata": {},
   "outputs": [
    {
     "data": {
      "text/plain": [
       "'123456789'"
      ]
     },
     "execution_count": 220,
     "metadata": {},
     "output_type": "execute_result"
    }
   ],
   "source": [
    "match.group()"
   ]
  },
  {
   "cell_type": "code",
   "execution_count": 221,
   "id": "25240cfb",
   "metadata": {},
   "outputs": [
    {
     "data": {
      "text/plain": [
       "('9',)"
      ]
     },
     "execution_count": 221,
     "metadata": {},
     "output_type": "execute_result"
    }
   ],
   "source": [
    "match.groups() #Only one group, and it uses the least. It's getting updated through the number"
   ]
  },
  {
   "cell_type": "markdown",
   "id": "68b420a6",
   "metadata": {},
   "source": [
    "## Quantifiers with groups within findall"
   ]
  },
  {
   "cell_type": "code",
   "execution_count": 226,
   "id": "19a5dc1d",
   "metadata": {},
   "outputs": [
    {
     "data": {
      "text/plain": [
       "['9']"
      ]
     },
     "execution_count": 226,
     "metadata": {},
     "output_type": "execute_result"
    }
   ],
   "source": [
    "string = '123456789'\n",
    "\n",
    "match = re.findall('(\\d)+', string) #Only pulls out group and last instances (as it was getting updated through iteration)\n",
    "match"
   ]
  },
  {
   "cell_type": "code",
   "execution_count": 228,
   "id": "29cd7065",
   "metadata": {},
   "outputs": [
    {
     "data": {
      "text/plain": [
       "['123456789']"
      ]
     },
     "execution_count": 228,
     "metadata": {},
     "output_type": "execute_result"
    }
   ],
   "source": [
    "match = re.findall('(\\d+)', string) #Only pulls out group. Now, with _ insde, the oteration start\n",
    "match"
   ]
  },
  {
   "cell_type": "code",
   "execution_count": 230,
   "id": "c048e338",
   "metadata": {},
   "outputs": [
    {
     "data": {
      "text/plain": [
       "['4', '9']"
      ]
     },
     "execution_count": 230,
     "metadata": {},
     "output_type": "execute_result"
    }
   ],
   "source": [
    "string = '1234 6789'\n",
    "re.findall('(\\d)+', string)"
   ]
  },
  {
   "cell_type": "code",
   "execution_count": 239,
   "id": "fd92213c",
   "metadata": {},
   "outputs": [
    {
     "data": {
      "text/plain": [
       "['n', 'y', 'a']"
      ]
     },
     "execution_count": 239,
     "metadata": {},
     "output_type": "execute_result"
    }
   ],
   "source": [
    "string = 'ryan bobby andika'\n",
    "re.findall('(\\w)+', string)"
   ]
  },
  {
   "cell_type": "code",
   "execution_count": 240,
   "id": "66055ab7",
   "metadata": {},
   "outputs": [
    {
     "data": {
      "text/plain": [
       "[('1234', '4'), ('6789', '9')]"
      ]
     },
     "execution_count": 240,
     "metadata": {},
     "output_type": "execute_result"
    }
   ],
   "source": [
    "string = '1234 6789'\n",
    "re.findall('((\\d)+)', string)"
   ]
  },
  {
   "cell_type": "code",
   "execution_count": 241,
   "id": "49d483ee",
   "metadata": {},
   "outputs": [
    {
     "data": {
      "text/plain": [
       "['ab', 'ab']"
      ]
     },
     "execution_count": 241,
     "metadata": {},
     "output_type": "execute_result"
    }
   ],
   "source": [
    "string = 'abbbb abababab'\n",
    "re.findall('(ab)+', string)"
   ]
  },
  {
   "cell_type": "code",
   "execution_count": 242,
   "id": "f5fab8df",
   "metadata": {},
   "outputs": [
    {
     "data": {
      "text/plain": [
       "[('ab', 'ab'), ('abababab', 'ab')]"
      ]
     },
     "execution_count": 242,
     "metadata": {},
     "output_type": "execute_result"
    }
   ],
   "source": [
    "string = 'abbbb abababab'\n",
    "re.findall('((ab)+)', string)"
   ]
  },
  {
   "cell_type": "markdown",
   "id": "f1bc24b2",
   "metadata": {},
   "source": [
    "## Groups for word completion"
   ]
  },
  {
   "cell_type": "code",
   "execution_count": 258,
   "id": "f55a0b5f",
   "metadata": {},
   "outputs": [
    {
     "data": {
      "text/plain": [
       "<re.Match object; span=(0, 14), match='Happy Birthday'>"
      ]
     },
     "execution_count": 258,
     "metadata": {},
     "output_type": "execute_result"
    }
   ],
   "source": [
    "re.search('Happy (Valentines|Birthday|Anniversary)', 'Happy Birthday')"
   ]
  },
  {
   "cell_type": "code",
   "execution_count": 259,
   "id": "a15bdef9",
   "metadata": {},
   "outputs": [
    {
     "data": {
      "text/plain": [
       "<re.Match object; span=(6, 14), match='Birthday'>"
      ]
     },
     "execution_count": 259,
     "metadata": {},
     "output_type": "execute_result"
    }
   ],
   "source": [
    "re.search('Happy Valentines|Happy Birthday|Happy Anniversary', 'Happy Birthday') #Representation of groups above"
   ]
  },
  {
   "cell_type": "markdown",
   "id": "e9cd4b6b",
   "metadata": {},
   "source": [
    "## Non-Capture"
   ]
  },
  {
   "cell_type": "code",
   "execution_count": 262,
   "id": "a0c0adc7",
   "metadata": {},
   "outputs": [
    {
     "data": {
      "text/plain": [
       "['4', '8']"
      ]
     },
     "execution_count": 262,
     "metadata": {},
     "output_type": "execute_result"
    }
   ],
   "source": [
    "string = '1234 5678'\n",
    "re.findall('(\\d)+', string)"
   ]
  },
  {
   "cell_type": "code",
   "execution_count": 261,
   "id": "af76022c",
   "metadata": {},
   "outputs": [
    {
     "data": {
      "text/plain": [
       "['1234', '5678']"
      ]
     },
     "execution_count": 261,
     "metadata": {},
     "output_type": "execute_result"
    }
   ],
   "source": [
    "#Non Captures Group\n",
    "re.findall('(?:\\d)+', string)"
   ]
  },
  {
   "cell_type": "code",
   "execution_count": 268,
   "id": "28a3075f",
   "metadata": {},
   "outputs": [
    {
     "data": {
      "text/plain": [
       "['4', '8']"
      ]
     },
     "execution_count": 268,
     "metadata": {},
     "output_type": "execute_result"
    }
   ],
   "source": [
    "re.findall('(?:\\d)+(\\d+)', string)\n",
    "#Here in this case, we have 1 non capturing group and 1 capturing group. \n",
    "#In the result, we will have the output of only capturing group.\n",
    "#But if there's only non capturing group, it'll just output all the data"
   ]
  },
  {
   "cell_type": "code",
   "execution_count": 273,
   "id": "601185be",
   "metadata": {},
   "outputs": [],
   "source": [
    "string  = '123123 = Alex, 123123123 = Danny, 123123123123 = Mike, 456456 = rick, 121212 = John, 132132 = Luis,' "
   ]
  },
  {
   "cell_type": "code",
   "execution_count": 276,
   "id": "b2efd57b",
   "metadata": {},
   "outputs": [
    {
     "data": {
      "text/plain": [
       "['Alex', 'Danny', 'Mike', 'rick', 'John', 'Luis']"
      ]
     },
     "execution_count": 276,
     "metadata": {},
     "output_type": "execute_result"
    }
   ],
   "source": [
    "re.findall('(?:\\d)+ = (\\w+),', string)"
   ]
  },
  {
   "cell_type": "code",
   "execution_count": 284,
   "id": "c2325e65",
   "metadata": {},
   "outputs": [
    {
     "data": {
      "text/plain": [
       "['Alex', 'Danny', 'Mike', 'rick', 'John', 'Luis']"
      ]
     },
     "execution_count": 284,
     "metadata": {},
     "output_type": "execute_result"
    }
   ],
   "source": [
    "re.findall('(?:\\d)+ = (\\w+),', string)"
   ]
  },
  {
   "cell_type": "code",
   "execution_count": 288,
   "id": "1e6d96ce",
   "metadata": {},
   "outputs": [
    {
     "data": {
      "text/plain": [
       "['22222', '3333']"
      ]
     },
     "execution_count": 288,
     "metadata": {},
     "output_type": "execute_result"
    }
   ],
   "source": [
    "#Another example\n",
    "string = '1*1*1*1*22222  1*1*3333  2*1*2*1*222  1*2*2*2*333 3*3*3*444'\n",
    "\n",
    "#Here, we want to capture the repetition of '1*' that happens at least 2 times. And extract the last characters\n",
    "re.findall('(?:1\\*){2,}(\\d+)',string)"
   ]
  },
  {
   "cell_type": "code",
   "execution_count": 289,
   "id": "8468072b",
   "metadata": {},
   "outputs": [
    {
     "data": {
      "text/plain": [
       "['1*1*1*1*22222', '1*1*3333']"
      ]
     },
     "execution_count": 289,
     "metadata": {},
     "output_type": "execute_result"
    }
   ],
   "source": [
    "re.findall('(?:1\\*){2,}\\d+',string)"
   ]
  },
  {
   "cell_type": "code",
   "execution_count": 300,
   "id": "84521240",
   "metadata": {},
   "outputs": [
    {
     "name": "stdout",
     "output_type": "stream",
     "text": [
      "()\n"
     ]
    }
   ],
   "source": [
    "string = '1234 56789'\n",
    "\n",
    "match = re.search('(?:\\d)+', string)\n",
    "print(match.groups())\n",
    "\n",
    "#But here in search, if there is no group, then there'll be no output of groups.\n",
    "#But, if its findall, it'll give us all values"
   ]
  },
  {
   "cell_type": "code",
   "execution_count": 294,
   "id": "27e76a85",
   "metadata": {},
   "outputs": [
    {
     "name": "stdout",
     "output_type": "stream",
     "text": [
      "('4',)\n"
     ]
    }
   ],
   "source": [
    "string = '1234 56789'\n",
    "\n",
    "match = re.search('(:?\\d)+', string)\n",
    "print(match.groups())"
   ]
  },
  {
   "cell_type": "markdown",
   "id": "55a029ec",
   "metadata": {},
   "source": [
    "## Backreferences (Using captured groups inside other operations)"
   ]
  },
  {
   "cell_type": "code",
   "execution_count": 305,
   "id": "11f0a121",
   "metadata": {},
   "outputs": [
    {
     "data": {
      "text/plain": [
       "<re.Match object; span=(0, 11), match='merry merry'>"
      ]
     },
     "execution_count": 305,
     "metadata": {},
     "output_type": "execute_result"
    }
   ],
   "source": [
    "string = 'merry merry ryan'\n",
    "re.search(r'(\\w+) \\1', string)"
   ]
  },
  {
   "cell_type": "code",
   "execution_count": null,
   "id": "54ffe483",
   "metadata": {},
   "outputs": [],
   "source": [
    "\\1 is just referencing the first group within the regular expression"
   ]
  },
  {
   "cell_type": "code",
   "execution_count": 307,
   "id": "07532ff5",
   "metadata": {},
   "outputs": [
    {
     "data": {
      "text/plain": [
       "['merry', 'andika']"
      ]
     },
     "execution_count": 307,
     "metadata": {},
     "output_type": "execute_result"
    }
   ],
   "source": [
    "string = 'merry merry ryan. bobby andika andika'\n",
    "re.findall(r'(\\w+) \\1', string)"
   ]
  },
  {
   "cell_type": "code",
   "execution_count": 309,
   "id": "eed2d5c7",
   "metadata": {},
   "outputs": [
    {
     "data": {
      "text/plain": [
       "['merry', 'andika', 'doi']"
      ]
     },
     "execution_count": 309,
     "metadata": {},
     "output_type": "execute_result"
    }
   ],
   "source": [
    "string = 'merry merry ryan. bobby andika andika. doi doi doi'\n",
    "re.findall(r'(\\w+) \\1', string)"
   ]
  },
  {
   "cell_type": "markdown",
   "id": "2f6ca19d",
   "metadata": {},
   "source": [
    "## Flags"
   ]
  },
  {
   "cell_type": "code",
   "execution_count": 315,
   "id": "a7c5142a",
   "metadata": {},
   "outputs": [],
   "source": [
    "string =\"\"\"U.S. stock-index futures pointed\n",
    "to a solidly higher open on \n",
    "Monday, indicating that major \n",
    "benchmarks were poised to rebound \n",
    "from last week’s sharp decline, \n",
    "which represented their biggest weekly drops in months.\n",
    "That weakness was driven in part by \n",
    "fears over North Korea, where tensions \n",
    "with the U.S. have been escalating. \n",
    "North Korea. That issue overshadowed the state of \n",
    "the equity market, where earnings \n",
    "have been strong at a time of high \n",
    "employment and low inflation, \n",
    "as well as valuations that a\n",
    "ppear elevated by many metrics, north korea North Korea.\"\"\""
   ]
  },
  {
   "cell_type": "code",
   "execution_count": null,
   "id": "7e833a5e",
   "metadata": {},
   "outputs": [],
   "source": [
    "^ = matches at beginning of string\n",
    "$ = matches at end of string"
   ]
  },
  {
   "cell_type": "code",
   "execution_count": 311,
   "id": "d5c60d67",
   "metadata": {},
   "outputs": [],
   "source": [
    "re.search('^North Korea\\.?', string) #We won't get any result as the beginning is U.S."
   ]
  },
  {
   "cell_type": "code",
   "execution_count": 313,
   "id": "06bf1bdc",
   "metadata": {},
   "outputs": [],
   "source": [
    "re.match('North Korea\\.?', string) #We won't get any result as the beginning is U.S."
   ]
  },
  {
   "cell_type": "code",
   "execution_count": 317,
   "id": "eff7b211",
   "metadata": {},
   "outputs": [
    {
     "data": {
      "text/plain": [
       "<re.Match object; span=(557, 569), match='North Korea.'>"
      ]
     },
     "execution_count": 317,
     "metadata": {},
     "output_type": "execute_result"
    }
   ],
   "source": [
    "re.search('North Korea\\.?$', string) #We will get the result from the last word, which is North Korea."
   ]
  },
  {
   "cell_type": "markdown",
   "id": "f19aa08a",
   "metadata": {},
   "source": [
    "## re.MULTILINE / re.M"
   ]
  },
  {
   "cell_type": "code",
   "execution_count": 319,
   "id": "3344ec8f",
   "metadata": {},
   "outputs": [
    {
     "data": {
      "text/plain": [
       "<re.Match object; span=(331, 343), match='North Korea.'>"
      ]
     },
     "execution_count": 319,
     "metadata": {},
     "output_type": "execute_result"
    }
   ],
   "source": [
    "re.search('^North Korea\\.?', string, flags=re.M) \n",
    "#We able to collect North Korea as one of the line is begin with \"North Korea\".\n",
    "#n it's only work in re.search"
   ]
  },
  {
   "cell_type": "code",
   "execution_count": 320,
   "id": "08feb86b",
   "metadata": {},
   "outputs": [],
   "source": [
    "re.match('^North Korea\\.?', string, flags=re.M) "
   ]
  },
  {
   "cell_type": "markdown",
   "id": "28bbefda",
   "metadata": {},
   "source": [
    "## re.IGNORECASE/ re.I"
   ]
  },
  {
   "cell_type": "code",
   "execution_count": 322,
   "id": "32ce8c3a",
   "metadata": {},
   "outputs": [
    {
     "data": {
      "text/plain": [
       "['North Korea', 'North Korea', 'north korea', 'North Korea']"
      ]
     },
     "execution_count": 322,
     "metadata": {},
     "output_type": "execute_result"
    }
   ],
   "source": [
    "re.findall('North Korea', string, flags = re.I) #it will collect all designated characters without regarding upper/lower case"
   ]
  },
  {
   "cell_type": "markdown",
   "id": "6f035e11",
   "metadata": {},
   "source": [
    "## re.DOTALL/re.S"
   ]
  },
  {
   "cell_type": "code",
   "execution_count": 330,
   "id": "df289f4e",
   "metadata": {},
   "outputs": [
    {
     "data": {
      "text/plain": [
       "'U.S. stock-index futures pointed'"
      ]
     },
     "execution_count": 330,
     "metadata": {},
     "output_type": "execute_result"
    }
   ],
   "source": [
    "re.match('.*', string).group() #Grabs the first line only with the '.' character"
   ]
  },
  {
   "cell_type": "code",
   "execution_count": 328,
   "id": "1010445f",
   "metadata": {},
   "outputs": [
    {
     "data": {
      "text/plain": [
       "'U.S. stock-index futures pointed\\nto a solidly higher open on \\nMonday, indicating that major \\nbenchmarks were poised to rebound \\nfrom last week’s sharp decline, \\nwhich represented their biggest weekly drops in months.\\nThat weakness was driven in part by \\nfears over North Korea, where tensions \\nwith the U.S. have been escalating. \\nNorth Korea. That issue overshadowed the state of \\nthe equity market, where earnings \\nhave been strong at a time of high \\nemployment and low inflation, \\nas well as valuations that a\\nppear elevated by many metrics, north korea North Korea.'"
      ]
     },
     "execution_count": 328,
     "metadata": {},
     "output_type": "execute_result"
    }
   ],
   "source": [
    "re.match('.*', string, flags=re.S).group() #Entire lines"
   ]
  },
  {
   "cell_type": "code",
   "execution_count": 334,
   "id": "3519f337",
   "metadata": {},
   "outputs": [
    {
     "data": {
      "text/plain": [
       "['U.S. stock-index futures pointed\\nto a solidly higher open on \\nMonday, indicating that major \\nbenchmarks were poised to rebound \\nfrom last week’s sharp decline, \\nwhich represented their biggest weekly drops in months.\\nThat weakness was driven in part by \\nfears over North Korea, where tensions \\nwith the U.S. have been escalating. \\nNorth Korea. That issue overshadowed the state of \\nthe equity market, where earnings \\nhave been strong at a time of high \\nemployment and low inflation, \\nas well as valuations that a\\nppear elevated by many metrics, north korea North Korea.',\n",
       " '']"
      ]
     },
     "execution_count": 334,
     "metadata": {},
     "output_type": "execute_result"
    }
   ],
   "source": [
    "re.findall('.*', string, flags=re.S) #Entire lines"
   ]
  },
  {
   "cell_type": "code",
   "execution_count": null,
   "id": "c11c8c47",
   "metadata": {},
   "outputs": [],
   "source": [
    "#re.match only consider the beginning of the string to search the substring\n",
    "#re.search will search the substring from a whole string\n",
    "#but both of them only produce the first occurence"
   ]
  },
  {
   "cell_type": "markdown",
   "id": "078a7920",
   "metadata": {},
   "source": [
    "## re.methods"
   ]
  },
  {
   "cell_type": "markdown",
   "id": "86a31908",
   "metadata": {},
   "source": [
    "## re.split"
   ]
  },
  {
   "cell_type": "code",
   "execution_count": 350,
   "id": "3dd4472d",
   "metadata": {},
   "outputs": [
    {
     "data": {
      "text/plain": [
       "['Today is Sunny', ' Ryan is Cool']"
      ]
     },
     "execution_count": 350,
     "metadata": {},
     "output_type": "execute_result"
    }
   ],
   "source": [
    "re.split('\\.', 'Today is Sunny. Ryan is Cool') #Assign particular character as a splitter"
   ]
  },
  {
   "cell_type": "code",
   "execution_count": 338,
   "id": "bf3b38a5",
   "metadata": {},
   "outputs": [
    {
     "data": {
      "text/plain": [
       "['Today is Sunny', '.', ' Ryan is Cool', '.', '']"
      ]
     },
     "execution_count": 338,
     "metadata": {},
     "output_type": "execute_result"
    }
   ],
   "source": [
    "#If we want to include the split point instead of only split characters, we use ()\n",
    "re.split('(\\.)', 'Today is Sunny. Ryan is Cool.')"
   ]
  },
  {
   "cell_type": "code",
   "execution_count": 342,
   "id": "7e9bf08f",
   "metadata": {},
   "outputs": [],
   "source": [
    "string = '<p>My mother has <span style=\"color:blue\">blue</span> eyes.</p>'"
   ]
  },
  {
   "cell_type": "code",
   "execution_count": 346,
   "id": "24874005",
   "metadata": {},
   "outputs": [
    {
     "data": {
      "text/plain": [
       "['', 'My mother has ', 'blue', ' eyes.', '']"
      ]
     },
     "execution_count": 346,
     "metadata": {},
     "output_type": "execute_result"
    }
   ],
   "source": [
    "re.split('<[^<>]+>', string) #it becomes negate of <> when together with []\n",
    "#In this case, the <p> will lead us to the zero content"
   ]
  },
  {
   "cell_type": "code",
   "execution_count": 344,
   "id": "2d7e78da",
   "metadata": {},
   "outputs": [
    {
     "data": {
      "text/plain": [
       "['', 'My mother has <span style=\"color:blue\">blue</span> eyes.</p>']"
      ]
     },
     "execution_count": 344,
     "metadata": {},
     "output_type": "execute_result"
    }
   ],
   "source": [
    "re.split('<\\w+>', string)"
   ]
  },
  {
   "cell_type": "code",
   "execution_count": 371,
   "id": "0949a1b4",
   "metadata": {},
   "outputs": [
    {
     "data": {
      "text/plain": [
       "['', 'happy', ' birthday', '']"
      ]
     },
     "execution_count": 371,
     "metadata": {},
     "output_type": "execute_result"
    }
   ],
   "source": [
    "re.split(',', ',happy, birthday,') #we face the empty string problem"
   ]
  },
  {
   "cell_type": "markdown",
   "id": "a6f944e9",
   "metadata": {},
   "source": [
    "## Handling Empty string problem in split"
   ]
  },
  {
   "cell_type": "code",
   "execution_count": 355,
   "id": "bb44c87f",
   "metadata": {},
   "outputs": [
    {
     "data": {
      "text/plain": [
       "['My mother has ', 'blue', ' eyes.']"
      ]
     },
     "execution_count": 355,
     "metadata": {},
     "output_type": "execute_result"
    }
   ],
   "source": [
    "[i for i in re.split(\"<[^<>]+>\", string) if i !='']"
   ]
  },
  {
   "cell_type": "code",
   "execution_count": 363,
   "id": "9a0acc37",
   "metadata": {},
   "outputs": [
    {
     "data": {
      "text/plain": [
       "['My mother has ', 'blue', ' eyes.']"
      ]
     },
     "execution_count": 363,
     "metadata": {},
     "output_type": "execute_result"
    }
   ],
   "source": [
    "re.findall('>([^<]+)<', string) #We only take the value inside ()"
   ]
  },
  {
   "cell_type": "code",
   "execution_count": 369,
   "id": "a17825d2",
   "metadata": {},
   "outputs": [
    {
     "data": {
      "text/plain": [
       "['happy', 'birthday']"
      ]
     },
     "execution_count": 369,
     "metadata": {},
     "output_type": "execute_result"
    }
   ],
   "source": [
    "string = 'happy, birthday, '\n",
    "list(filter(None, string.split(', '))) #Getting rid all none value"
   ]
  },
  {
   "cell_type": "code",
   "execution_count": 373,
   "id": "4f0d4884",
   "metadata": {},
   "outputs": [
    {
     "data": {
      "text/plain": [
       "['ryan', ' ', 'bobby']"
      ]
     },
     "execution_count": 373,
     "metadata": {},
     "output_type": "execute_result"
    }
   ],
   "source": [
    "list(filter(None, ['ryan', ' ', 'bobby']))"
   ]
  },
  {
   "cell_type": "markdown",
   "id": "3b1a56b5",
   "metadata": {},
   "source": [
    "## re.sub"
   ]
  },
  {
   "cell_type": "code",
   "execution_count": 374,
   "id": "42b5181c",
   "metadata": {},
   "outputs": [],
   "source": [
    "string =\"\"\"U.S. stock-index futures pointed\n",
    "to a solidly higher open on Monday, \n",
    "indicating that major \n",
    "benchmarks were poised to USA reboundfrom last week’s sharp decline, \n",
    "\\nwhich represented their biggest weekly drops in months.\"\"\""
   ]
  },
  {
   "cell_type": "code",
   "execution_count": 377,
   "id": "12cfdb12",
   "metadata": {},
   "outputs": [
    {
     "name": "stdout",
     "output_type": "stream",
     "text": [
      "United States stock-index futures pointed\n",
      "to a solidly higher open on Monday, \n",
      "indicating that major \n",
      "benchmarks were poised to United States reboundfrom last week’s sharp decline, \n",
      "\n",
      "which represented their biggest weekly drops in months.\n"
     ]
    }
   ],
   "source": [
    "print(re.sub('U.S.|USA|US', 'United States', string))"
   ]
  },
  {
   "cell_type": "markdown",
   "id": "361f7875",
   "metadata": {},
   "source": [
    "## Using functions with Sub"
   ]
  },
  {
   "cell_type": "code",
   "execution_count": 378,
   "id": "a23cbe03",
   "metadata": {},
   "outputs": [
    {
     "data": {
      "text/plain": [
       "9"
      ]
     },
     "execution_count": 378,
     "metadata": {},
     "output_type": "execute_result"
    }
   ],
   "source": [
    "def square(x):\n",
    "    return (x**2)\n",
    "\n",
    "square(3)"
   ]
  },
  {
   "cell_type": "code",
   "execution_count": 379,
   "id": "5929bd81",
   "metadata": {},
   "outputs": [
    {
     "data": {
      "text/plain": [
       "9"
      ]
     },
     "execution_count": 379,
     "metadata": {},
     "output_type": "execute_result"
    }
   ],
   "source": [
    "#With lambda, we can make a function\n",
    "square = lambda x: x**2\n",
    "square(3)"
   ]
  },
  {
   "cell_type": "code",
   "execution_count": 380,
   "id": "4bb0be0b",
   "metadata": {},
   "outputs": [
    {
     "data": {
      "text/plain": [
       "13"
      ]
     },
     "execution_count": 380,
     "metadata": {},
     "output_type": "execute_result"
    }
   ],
   "source": [
    "ko = lambda x,y: x**2 + y**2\n",
    "ko(2,3)"
   ]
  },
  {
   "cell_type": "code",
   "execution_count": 381,
   "id": "bd3430e1",
   "metadata": {},
   "outputs": [
    {
     "data": {
      "text/plain": [
       "'ryan has 1 cat. Mark has 1 cats'"
      ]
     },
     "execution_count": 381,
     "metadata": {},
     "output_type": "execute_result"
    }
   ],
   "source": [
    "string = 'ryan has 1 cat. Mark has 3 cats'\n",
    "re.sub('(\\d+)','1',string)"
   ]
  },
  {
   "cell_type": "code",
   "execution_count": 382,
   "id": "76beb907",
   "metadata": {},
   "outputs": [
    {
     "data": {
      "text/plain": [
       "'ryan has 1 cat. Mark has 9 cats'"
      ]
     },
     "execution_count": 382,
     "metadata": {},
     "output_type": "execute_result"
    }
   ],
   "source": [
    "re.sub('(\\d+)', lambda x: str(square(int(x.group(0)))), string)\n",
    "#We want to change all numerical value with the square based on the function"
   ]
  },
  {
   "cell_type": "code",
   "execution_count": 386,
   "id": "b5d80390",
   "metadata": {},
   "outputs": [
    {
     "data": {
      "text/plain": [
       "'ryaning eating bananaing everydaying'"
      ]
     },
     "execution_count": 386,
     "metadata": {},
     "output_type": "execute_result"
    }
   ],
   "source": [
    "inputt = 'ryan eat banana everyday'\n",
    "re.sub('(\\w+)',lambda x:x.group() +'ing', inputt)"
   ]
  },
  {
   "cell_type": "markdown",
   "id": "1f195039",
   "metadata": {},
   "source": [
    "## Backreferencing with subs"
   ]
  },
  {
   "cell_type": "code",
   "execution_count": 390,
   "id": "16912274",
   "metadata": {},
   "outputs": [
    {
     "data": {
      "text/plain": [
       "('merry', 'merry')"
      ]
     },
     "execution_count": 390,
     "metadata": {},
     "output_type": "execute_result"
    }
   ],
   "source": [
    "string = 'merry merry ryan'\n",
    "re.search(r'(\\w+) (\\1)', string).groups()"
   ]
  },
  {
   "cell_type": "code",
   "execution_count": 392,
   "id": "10232dfb",
   "metadata": {},
   "outputs": [
    {
     "data": {
      "text/plain": [
       "('merry', 'merry')"
      ]
     },
     "execution_count": 392,
     "metadata": {},
     "output_type": "execute_result"
    }
   ],
   "source": [
    "string = 'merry merry ryan'\n",
    "re.search(r'(\\w+) (\\1)', string).group(1,2)"
   ]
  },
  {
   "cell_type": "code",
   "execution_count": 397,
   "id": "9912edb3",
   "metadata": {},
   "outputs": [
    {
     "data": {
      "text/plain": [
       "'happy merry ryan'"
      ]
     },
     "execution_count": 397,
     "metadata": {},
     "output_type": "execute_result"
    }
   ],
   "source": [
    "string = 'merry merry ryan'\n",
    "re.sub(r'(\\w+) (\\1)',r'happy \\1', string)"
   ]
  },
  {
   "cell_type": "code",
   "execution_count": 396,
   "id": "df1afc1a",
   "metadata": {},
   "outputs": [
    {
     "data": {
      "text/plain": [
       "'merry happy ryan'"
      ]
     },
     "execution_count": 396,
     "metadata": {},
     "output_type": "execute_result"
    }
   ],
   "source": [
    "string = 'merry merry ryan'\n",
    "re.sub(r'(\\w+) (\\1)',r'\\1 happy', string)"
   ]
  },
  {
   "cell_type": "code",
   "execution_count": 398,
   "id": "17bd0714",
   "metadata": {},
   "outputs": [
    {
     "data": {
      "text/plain": [
       "'happy merry ryan'"
      ]
     },
     "execution_count": 398,
     "metadata": {},
     "output_type": "execute_result"
    }
   ],
   "source": [
    "string = 'merry merry ryan'\n",
    "re.sub(r'(\\w+) (\\1)',r'happy \\2', string)"
   ]
  },
  {
   "cell_type": "markdown",
   "id": "89df3272",
   "metadata": {},
   "source": [
    "## \\b meta character"
   ]
  },
  {
   "cell_type": "markdown",
   "id": "7f058f4b",
   "metadata": {},
   "source": [
    "\\b is called as 'boundary' and allows us to isolate words. It is similar to ^ and $ \n",
    "(Location and no consumption)"
   ]
  },
  {
   "cell_type": "code",
   "execution_count": 399,
   "id": "2890c321",
   "metadata": {},
   "outputs": [],
   "source": [
    "string = 'cat cathrine catholic wildcat copycat uncatchable'"
   ]
  },
  {
   "cell_type": "code",
   "execution_count": 402,
   "id": "bee3277e",
   "metadata": {},
   "outputs": [],
   "source": [
    "pattern = re.compile('cat') #it's only taking the cat"
   ]
  },
  {
   "cell_type": "code",
   "execution_count": 401,
   "id": "65a5fc59",
   "metadata": {},
   "outputs": [
    {
     "data": {
      "text/plain": [
       "['cat', 'cat', 'cat', 'cat', 'cat', 'cat']"
      ]
     },
     "execution_count": 401,
     "metadata": {},
     "output_type": "execute_result"
    }
   ],
   "source": [
    "re.findall(pattern, string)"
   ]
  },
  {
   "cell_type": "code",
   "execution_count": 405,
   "id": "ced4cff8",
   "metadata": {},
   "outputs": [
    {
     "data": {
      "text/plain": [
       "['cat ', 'cat ', 'cat ']"
      ]
     },
     "execution_count": 405,
     "metadata": {},
     "output_type": "execute_result"
    }
   ],
   "source": [
    "pattern = re.compile('cat ') #Now we got cat with space after it\n",
    "re.findall(pattern, string)"
   ]
  },
  {
   "cell_type": "code",
   "execution_count": 413,
   "id": "f6324225",
   "metadata": {},
   "outputs": [
    {
     "data": {
      "text/plain": [
       "['cat']"
      ]
     },
     "execution_count": 413,
     "metadata": {},
     "output_type": "execute_result"
    }
   ],
   "source": [
    "string = 'cat cathrine catholic wildcat copycat uncatchable'\n",
    "pattern = re.compile(r'\\bcat\\b') #now we bounded the 'cat', so it will only give us the first word of cat\n",
    "re.findall(pattern, string)\n",
    "#But \\b only consider in which the left and right word are non-characters\n",
    "#Space is considered as non-character"
   ]
  },
  {
   "cell_type": "code",
   "execution_count": 416,
   "id": "749b0ccb",
   "metadata": {},
   "outputs": [
    {
     "data": {
      "text/plain": [
       "[]"
      ]
     },
     "execution_count": 416,
     "metadata": {},
     "output_type": "execute_result"
    }
   ],
   "source": [
    "string = 'acathe'\n",
    "pattern = re.compile(r'\\bcat\\b')\n",
    "re.findall(pattern, string)"
   ]
  },
  {
   "cell_type": "code",
   "execution_count": 417,
   "id": "58554cb4",
   "metadata": {},
   "outputs": [],
   "source": [
    "string = '@moondra2017.org'\n",
    "string2 = '@moondra'\n",
    "string3 = 'Python@moondra'\n",
    "string4 = '@moondra_python'"
   ]
  },
  {
   "cell_type": "code",
   "execution_count": 419,
   "id": "8970d6dd",
   "metadata": {},
   "outputs": [],
   "source": [
    "pattern = re.compile(r'\\b@[\\w]+\\b') \n",
    "re.search(pattern, string4)#it's not giving any result because left side of @ is non alpha numerical\n",
    "#it has to be numerical and alpha numerical side by side"
   ]
  },
  {
   "cell_type": "code",
   "execution_count": 421,
   "id": "0aab6a92",
   "metadata": {},
   "outputs": [
    {
     "data": {
      "text/plain": [
       "<re.Match object; span=(6, 14), match='@moondra'>"
      ]
     },
     "execution_count": 421,
     "metadata": {},
     "output_type": "execute_result"
    }
   ],
   "source": [
    "pattern = re.compile(r'\\b@[\\w]+\\b') \n",
    "re.search(pattern, string3)#it's work because left side of @ (non alpha nuerical) is alpha numerical\n",
    "#it has to be numerical and alpha numerical side by side"
   ]
  },
  {
   "cell_type": "code",
   "execution_count": 423,
   "id": "d5ecf0ec",
   "metadata": {},
   "outputs": [],
   "source": [
    "pattern = re.compile(r'\\b@[\\w]+\\b') \n",
    "re.search(pattern, string2) #left side of @ is non alpha numerical"
   ]
  },
  {
   "cell_type": "code",
   "execution_count": 425,
   "id": "75fae14d",
   "metadata": {},
   "outputs": [],
   "source": [
    "pattern = re.compile(r'\\b@[\\w]+\\b') \n",
    "re.search(pattern, string) #left side of @ is non alpha numerical"
   ]
  },
  {
   "cell_type": "code",
   "execution_count": 427,
   "id": "46ec9474",
   "metadata": {},
   "outputs": [
    {
     "data": {
      "text/plain": [
       "<re.Match object; span=(0, 15), match='@moondra_python'>"
      ]
     },
     "execution_count": 427,
     "metadata": {},
     "output_type": "execute_result"
    }
   ],
   "source": [
    "pattern = re.compile(r'\\B@[\\w]+\\b') \n",
    "re.search(pattern, string4) #with capital B, it'll allow us a same side-by-side alpha non-alpha numerical"
   ]
  },
  {
   "cell_type": "code",
   "execution_count": 429,
   "id": "524b771a",
   "metadata": {},
   "outputs": [
    {
     "data": {
      "text/plain": [
       "<re.Match object; span=(0, 12), match='@moondra2017'>"
      ]
     },
     "execution_count": 429,
     "metadata": {},
     "output_type": "execute_result"
    }
   ],
   "source": [
    "pattern = re.compile(r'\\B@[\\w]+\\b') \n",
    "re.search(pattern, string) #It is stop because 17 and . is side by side of alpha n non-alpha numerical"
   ]
  },
  {
   "cell_type": "code",
   "execution_count": 430,
   "id": "e9a29e0c",
   "metadata": {},
   "outputs": [],
   "source": [
    "pattern = re.compile(r'\\B@[\\w]+$') \n",
    "re.search(pattern, string) #It is not giving us result as there is non-alpha numerical"
   ]
  },
  {
   "cell_type": "code",
   "execution_count": 431,
   "id": "b93cbde2",
   "metadata": {},
   "outputs": [
    {
     "data": {
      "text/plain": [
       "<re.Match object; span=(0, 8), match='@moondra'>"
      ]
     },
     "execution_count": 431,
     "metadata": {},
     "output_type": "execute_result"
    }
   ],
   "source": [
    "pattern = re.compile(r'\\B@[\\w]+$') \n",
    "re.search(pattern, string2)"
   ]
  },
  {
   "cell_type": "code",
   "execution_count": 432,
   "id": "bcc4aabf",
   "metadata": {},
   "outputs": [],
   "source": [
    "pattern = re.compile(r'\\B@[\\w]+$') \n",
    "re.search(pattern, string3)"
   ]
  },
  {
   "cell_type": "code",
   "execution_count": 433,
   "id": "e6c052d8",
   "metadata": {},
   "outputs": [
    {
     "data": {
      "text/plain": [
       "<re.Match object; span=(0, 15), match='@moondra_python'>"
      ]
     },
     "execution_count": 433,
     "metadata": {},
     "output_type": "execute_result"
    }
   ],
   "source": [
    "pattern = re.compile(r'\\B@[\\w]+$') \n",
    "re.search(pattern, string4)"
   ]
  },
  {
   "cell_type": "markdown",
   "id": "e6b85e10",
   "metadata": {},
   "source": [
    "## Look Around (allows us to confirm that some sort of subpattern is ahead or behind main pattern)"
   ]
  },
  {
   "cell_type": "code",
   "execution_count": 10,
   "id": "81476c63",
   "metadata": {},
   "outputs": [
    {
     "data": {
      "text/plain": [
       "<re.Match object; span=(0, 4), match='ryan'>"
      ]
     },
     "execution_count": 10,
     "metadata": {},
     "output_type": "execute_result"
    }
   ],
   "source": [
    "re.search('[\\w]+','ryan bobby andika')"
   ]
  },
  {
   "cell_type": "code",
   "execution_count": null,
   "id": "4fc547d3",
   "metadata": {},
   "outputs": [],
   "source": [
    "+ve look ahead ?=\n",
    "\n",
    "-ve look ahead ?!\n",
    "\n",
    "+ve look behind ?<=\n",
    "\n",
    "-ve look behind ?<!"
   ]
  },
  {
   "cell_type": "code",
   "execution_count": 12,
   "id": "5cea7dc4",
   "metadata": {},
   "outputs": [],
   "source": [
    "#In the below string we are looking to consume the second column value\n",
    "#only if the first column starts with ABC and the last column \n",
    "#has the value 'active'\n",
    "\n",
    "#So only the first row and last row satisfies this condition which will\n",
    "#output the value '1.1.1.1' and 'x.x.x.x'"
   ]
  },
  {
   "cell_type": "code",
   "execution_count": 14,
   "id": "f4d7a47e",
   "metadata": {},
   "outputs": [],
   "source": [
    "string ='''ABC1    1.1.1.1    20151118    active\n",
    "           ABC2    2.2.2.2    20151118    inactive\n",
    "           ABC3    x.x.x.x    xxxxxxxx    active'''"
   ]
  },
  {
   "cell_type": "code",
   "execution_count": 17,
   "id": "95374263",
   "metadata": {},
   "outputs": [
    {
     "data": {
      "text/plain": [
       "['1.1.1.1', 'x.x.x.x']"
      ]
     },
     "execution_count": 17,
     "metadata": {},
     "output_type": "execute_result"
    }
   ],
   "source": [
    "pattern = re.compile('ABC\\d\\s+(\\S+)\\s+\\S+\\s+(?=active)') #positive look ahead\n",
    "#it's looking for 'active word', but non capturing the word\n",
    "re.findall(pattern, string)"
   ]
  },
  {
   "cell_type": "code",
   "execution_count": 19,
   "id": "52f88c3c",
   "metadata": {},
   "outputs": [
    {
     "data": {
      "text/plain": [
       "<re.Match object; span=(0, 31), match='ABC1    1.1.1.1    20151118    '>"
      ]
     },
     "execution_count": 19,
     "metadata": {},
     "output_type": "execute_result"
    }
   ],
   "source": [
    "re.search(pattern, string) #it doesn't pull up the group. everything just being captured"
   ]
  },
  {
   "cell_type": "code",
   "execution_count": 20,
   "id": "8795ef4a",
   "metadata": {},
   "outputs": [
    {
     "data": {
      "text/plain": [
       "['1.1.1.1', 'x.x.x.x']"
      ]
     },
     "execution_count": 20,
     "metadata": {},
     "output_type": "execute_result"
    }
   ],
   "source": [
    "pattern = re.compile('ABC\\d\\s+(\\S+)\\s+\\S+\\s+(?:active)') #non-capturing word\n",
    "re.findall(pattern, string)"
   ]
  },
  {
   "cell_type": "code",
   "execution_count": 21,
   "id": "c65db5c6",
   "metadata": {},
   "outputs": [
    {
     "data": {
      "text/plain": [
       "<re.Match object; span=(0, 37), match='ABC1    1.1.1.1    20151118    active'>"
      ]
     },
     "execution_count": 21,
     "metadata": {},
     "output_type": "execute_result"
    }
   ],
   "source": [
    "#When we use non capturing group, we consuming the characters\n",
    "re.search(pattern, string)"
   ]
  },
  {
   "cell_type": "markdown",
   "id": "d3cf7863",
   "metadata": {},
   "source": [
    "## Difference between non-capture group and looks around"
   ]
  },
  {
   "cell_type": "code",
   "execution_count": 44,
   "id": "779b50d5",
   "metadata": {},
   "outputs": [],
   "source": [
    "string='abababacb'"
   ]
  },
  {
   "cell_type": "code",
   "execution_count": 45,
   "id": "f6ab2a1e",
   "metadata": {},
   "outputs": [
    {
     "data": {
      "text/plain": [
       "['a']"
      ]
     },
     "execution_count": 45,
     "metadata": {},
     "output_type": "execute_result"
    }
   ],
   "source": [
    "pattern = re.compile('(?:b)(a)(?:b)') #Non capturing groups. it consume b then a then b by the cursor\n",
    "re.findall(pattern,string)"
   ]
  },
  {
   "cell_type": "code",
   "execution_count": 46,
   "id": "c5b3ad9b",
   "metadata": {},
   "outputs": [
    {
     "data": {
      "text/plain": [
       "['a', 'a']"
      ]
     },
     "execution_count": 46,
     "metadata": {},
     "output_type": "execute_result"
    }
   ],
   "source": [
    "pattern = re.compile('(?<=b)(a)(?=b)') #look around (behind and ahead)\n",
    "re.findall(pattern,string)\n",
    "#the pattern of searching in look around will be \n",
    "#check 'a' = look behind n ahead : no satisfied\n",
    "#check 'b' = look behind n ahead n center : not satisfied\n",
    "#check 'a2' = look behind n ahead: satisfied for b, look center: center for a == get the result\n",
    "#check 'b2' = look behind n ahead n center : not satisfied\n",
    "#check 'a3' = look behind n ahead: satisfied for b, look center: center for a == get the result\n",
    "\n",
    "#it's different with non capturing groups where it just consume the words.\n",
    "#in the upper case, it consumes 3 characters directly"
   ]
  },
  {
   "cell_type": "markdown",
   "id": "3425cff4",
   "metadata": {},
   "source": [
    "## Capturing the entire look around"
   ]
  },
  {
   "cell_type": "code",
   "execution_count": 47,
   "id": "00614a52",
   "metadata": {},
   "outputs": [],
   "source": [
    "string='abababacb'"
   ]
  },
  {
   "cell_type": "code",
   "execution_count": 50,
   "id": "14d185d6",
   "metadata": {},
   "outputs": [
    {
     "data": {
      "text/plain": [
       "['bab', 'bab']"
      ]
     },
     "execution_count": 50,
     "metadata": {},
     "output_type": "execute_result"
    }
   ],
   "source": [
    "pattern = re.compile('(?=(bab))')\n",
    "re.findall(pattern, string)"
   ]
  },
  {
   "cell_type": "code",
   "execution_count": 51,
   "id": "555372f3",
   "metadata": {},
   "outputs": [],
   "source": [
    "##Positive Look Around\n",
    "string = 'I love cherries, apples, and strawberries.'"
   ]
  },
  {
   "cell_type": "code",
   "execution_count": 56,
   "id": "cd2d0e45",
   "metadata": {},
   "outputs": [
    {
     "data": {
      "text/plain": [
       "['cherries', 'apples', 'strawberries']"
      ]
     },
     "execution_count": 56,
     "metadata": {},
     "output_type": "execute_result"
    }
   ],
   "source": [
    "pattern2 = re.compile('(?<=\\s)(\\w+)(?=\\.|,)')\n",
    "pattern2 = re.compile(r'(\\w+)(?=\\.|,)')\n",
    "re.findall(pattern2, string)"
   ]
  },
  {
   "cell_type": "code",
   "execution_count": 57,
   "id": "78373bd4",
   "metadata": {},
   "outputs": [
    {
     "data": {
      "text/plain": [
       "['cherries', 'apples', 'strawberries']"
      ]
     },
     "execution_count": 57,
     "metadata": {},
     "output_type": "execute_result"
    }
   ],
   "source": [
    "pattern2 = re.compile(r'(\\w+)(?:\\.|,)')\n",
    "re.findall(pattern2, string)"
   ]
  },
  {
   "cell_type": "markdown",
   "id": "cc0b52e5",
   "metadata": {},
   "source": [
    "## Consecutives look around fallacy"
   ]
  },
  {
   "cell_type": "code",
   "execution_count": 58,
   "id": "1f6a7805",
   "metadata": {},
   "outputs": [],
   "source": [
    "string = '''cherry 100 red\n",
    "            apple  150 green\n",
    "            grapes 200 \n",
    "            '''"
   ]
  },
  {
   "cell_type": "code",
   "execution_count": 59,
   "id": "8bc69621",
   "metadata": {},
   "outputs": [
    {
     "data": {
      "text/plain": [
       "['100', '150', '200']"
      ]
     },
     "execution_count": 59,
     "metadata": {},
     "output_type": "execute_result"
    }
   ],
   "source": [
    "#Simplest one\n",
    "pattern3 = re.compile('(?<= )(\\d+)(?= )')\n",
    "re.findall(pattern3, string)"
   ]
  },
  {
   "cell_type": "code",
   "execution_count": 67,
   "id": "adfbe6ec",
   "metadata": {},
   "outputs": [
    {
     "data": {
      "text/plain": [
       "[]"
      ]
     },
     "execution_count": 67,
     "metadata": {},
     "output_type": "execute_result"
    }
   ],
   "source": [
    "#Advanced one\n",
    "pattern3 = re.compile('[a-z]+\\s*(?= \\d+)(?=\\s*)(?=[a-z]+)')\n",
    "#Here we have 3 conscutives look around falacy.\n",
    "#from particular character, we have 3 look ahead rules\n",
    "#first, we check space n numbers = good\n",
    "#secod, we check only spaces or more = no\n",
    "#Third, we check alphabets = n0\n",
    "re.findall(pattern3, string)"
   ]
  },
  {
   "cell_type": "code",
   "execution_count": 69,
   "id": "1a952676",
   "metadata": {},
   "outputs": [
    {
     "data": {
      "text/plain": [
       "['cherry', 'apple']"
      ]
     },
     "execution_count": 69,
     "metadata": {},
     "output_type": "execute_result"
    }
   ],
   "source": [
    "pattern3 = re.compile(r'(\\w+)\\s+\\d+\\s+(?=[a-zA-z]+)')\n",
    "re.findall(pattern3, string)"
   ]
  },
  {
   "cell_type": "code",
   "execution_count": 72,
   "id": "f0215b12",
   "metadata": {},
   "outputs": [
    {
     "data": {
      "text/plain": [
       "['cherry ', 'apple  ']"
      ]
     },
     "execution_count": 72,
     "metadata": {},
     "output_type": "execute_result"
    }
   ],
   "source": [
    "pattern3 = re.compile(r'[a-z]+\\s*(?=\\d+\\s*[a-zA-z]+)')\n",
    "re.findall(pattern3, string)"
   ]
  },
  {
   "cell_type": "code",
   "execution_count": 83,
   "id": "39796837",
   "metadata": {},
   "outputs": [
    {
     "name": "stdout",
     "output_type": "stream",
     "text": [
      "<re.Match object; span=(0, 17), match='AZN#3232!abbb32..'>\n",
      "None\n"
     ]
    }
   ],
   "source": [
    "#Password validation\n",
    "pattern = re.compile('(?=.*[a-z])(?=.*[A-Z])(?=.*[0-9])(?=.*[!?.])\\S+') #Look around is just checking. Not Grabbing\n",
    "string = 'AZN#3232!abbb32..'\n",
    "string2 = 'AZN#3232abbb3232'\n",
    "print(re.search(pattern, string))\n",
    "print(re.search(pattern, string2)) #because there is no any read signs\n",
    "#. means any character\n",
    "#\\. means dot punctuation"
   ]
  },
  {
   "cell_type": "code",
   "execution_count": 79,
   "id": "6c1efb87",
   "metadata": {},
   "outputs": [
    {
     "data": {
      "text/plain": [
       "<re.Match object; span=(0, 1), match='r'>"
      ]
     },
     "execution_count": 79,
     "metadata": {},
     "output_type": "execute_result"
    }
   ],
   "source": [
    "re.search('.','ryan bobby')"
   ]
  },
  {
   "cell_type": "markdown",
   "id": "06e89edc",
   "metadata": {},
   "source": [
    "## Negative Look Around"
   ]
  },
  {
   "cell_type": "code",
   "execution_count": 84,
   "id": "02a1224b",
   "metadata": {},
   "outputs": [],
   "source": [
    "string = '''\n",
    "Remaining party applicants:\n",
    "\n",
    "Occupation: Party Planner\n",
    "Occupation: Baking\n",
    "Occupation: Cook\n",
    "Occupation: Publicist\n",
    "Occupation: Entertainer\n",
    "Occupation: Baker\n",
    "Occupation: baker\n",
    "Occupation: pierrot'''"
   ]
  },
  {
   "cell_type": "code",
   "execution_count": 88,
   "id": "e5fafadf",
   "metadata": {},
   "outputs": [],
   "source": [
    "pattern = re.compile('Occupation: (?!Baker|Baking|Cook).+', flags = re.IGNORECASE)\n",
    "#?! = we don't want that Baker or Baking or Cook to be in the output by looking ahead first\n",
    "#then, '.+' means will take everything\n",
    "#@re.ignorecase = no matter upper or lower case"
   ]
  },
  {
   "cell_type": "code",
   "execution_count": 89,
   "id": "e08292c6",
   "metadata": {},
   "outputs": [
    {
     "data": {
      "text/plain": [
       "['Occupation: Party Planner',\n",
       " 'Occupation: Publicist',\n",
       " 'Occupation: Entertainer',\n",
       " 'Occupation: pierrot']"
      ]
     },
     "execution_count": 89,
     "metadata": {},
     "output_type": "execute_result"
    }
   ],
   "source": [
    "re.findall(pattern,string)"
   ]
  },
  {
   "cell_type": "code",
   "execution_count": 110,
   "id": "3f1b2071",
   "metadata": {},
   "outputs": [],
   "source": [
    "string = '''\n",
    "Full invitation list:\n",
    "\n",
    "Guest: Ashley Jackson\n",
    "Guest: Maria Jackson\n",
    "Guest: Bob Sanders\n",
    "Guest: Bill Smith\n",
    "Entertainer: Michael Johnson\n",
    "Baker: Chris Jackson\n",
    "Party Planner: Seema Patel\n",
    "Publist: Seema Patel\n",
    "Baker: Ashley Sanders'''"
   ]
  },
  {
   "cell_type": "code",
   "execution_count": 117,
   "id": "f6e5d8d3",
   "metadata": {},
   "outputs": [
    {
     "data": {
      "text/plain": [
       "['Full invitation',\n",
       " 'Ashley Jackson',\n",
       " 'Maria Jackson',\n",
       " 'Bob Sanders',\n",
       " 'Bill Smith',\n",
       " 'Michael Johnson',\n",
       " 'hris Jackson',\n",
       " 'Party Planner',\n",
       " 'Seema Patel',\n",
       " 'Seema Patel',\n",
       " 'shley Sanders']"
      ]
     },
     "execution_count": 117,
     "metadata": {},
     "output_type": "execute_result"
    }
   ],
   "source": [
    "#Take out all Baker\n",
    "#We use negative look behind\n",
    "pattern = re.compile(r'(?<!Baker: )\\w+\\s\\w+', flags=re.IGNORECASE|re.M)\n",
    "re.findall(pattern,string)"
   ]
  },
  {
   "cell_type": "code",
   "execution_count": 113,
   "id": "8510c900",
   "metadata": {},
   "outputs": [
    {
     "data": {
      "text/plain": [
       "['Full invitation',\n",
       " 'Ashley Jackson',\n",
       " 'Maria Jackson',\n",
       " 'Bob Sanders',\n",
       " 'Bill Smith',\n",
       " 'Michael Johnson',\n",
       " 'Jackson\\nParty',\n",
       " 'Seema Patel',\n",
       " 'Seema Patel']"
      ]
     },
     "execution_count": 113,
     "metadata": {},
     "output_type": "execute_result"
    }
   ],
   "source": [
    "#Take out all Baker\n",
    "#Now we don't consider $ which makes that \"full invitation\" which is not in the end of the line still grabbed\n",
    "pattern = re.compile(r'(?<!Baker: )\\b\\w+\\s\\w+', flags=re.IGNORECASE|re.M)\n",
    "re.findall(pattern,string)"
   ]
  },
  {
   "cell_type": "code",
   "execution_count": 118,
   "id": "e745a327",
   "metadata": {},
   "outputs": [
    {
     "data": {
      "text/plain": [
       "[]"
      ]
     },
     "execution_count": 118,
     "metadata": {},
     "output_type": "execute_result"
    }
   ],
   "source": [
    "#Take out all Baker\n",
    "pattern = re.compile(r'(?<!Baker: )\\b\\w+\\s\\w+$', flags=re.IGNORECASE)\n",
    "re.findall(pattern,string)"
   ]
  },
  {
   "cell_type": "code",
   "execution_count": 119,
   "id": "b99c2df2",
   "metadata": {},
   "outputs": [
    {
     "data": {
      "text/plain": [
       "['Ashley Jackson',\n",
       " 'Maria Jackson',\n",
       " 'Bob Sanders',\n",
       " 'Bill Smith',\n",
       " 'Michael Johnson',\n",
       " 'Seema Patel',\n",
       " 'Seema Patel']"
      ]
     },
     "execution_count": 119,
     "metadata": {},
     "output_type": "execute_result"
    }
   ],
   "source": [
    "#Take out all Baker\n",
    "#With re.M, it makes the function of '$ much stronger'\n",
    "pattern = re.compile(r'(?<!Baker: )\\b\\w+\\s\\w+$', flags=re.IGNORECASE|re.M)\n",
    "re.findall(pattern,string)"
   ]
  },
  {
   "cell_type": "code",
   "execution_count": 123,
   "id": "6b2aee6f",
   "metadata": {},
   "outputs": [],
   "source": [
    "string = '''\n",
    "Full invitation list:\n",
    "\n",
    "Guest: Ashley Jackson\n",
    "Guest: Maria Maria Jackson\n",
    "Guest: Bob Sanders\n",
    "Guest: Bill Smith\n",
    "Entertainer: Michael Johnson\n",
    "Baker: Chris Jackson\n",
    "Party Planner: Seema Patel\n",
    "Publist: Seema Patel\n",
    "Baker: Ashley Sanders'''"
   ]
  },
  {
   "cell_type": "code",
   "execution_count": 124,
   "id": "3ad1778b",
   "metadata": {},
   "outputs": [
    {
     "data": {
      "text/plain": [
       "['Ashley Jackson',\n",
       " 'Maria Maria Jackson',\n",
       " 'Bob Sanders',\n",
       " 'Bill Smith',\n",
       " 'Michael Johnson',\n",
       " 'Seema Patel',\n",
       " 'Seema Patel']"
      ]
     },
     "execution_count": 124,
     "metadata": {},
     "output_type": "execute_result"
    }
   ],
   "source": [
    "#Take out all Baker\n",
    "pattern = re.compile(r'(?<!Baker: )(\\b\\w+\\s\\w+$|\\b\\w+\\s\\w+\\s\\w+$)', flags=re.IGNORECASE|re.M)\n",
    "re.findall(pattern,string)"
   ]
  },
  {
   "cell_type": "code",
   "execution_count": 126,
   "id": "f4e905ba",
   "metadata": {},
   "outputs": [
    {
     "data": {
      "text/plain": [
       "['Ashley Jackson',\n",
       " 'Maria Jackson',\n",
       " 'Bob Sanders',\n",
       " 'Bill Smith',\n",
       " 'Michael Johnson',\n",
       " 'Seema Patel',\n",
       " 'Seema Patel']"
      ]
     },
     "execution_count": 126,
     "metadata": {},
     "output_type": "execute_result"
    }
   ],
   "source": [
    "#Take out all Baker\n",
    "pattern = re.compile(r'(?<!Baker: )(\\b\\w+\\s\\w+$)', flags=re.IGNORECASE|re.M)\n",
    "re.findall(pattern,string)"
   ]
  },
  {
   "cell_type": "code",
   "execution_count": 128,
   "id": "295fb2a3",
   "metadata": {},
   "outputs": [
    {
     "data": {
      "text/plain": [
       "['Guest: Ashley Jackson',\n",
       " 'Guest: Maria Maria Jackson',\n",
       " 'Guest: Bob Sanders',\n",
       " 'Guest: Bill Smith',\n",
       " 'Entertainer: Michael Johnson',\n",
       " 'Party Planner: Seema Patel',\n",
       " 'Publist: Seema Patel']"
      ]
     },
     "execution_count": 128,
     "metadata": {},
     "output_type": "execute_result"
    }
   ],
   "source": [
    "#Take out entire phrase\n",
    "#We can use negative look ahead\n",
    "pattern = re.compile(r'^(?!Baker: ).+\\w+$', flags=re.IGNORECASE|re.M)\n",
    "re.findall(pattern,string)"
   ]
  },
  {
   "cell_type": "markdown",
   "id": "c89ed0aa",
   "metadata": {},
   "source": [
    "## Variable Width Assertation with Look Behinds"
   ]
  },
  {
   "cell_type": "code",
   "execution_count": 129,
   "id": "a737bbc9",
   "metadata": {},
   "outputs": [],
   "source": [
    "string ='''1111    ABCC    77777777    active\n",
    "           2222    ABC     88888888    inactive\n",
    "           3333    XYZ     xxxxxxxx    active\n",
    "           4444    1234    20351118    inactive  \n",
    "           5555    1445    20153318    inactive  \n",
    "\n",
    "           '''"
   ]
  },
  {
   "cell_type": "code",
   "execution_count": 130,
   "id": "e3ec3b45",
   "metadata": {},
   "outputs": [
    {
     "ename": "error",
     "evalue": "look-behind requires fixed-width pattern",
     "output_type": "error",
     "traceback": [
      "\u001b[1;31m---------------------------------------------------------------------------\u001b[0m",
      "\u001b[1;31merror\u001b[0m                                     Traceback (most recent call last)",
      "\u001b[1;32m<ipython-input-130-7d4f40c15c20>\u001b[0m in \u001b[0;36m<module>\u001b[1;34m\u001b[0m\n\u001b[1;32m----> 1\u001b[1;33m \u001b[0mpattern\u001b[0m \u001b[1;33m=\u001b[0m\u001b[0mre\u001b[0m\u001b[1;33m.\u001b[0m\u001b[0mcompile\u001b[0m\u001b[1;33m(\u001b[0m\u001b[1;34m'(?<=[A-Z]+)[A-Z]+\\s+(\\S+)'\u001b[0m\u001b[1;33m)\u001b[0m \u001b[1;31m#look behind # look-behind requires fixed-width pattern\u001b[0m\u001b[1;33m\u001b[0m\u001b[1;33m\u001b[0m\u001b[0m\n\u001b[0m",
      "\u001b[1;32m~\\anaconda3\\lib\\re.py\u001b[0m in \u001b[0;36mcompile\u001b[1;34m(pattern, flags)\u001b[0m\n\u001b[0;32m    250\u001b[0m \u001b[1;32mdef\u001b[0m \u001b[0mcompile\u001b[0m\u001b[1;33m(\u001b[0m\u001b[0mpattern\u001b[0m\u001b[1;33m,\u001b[0m \u001b[0mflags\u001b[0m\u001b[1;33m=\u001b[0m\u001b[1;36m0\u001b[0m\u001b[1;33m)\u001b[0m\u001b[1;33m:\u001b[0m\u001b[1;33m\u001b[0m\u001b[1;33m\u001b[0m\u001b[0m\n\u001b[0;32m    251\u001b[0m     \u001b[1;34m\"Compile a regular expression pattern, returning a Pattern object.\"\u001b[0m\u001b[1;33m\u001b[0m\u001b[1;33m\u001b[0m\u001b[0m\n\u001b[1;32m--> 252\u001b[1;33m     \u001b[1;32mreturn\u001b[0m \u001b[0m_compile\u001b[0m\u001b[1;33m(\u001b[0m\u001b[0mpattern\u001b[0m\u001b[1;33m,\u001b[0m \u001b[0mflags\u001b[0m\u001b[1;33m)\u001b[0m\u001b[1;33m\u001b[0m\u001b[1;33m\u001b[0m\u001b[0m\n\u001b[0m\u001b[0;32m    253\u001b[0m \u001b[1;33m\u001b[0m\u001b[0m\n\u001b[0;32m    254\u001b[0m \u001b[1;32mdef\u001b[0m \u001b[0mpurge\u001b[0m\u001b[1;33m(\u001b[0m\u001b[1;33m)\u001b[0m\u001b[1;33m:\u001b[0m\u001b[1;33m\u001b[0m\u001b[1;33m\u001b[0m\u001b[0m\n",
      "\u001b[1;32m~\\anaconda3\\lib\\re.py\u001b[0m in \u001b[0;36m_compile\u001b[1;34m(pattern, flags)\u001b[0m\n\u001b[0;32m    302\u001b[0m     \u001b[1;32mif\u001b[0m \u001b[1;32mnot\u001b[0m \u001b[0msre_compile\u001b[0m\u001b[1;33m.\u001b[0m\u001b[0misstring\u001b[0m\u001b[1;33m(\u001b[0m\u001b[0mpattern\u001b[0m\u001b[1;33m)\u001b[0m\u001b[1;33m:\u001b[0m\u001b[1;33m\u001b[0m\u001b[1;33m\u001b[0m\u001b[0m\n\u001b[0;32m    303\u001b[0m         \u001b[1;32mraise\u001b[0m \u001b[0mTypeError\u001b[0m\u001b[1;33m(\u001b[0m\u001b[1;34m\"first argument must be string or compiled pattern\"\u001b[0m\u001b[1;33m)\u001b[0m\u001b[1;33m\u001b[0m\u001b[1;33m\u001b[0m\u001b[0m\n\u001b[1;32m--> 304\u001b[1;33m     \u001b[0mp\u001b[0m \u001b[1;33m=\u001b[0m \u001b[0msre_compile\u001b[0m\u001b[1;33m.\u001b[0m\u001b[0mcompile\u001b[0m\u001b[1;33m(\u001b[0m\u001b[0mpattern\u001b[0m\u001b[1;33m,\u001b[0m \u001b[0mflags\u001b[0m\u001b[1;33m)\u001b[0m\u001b[1;33m\u001b[0m\u001b[1;33m\u001b[0m\u001b[0m\n\u001b[0m\u001b[0;32m    305\u001b[0m     \u001b[1;32mif\u001b[0m \u001b[1;32mnot\u001b[0m \u001b[1;33m(\u001b[0m\u001b[0mflags\u001b[0m \u001b[1;33m&\u001b[0m \u001b[0mDEBUG\u001b[0m\u001b[1;33m)\u001b[0m\u001b[1;33m:\u001b[0m\u001b[1;33m\u001b[0m\u001b[1;33m\u001b[0m\u001b[0m\n\u001b[0;32m    306\u001b[0m         \u001b[1;32mif\u001b[0m \u001b[0mlen\u001b[0m\u001b[1;33m(\u001b[0m\u001b[0m_cache\u001b[0m\u001b[1;33m)\u001b[0m \u001b[1;33m>=\u001b[0m \u001b[0m_MAXCACHE\u001b[0m\u001b[1;33m:\u001b[0m\u001b[1;33m\u001b[0m\u001b[1;33m\u001b[0m\u001b[0m\n",
      "\u001b[1;32m~\\anaconda3\\lib\\sre_compile.py\u001b[0m in \u001b[0;36mcompile\u001b[1;34m(p, flags)\u001b[0m\n\u001b[0;32m    766\u001b[0m         \u001b[0mpattern\u001b[0m \u001b[1;33m=\u001b[0m \u001b[1;32mNone\u001b[0m\u001b[1;33m\u001b[0m\u001b[1;33m\u001b[0m\u001b[0m\n\u001b[0;32m    767\u001b[0m \u001b[1;33m\u001b[0m\u001b[0m\n\u001b[1;32m--> 768\u001b[1;33m     \u001b[0mcode\u001b[0m \u001b[1;33m=\u001b[0m \u001b[0m_code\u001b[0m\u001b[1;33m(\u001b[0m\u001b[0mp\u001b[0m\u001b[1;33m,\u001b[0m \u001b[0mflags\u001b[0m\u001b[1;33m)\u001b[0m\u001b[1;33m\u001b[0m\u001b[1;33m\u001b[0m\u001b[0m\n\u001b[0m\u001b[0;32m    769\u001b[0m \u001b[1;33m\u001b[0m\u001b[0m\n\u001b[0;32m    770\u001b[0m     \u001b[1;32mif\u001b[0m \u001b[0mflags\u001b[0m \u001b[1;33m&\u001b[0m \u001b[0mSRE_FLAG_DEBUG\u001b[0m\u001b[1;33m:\u001b[0m\u001b[1;33m\u001b[0m\u001b[1;33m\u001b[0m\u001b[0m\n",
      "\u001b[1;32m~\\anaconda3\\lib\\sre_compile.py\u001b[0m in \u001b[0;36m_code\u001b[1;34m(p, flags)\u001b[0m\n\u001b[0;32m    605\u001b[0m \u001b[1;33m\u001b[0m\u001b[0m\n\u001b[0;32m    606\u001b[0m     \u001b[1;31m# compile the pattern\u001b[0m\u001b[1;33m\u001b[0m\u001b[1;33m\u001b[0m\u001b[1;33m\u001b[0m\u001b[0m\n\u001b[1;32m--> 607\u001b[1;33m     \u001b[0m_compile\u001b[0m\u001b[1;33m(\u001b[0m\u001b[0mcode\u001b[0m\u001b[1;33m,\u001b[0m \u001b[0mp\u001b[0m\u001b[1;33m.\u001b[0m\u001b[0mdata\u001b[0m\u001b[1;33m,\u001b[0m \u001b[0mflags\u001b[0m\u001b[1;33m)\u001b[0m\u001b[1;33m\u001b[0m\u001b[1;33m\u001b[0m\u001b[0m\n\u001b[0m\u001b[0;32m    608\u001b[0m \u001b[1;33m\u001b[0m\u001b[0m\n\u001b[0;32m    609\u001b[0m     \u001b[0mcode\u001b[0m\u001b[1;33m.\u001b[0m\u001b[0mappend\u001b[0m\u001b[1;33m(\u001b[0m\u001b[0mSUCCESS\u001b[0m\u001b[1;33m)\u001b[0m\u001b[1;33m\u001b[0m\u001b[1;33m\u001b[0m\u001b[0m\n",
      "\u001b[1;32m~\\anaconda3\\lib\\sre_compile.py\u001b[0m in \u001b[0;36m_compile\u001b[1;34m(code, pattern, flags)\u001b[0m\n\u001b[0;32m    180\u001b[0m                 \u001b[0mlo\u001b[0m\u001b[1;33m,\u001b[0m \u001b[0mhi\u001b[0m \u001b[1;33m=\u001b[0m \u001b[0mav\u001b[0m\u001b[1;33m[\u001b[0m\u001b[1;36m1\u001b[0m\u001b[1;33m]\u001b[0m\u001b[1;33m.\u001b[0m\u001b[0mgetwidth\u001b[0m\u001b[1;33m(\u001b[0m\u001b[1;33m)\u001b[0m\u001b[1;33m\u001b[0m\u001b[1;33m\u001b[0m\u001b[0m\n\u001b[0;32m    181\u001b[0m                 \u001b[1;32mif\u001b[0m \u001b[0mlo\u001b[0m \u001b[1;33m!=\u001b[0m \u001b[0mhi\u001b[0m\u001b[1;33m:\u001b[0m\u001b[1;33m\u001b[0m\u001b[1;33m\u001b[0m\u001b[0m\n\u001b[1;32m--> 182\u001b[1;33m                     \u001b[1;32mraise\u001b[0m \u001b[0merror\u001b[0m\u001b[1;33m(\u001b[0m\u001b[1;34m\"look-behind requires fixed-width pattern\"\u001b[0m\u001b[1;33m)\u001b[0m\u001b[1;33m\u001b[0m\u001b[1;33m\u001b[0m\u001b[0m\n\u001b[0m\u001b[0;32m    183\u001b[0m                 \u001b[0memit\u001b[0m\u001b[1;33m(\u001b[0m\u001b[0mlo\u001b[0m\u001b[1;33m)\u001b[0m \u001b[1;31m# look behind\u001b[0m\u001b[1;33m\u001b[0m\u001b[1;33m\u001b[0m\u001b[0m\n\u001b[0;32m    184\u001b[0m             \u001b[0m_compile\u001b[0m\u001b[1;33m(\u001b[0m\u001b[0mcode\u001b[0m\u001b[1;33m,\u001b[0m \u001b[0mav\u001b[0m\u001b[1;33m[\u001b[0m\u001b[1;36m1\u001b[0m\u001b[1;33m]\u001b[0m\u001b[1;33m,\u001b[0m \u001b[0mflags\u001b[0m\u001b[1;33m)\u001b[0m\u001b[1;33m\u001b[0m\u001b[1;33m\u001b[0m\u001b[0m\n",
      "\u001b[1;31merror\u001b[0m: look-behind requires fixed-width pattern"
     ]
    }
   ],
   "source": [
    "pattern =re.compile('(?<=[A-Z]+)[A-Z]+\\s+(\\S+)') \n",
    "#look behind at the first part\n",
    "#look-behind requires fixed-width pattern"
   ]
  },
  {
   "cell_type": "code",
   "execution_count": 131,
   "id": "4bb668bf",
   "metadata": {},
   "outputs": [],
   "source": [
    "import regex"
   ]
  },
  {
   "cell_type": "code",
   "execution_count": 146,
   "id": "04be76c1",
   "metadata": {},
   "outputs": [
    {
     "data": {
      "text/plain": [
       "['77777777', '88888888', 'xxxxxxxx']"
      ]
     },
     "execution_count": 146,
     "metadata": {},
     "output_type": "execute_result"
    }
   ],
   "source": [
    "#Now we can use look behind without width assertation\n",
    "pattern =regex.compile('(?<=[A-Z]+)[A-Z]+\\s+(\\S+)') \n",
    "regex.findall(pattern, string)"
   ]
  },
  {
   "cell_type": "code",
   "execution_count": 133,
   "id": "4a77ecd3",
   "metadata": {},
   "outputs": [],
   "source": [
    "s= 'C:\\Tools\\System32\\calc.exe'\n",
    "s2= 'C:\\Windows\\System32\\calc.exe'\n",
    "s3= 'C:\\Windows\\System32\\De-de\\calc.exe'\n",
    "s4= 'C:\\Tools\\calc.exe'"
   ]
  },
  {
   "cell_type": "code",
   "execution_count": 137,
   "id": "7e677f63",
   "metadata": {},
   "outputs": [
    {
     "ename": "error",
     "evalue": "look-behind requires fixed-width pattern",
     "output_type": "error",
     "traceback": [
      "\u001b[1;31m---------------------------------------------------------------------------\u001b[0m",
      "\u001b[1;31merror\u001b[0m                                     Traceback (most recent call last)",
      "\u001b[1;32m<ipython-input-137-f623b19e8cdf>\u001b[0m in \u001b[0;36m<module>\u001b[1;34m\u001b[0m\n\u001b[1;32m----> 1\u001b[1;33m \u001b[0mpattern1\u001b[0m \u001b[1;33m=\u001b[0m \u001b[0mre\u001b[0m\u001b[1;33m.\u001b[0m\u001b[0mcompile\u001b[0m\u001b[1;33m(\u001b[0m\u001b[1;34m'(?<!System32.*)calc.exe'\u001b[0m\u001b[1;33m)\u001b[0m\u001b[1;33m\u001b[0m\u001b[1;33m\u001b[0m\u001b[0m\n\u001b[0m",
      "\u001b[1;32m~\\anaconda3\\lib\\re.py\u001b[0m in \u001b[0;36mcompile\u001b[1;34m(pattern, flags)\u001b[0m\n\u001b[0;32m    250\u001b[0m \u001b[1;32mdef\u001b[0m \u001b[0mcompile\u001b[0m\u001b[1;33m(\u001b[0m\u001b[0mpattern\u001b[0m\u001b[1;33m,\u001b[0m \u001b[0mflags\u001b[0m\u001b[1;33m=\u001b[0m\u001b[1;36m0\u001b[0m\u001b[1;33m)\u001b[0m\u001b[1;33m:\u001b[0m\u001b[1;33m\u001b[0m\u001b[1;33m\u001b[0m\u001b[0m\n\u001b[0;32m    251\u001b[0m     \u001b[1;34m\"Compile a regular expression pattern, returning a Pattern object.\"\u001b[0m\u001b[1;33m\u001b[0m\u001b[1;33m\u001b[0m\u001b[0m\n\u001b[1;32m--> 252\u001b[1;33m     \u001b[1;32mreturn\u001b[0m \u001b[0m_compile\u001b[0m\u001b[1;33m(\u001b[0m\u001b[0mpattern\u001b[0m\u001b[1;33m,\u001b[0m \u001b[0mflags\u001b[0m\u001b[1;33m)\u001b[0m\u001b[1;33m\u001b[0m\u001b[1;33m\u001b[0m\u001b[0m\n\u001b[0m\u001b[0;32m    253\u001b[0m \u001b[1;33m\u001b[0m\u001b[0m\n\u001b[0;32m    254\u001b[0m \u001b[1;32mdef\u001b[0m \u001b[0mpurge\u001b[0m\u001b[1;33m(\u001b[0m\u001b[1;33m)\u001b[0m\u001b[1;33m:\u001b[0m\u001b[1;33m\u001b[0m\u001b[1;33m\u001b[0m\u001b[0m\n",
      "\u001b[1;32m~\\anaconda3\\lib\\re.py\u001b[0m in \u001b[0;36m_compile\u001b[1;34m(pattern, flags)\u001b[0m\n\u001b[0;32m    302\u001b[0m     \u001b[1;32mif\u001b[0m \u001b[1;32mnot\u001b[0m \u001b[0msre_compile\u001b[0m\u001b[1;33m.\u001b[0m\u001b[0misstring\u001b[0m\u001b[1;33m(\u001b[0m\u001b[0mpattern\u001b[0m\u001b[1;33m)\u001b[0m\u001b[1;33m:\u001b[0m\u001b[1;33m\u001b[0m\u001b[1;33m\u001b[0m\u001b[0m\n\u001b[0;32m    303\u001b[0m         \u001b[1;32mraise\u001b[0m \u001b[0mTypeError\u001b[0m\u001b[1;33m(\u001b[0m\u001b[1;34m\"first argument must be string or compiled pattern\"\u001b[0m\u001b[1;33m)\u001b[0m\u001b[1;33m\u001b[0m\u001b[1;33m\u001b[0m\u001b[0m\n\u001b[1;32m--> 304\u001b[1;33m     \u001b[0mp\u001b[0m \u001b[1;33m=\u001b[0m \u001b[0msre_compile\u001b[0m\u001b[1;33m.\u001b[0m\u001b[0mcompile\u001b[0m\u001b[1;33m(\u001b[0m\u001b[0mpattern\u001b[0m\u001b[1;33m,\u001b[0m \u001b[0mflags\u001b[0m\u001b[1;33m)\u001b[0m\u001b[1;33m\u001b[0m\u001b[1;33m\u001b[0m\u001b[0m\n\u001b[0m\u001b[0;32m    305\u001b[0m     \u001b[1;32mif\u001b[0m \u001b[1;32mnot\u001b[0m \u001b[1;33m(\u001b[0m\u001b[0mflags\u001b[0m \u001b[1;33m&\u001b[0m \u001b[0mDEBUG\u001b[0m\u001b[1;33m)\u001b[0m\u001b[1;33m:\u001b[0m\u001b[1;33m\u001b[0m\u001b[1;33m\u001b[0m\u001b[0m\n\u001b[0;32m    306\u001b[0m         \u001b[1;32mif\u001b[0m \u001b[0mlen\u001b[0m\u001b[1;33m(\u001b[0m\u001b[0m_cache\u001b[0m\u001b[1;33m)\u001b[0m \u001b[1;33m>=\u001b[0m \u001b[0m_MAXCACHE\u001b[0m\u001b[1;33m:\u001b[0m\u001b[1;33m\u001b[0m\u001b[1;33m\u001b[0m\u001b[0m\n",
      "\u001b[1;32m~\\anaconda3\\lib\\sre_compile.py\u001b[0m in \u001b[0;36mcompile\u001b[1;34m(p, flags)\u001b[0m\n\u001b[0;32m    766\u001b[0m         \u001b[0mpattern\u001b[0m \u001b[1;33m=\u001b[0m \u001b[1;32mNone\u001b[0m\u001b[1;33m\u001b[0m\u001b[1;33m\u001b[0m\u001b[0m\n\u001b[0;32m    767\u001b[0m \u001b[1;33m\u001b[0m\u001b[0m\n\u001b[1;32m--> 768\u001b[1;33m     \u001b[0mcode\u001b[0m \u001b[1;33m=\u001b[0m \u001b[0m_code\u001b[0m\u001b[1;33m(\u001b[0m\u001b[0mp\u001b[0m\u001b[1;33m,\u001b[0m \u001b[0mflags\u001b[0m\u001b[1;33m)\u001b[0m\u001b[1;33m\u001b[0m\u001b[1;33m\u001b[0m\u001b[0m\n\u001b[0m\u001b[0;32m    769\u001b[0m \u001b[1;33m\u001b[0m\u001b[0m\n\u001b[0;32m    770\u001b[0m     \u001b[1;32mif\u001b[0m \u001b[0mflags\u001b[0m \u001b[1;33m&\u001b[0m \u001b[0mSRE_FLAG_DEBUG\u001b[0m\u001b[1;33m:\u001b[0m\u001b[1;33m\u001b[0m\u001b[1;33m\u001b[0m\u001b[0m\n",
      "\u001b[1;32m~\\anaconda3\\lib\\sre_compile.py\u001b[0m in \u001b[0;36m_code\u001b[1;34m(p, flags)\u001b[0m\n\u001b[0;32m    605\u001b[0m \u001b[1;33m\u001b[0m\u001b[0m\n\u001b[0;32m    606\u001b[0m     \u001b[1;31m# compile the pattern\u001b[0m\u001b[1;33m\u001b[0m\u001b[1;33m\u001b[0m\u001b[1;33m\u001b[0m\u001b[0m\n\u001b[1;32m--> 607\u001b[1;33m     \u001b[0m_compile\u001b[0m\u001b[1;33m(\u001b[0m\u001b[0mcode\u001b[0m\u001b[1;33m,\u001b[0m \u001b[0mp\u001b[0m\u001b[1;33m.\u001b[0m\u001b[0mdata\u001b[0m\u001b[1;33m,\u001b[0m \u001b[0mflags\u001b[0m\u001b[1;33m)\u001b[0m\u001b[1;33m\u001b[0m\u001b[1;33m\u001b[0m\u001b[0m\n\u001b[0m\u001b[0;32m    608\u001b[0m \u001b[1;33m\u001b[0m\u001b[0m\n\u001b[0;32m    609\u001b[0m     \u001b[0mcode\u001b[0m\u001b[1;33m.\u001b[0m\u001b[0mappend\u001b[0m\u001b[1;33m(\u001b[0m\u001b[0mSUCCESS\u001b[0m\u001b[1;33m)\u001b[0m\u001b[1;33m\u001b[0m\u001b[1;33m\u001b[0m\u001b[0m\n",
      "\u001b[1;32m~\\anaconda3\\lib\\sre_compile.py\u001b[0m in \u001b[0;36m_compile\u001b[1;34m(code, pattern, flags)\u001b[0m\n\u001b[0;32m    180\u001b[0m                 \u001b[0mlo\u001b[0m\u001b[1;33m,\u001b[0m \u001b[0mhi\u001b[0m \u001b[1;33m=\u001b[0m \u001b[0mav\u001b[0m\u001b[1;33m[\u001b[0m\u001b[1;36m1\u001b[0m\u001b[1;33m]\u001b[0m\u001b[1;33m.\u001b[0m\u001b[0mgetwidth\u001b[0m\u001b[1;33m(\u001b[0m\u001b[1;33m)\u001b[0m\u001b[1;33m\u001b[0m\u001b[1;33m\u001b[0m\u001b[0m\n\u001b[0;32m    181\u001b[0m                 \u001b[1;32mif\u001b[0m \u001b[0mlo\u001b[0m \u001b[1;33m!=\u001b[0m \u001b[0mhi\u001b[0m\u001b[1;33m:\u001b[0m\u001b[1;33m\u001b[0m\u001b[1;33m\u001b[0m\u001b[0m\n\u001b[1;32m--> 182\u001b[1;33m                     \u001b[1;32mraise\u001b[0m \u001b[0merror\u001b[0m\u001b[1;33m(\u001b[0m\u001b[1;34m\"look-behind requires fixed-width pattern\"\u001b[0m\u001b[1;33m)\u001b[0m\u001b[1;33m\u001b[0m\u001b[1;33m\u001b[0m\u001b[0m\n\u001b[0m\u001b[0;32m    183\u001b[0m                 \u001b[0memit\u001b[0m\u001b[1;33m(\u001b[0m\u001b[0mlo\u001b[0m\u001b[1;33m)\u001b[0m \u001b[1;31m# look behind\u001b[0m\u001b[1;33m\u001b[0m\u001b[1;33m\u001b[0m\u001b[0m\n\u001b[0;32m    184\u001b[0m             \u001b[0m_compile\u001b[0m\u001b[1;33m(\u001b[0m\u001b[0mcode\u001b[0m\u001b[1;33m,\u001b[0m \u001b[0mav\u001b[0m\u001b[1;33m[\u001b[0m\u001b[1;36m1\u001b[0m\u001b[1;33m]\u001b[0m\u001b[1;33m,\u001b[0m \u001b[0mflags\u001b[0m\u001b[1;33m)\u001b[0m\u001b[1;33m\u001b[0m\u001b[1;33m\u001b[0m\u001b[0m\n",
      "\u001b[1;31merror\u001b[0m: look-behind requires fixed-width pattern"
     ]
    }
   ],
   "source": [
    "pattern1 = re.compile('(?<!System32.*)calc.exe')"
   ]
  },
  {
   "cell_type": "code",
   "execution_count": 139,
   "id": "8bbd2afa",
   "metadata": {},
   "outputs": [],
   "source": [
    "pattern2 = regex.compile('(?<!System32.*)calc.exe')"
   ]
  },
  {
   "cell_type": "code",
   "execution_count": 145,
   "id": "5166ca6a",
   "metadata": {},
   "outputs": [
    {
     "data": {
      "text/plain": [
       "['calc.exe']"
      ]
     },
     "execution_count": 145,
     "metadata": {},
     "output_type": "execute_result"
    }
   ],
   "source": [
    "regex.findall(pattern2, s4)"
   ]
  },
  {
   "cell_type": "code",
   "execution_count": null,
   "id": "2eabd0b7",
   "metadata": {},
   "outputs": [],
   "source": []
  }
 ],
 "metadata": {
  "kernelspec": {
   "display_name": "Python 3",
   "language": "python",
   "name": "python3"
  },
  "language_info": {
   "codemirror_mode": {
    "name": "ipython",
    "version": 3
   },
   "file_extension": ".py",
   "mimetype": "text/x-python",
   "name": "python",
   "nbconvert_exporter": "python",
   "pygments_lexer": "ipython3",
   "version": "3.8.8"
  }
 },
 "nbformat": 4,
 "nbformat_minor": 5
}
