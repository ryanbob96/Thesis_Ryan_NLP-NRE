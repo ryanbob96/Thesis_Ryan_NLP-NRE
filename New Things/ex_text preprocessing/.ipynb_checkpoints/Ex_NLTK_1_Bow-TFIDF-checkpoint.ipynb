{
 "cells": [
  {
   "cell_type": "code",
   "execution_count": 38,
   "id": "35eee414",
   "metadata": {},
   "outputs": [],
   "source": [
    "import nltk\n",
    "from nltk.stem import PorterStemmer\n",
    "from nltk.corpus import stopwords"
   ]
  },
  {
   "cell_type": "code",
   "execution_count": 39,
   "id": "c0dd5cea",
   "metadata": {},
   "outputs": [],
   "source": [
    "paragraph = 'Ir. H. Joko Widodo ( Indonesian pronunciation; born June 21, 1961), or better known as Jokowi , is the President of Indonesia who has been in office since October 20, 2014. Elected in the 2014 Presidential Election , Jokowi became the first President of Indonesia in history. who do not come from an elite Indonesian political or military background . He was elected with Vice President Muhammad Jusuf Kalla and was re-elected with Vice President Maruf Amin in the 2019 Presidential Election . Previously, Jokowi had served as the Governor of DKI Jakarta from 15 October 2012 to 16 October 2014 accompanied by Basuki Tjahaja Purnama as deputy governor. Previously, he was the Mayor of Surakarta ( Solo ), from July 28, 2005 to October 1, 2012 accompanied by FX Hadi Rudyatmo as deputy mayor. [7] Two years into his second term as Mayor of Solo, Jokowi was appointed by his party, the Indonesian Democratic Party of Struggle (PDI-P), to compete in the election for the Governor of DKI Jakarta with Basuki Tjahaja Purnama (Ahok). [8]'"
   ]
  },
  {
   "cell_type": "code",
   "execution_count": 40,
   "id": "604c63ea",
   "metadata": {},
   "outputs": [
    {
     "data": {
      "text/plain": [
       "'Ir. H. Joko Widodo ( Indonesian pronunciation; born June 21, 1961), or better known as Jokowi , is the President of Indonesia who has been in office since October 20, 2014. Elected in the 2014 Presidential Election , Jokowi became the first President of Indonesia in history. who do not come from an elite Indonesian political or military background . He was elected with Vice President Muhammad Jusuf Kalla and was re-elected with Vice President Maruf Amin in the 2019 Presidential Election . Previously, Jokowi had served as the Governor of DKI Jakarta from 15 October 2012 to 16 October 2014 accompanied by Basuki Tjahaja Purnama as deputy governor. Previously, he was the Mayor of Surakarta ( Solo ), from July 28, 2005 to October 1, 2012 accompanied by FX Hadi Rudyatmo as deputy mayor. [7] Two years into his second term as Mayor of Solo, Jokowi was appointed by his party, the Indonesian Democratic Party of Struggle (PDI-P), to compete in the election for the Governor of DKI Jakarta with Basuki Tjahaja Purnama (Ahok). [8]'"
      ]
     },
     "execution_count": 40,
     "metadata": {},
     "output_type": "execute_result"
    }
   ],
   "source": [
    "paragraph"
   ]
  },
  {
   "cell_type": "code",
   "execution_count": 41,
   "id": "441f9b10",
   "metadata": {},
   "outputs": [
    {
     "name": "stderr",
     "output_type": "stream",
     "text": [
      "[nltk_data] Downloading package punkt to C:\\Users\\Ryan Bobby\n",
      "[nltk_data]     A\\AppData\\Roaming\\nltk_data...\n",
      "[nltk_data]   Package punkt is already up-to-date!\n"
     ]
    }
   ],
   "source": [
    "## Tokenization -- converts paragraph-sentences-words\n",
    "nltk.download('punkt')\n",
    "sentences = nltk.sent_tokenize(paragraph)"
   ]
  },
  {
   "cell_type": "code",
   "execution_count": 52,
   "id": "ac83e1af",
   "metadata": {},
   "outputs": [
    {
     "name": "stderr",
     "output_type": "stream",
     "text": [
      "[nltk_data] Downloading package stopwords to C:\\Users\\Ryan Bobby\n",
      "[nltk_data]     A\\AppData\\Roaming\\nltk_data...\n",
      "[nltk_data]   Unzipping corpora\\stopwords.zip.\n"
     ]
    },
    {
     "data": {
      "text/plain": [
       "True"
      ]
     },
     "execution_count": 52,
     "metadata": {},
     "output_type": "execute_result"
    }
   ],
   "source": [
    "nltk.download('stopwords')"
   ]
  },
  {
   "cell_type": "code",
   "execution_count": 54,
   "id": "466c4d54",
   "metadata": {},
   "outputs": [
    {
     "name": "stderr",
     "output_type": "stream",
     "text": [
      "[nltk_data] Downloading package wordnet to C:\\Users\\Ryan Bobby\n",
      "[nltk_data]     A\\AppData\\Roaming\\nltk_data...\n",
      "[nltk_data]   Unzipping corpora\\wordnet.zip.\n"
     ]
    },
    {
     "data": {
      "text/plain": [
       "True"
      ]
     },
     "execution_count": 54,
     "metadata": {},
     "output_type": "execute_result"
    }
   ],
   "source": [
    "nltk.download('wordnet')"
   ]
  },
  {
   "cell_type": "code",
   "execution_count": 55,
   "id": "6964389c",
   "metadata": {
    "scrolled": true
   },
   "outputs": [
    {
     "name": "stdout",
     "output_type": "stream",
     "text": [
      "Ir.\n",
      "\n",
      "\n",
      "H. Joko Widodo ( Indonesian pronunciation; born June 21, 1961), or better known as Jokowi , is the President of Indonesia who has been in office since October 20, 2014.\n",
      "\n",
      "\n",
      "Elected in the 2014 Presidential Election , Jokowi became the first President of Indonesia in history.\n",
      "\n",
      "\n",
      "who do not come from an elite Indonesian political or military background .\n",
      "\n",
      "\n",
      "He was elected with Vice President Muhammad Jusuf Kalla and was re-elected with Vice President Maruf Amin in the 2019 Presidential Election .\n",
      "\n",
      "\n",
      "Previously, Jokowi had served as the Governor of DKI Jakarta from 15 October 2012 to 16 October 2014 accompanied by Basuki Tjahaja Purnama as deputy governor.\n",
      "\n",
      "\n",
      "Previously, he was the Mayor of Surakarta ( Solo ), from July 28, 2005 to October 1, 2012 accompanied by FX Hadi Rudyatmo as deputy mayor.\n",
      "\n",
      "\n",
      "[7] Two years into his second term as Mayor of Solo, Jokowi was appointed by his party, the Indonesian Democratic Party of Struggle (PDI-P), to compete in the election for the Governor of DKI Jakarta with Basuki Tjahaja Purnama (Ahok).\n",
      "\n",
      "\n",
      "[8]\n",
      "\n",
      "\n"
     ]
    }
   ],
   "source": [
    "for i in sentences:\n",
    "    print(i)\n",
    "    print('\\n')"
   ]
  },
  {
   "cell_type": "code",
   "execution_count": 56,
   "id": "bc161e97",
   "metadata": {},
   "outputs": [],
   "source": [
    "stemmer = PorterStemmer()"
   ]
  },
  {
   "cell_type": "code",
   "execution_count": 57,
   "id": "3cbd9947",
   "metadata": {},
   "outputs": [
    {
     "data": {
      "text/plain": [
       "'final'"
      ]
     },
     "execution_count": 57,
     "metadata": {},
     "output_type": "execute_result"
    }
   ],
   "source": [
    "stemmer.stem('going')\n",
    "stemmer.stem('finalize')"
   ]
  },
  {
   "cell_type": "code",
   "execution_count": 58,
   "id": "a25c1e8c",
   "metadata": {},
   "outputs": [],
   "source": [
    "from nltk.stem import WordNetLemmatizer"
   ]
  },
  {
   "cell_type": "code",
   "execution_count": 59,
   "id": "aca39575",
   "metadata": {},
   "outputs": [],
   "source": [
    "lemmatizer = WordNetLemmatizer()"
   ]
  },
  {
   "cell_type": "code",
   "execution_count": 60,
   "id": "da55645d",
   "metadata": {},
   "outputs": [
    {
     "data": {
      "text/plain": [
       "'go'"
      ]
     },
     "execution_count": 60,
     "metadata": {},
     "output_type": "execute_result"
    }
   ],
   "source": [
    "lemmatizer.lemmatize('goes')"
   ]
  },
  {
   "cell_type": "code",
   "execution_count": 48,
   "id": "421a467e",
   "metadata": {},
   "outputs": [],
   "source": [
    "import re"
   ]
  },
  {
   "cell_type": "code",
   "execution_count": 69,
   "id": "c90a664c",
   "metadata": {},
   "outputs": [
    {
     "data": {
      "text/plain": [
       "['Ir ',\n",
       " 'H  Joko Widodo   Indonesian pronunciation  born June            or better known as Jokowi   is the President of Indonesia who has been in office since October          ',\n",
       " 'Elected in the      Presidential Election   Jokowi became the first President of Indonesia in history ',\n",
       " 'who do not come from an elite Indonesian political or military background  ',\n",
       " 'He was elected with Vice President Muhammad Jusuf Kalla and was re elected with Vice President Maruf Amin in the      Presidential Election  ',\n",
       " 'Previously  Jokowi had served as the Governor of DKI Jakarta from    October      to    October      accompanied by Basuki Tjahaja Purnama as deputy governor ',\n",
       " 'Previously  he was the Mayor of Surakarta   Solo    from July          to October         accompanied by FX Hadi Rudyatmo as deputy mayor ',\n",
       " '    Two years into his second term as Mayor of Solo  Jokowi was appointed by his party  the Indonesian Democratic Party of Struggle  PDI P   to compete in the election for the Governor of DKI Jakarta with Basuki Tjahaja Purnama  Ahok  ',\n",
       " '   ']"
      ]
     },
     "execution_count": 69,
     "metadata": {},
     "output_type": "execute_result"
    }
   ],
   "source": [
    "#Paragraphs\n",
    "corpus=[]\n",
    "for i in range(len(sentences)):\n",
    "    review = re.sub('[^a-zA-Z]',' ', sentences[i]) #we want to substitute every other character of capital a-z n small a-z, with ' '\n",
    "    review.lower()\n",
    "    corpus.append(review)\n",
    "corpus"
   ]
  },
  {
   "cell_type": "code",
   "execution_count": 63,
   "id": "bc09f33d",
   "metadata": {
    "scrolled": true
   },
   "outputs": [
    {
     "name": "stdout",
     "output_type": "stream",
     "text": [
      "Ir \n",
      "\n",
      "\n",
      "H  Joko Widodo   Indonesian pronunciation  born June            or better known as Jokowi   is the President of Indonesia who has been in office since October          \n",
      "\n",
      "\n",
      "Elected in the      Presidential Election   Jokowi became the first President of Indonesia in history \n",
      "\n",
      "\n",
      "who do not come from an elite Indonesian political or military background  \n",
      "\n",
      "\n",
      "He was elected with Vice President Muhammad Jusuf Kalla and was re elected with Vice President Maruf Amin in the      Presidential Election  \n",
      "\n",
      "\n",
      "Previously  Jokowi had served as the Governor of DKI Jakarta from    October      to    October      accompanied by Basuki Tjahaja Purnama as deputy governor \n",
      "\n",
      "\n",
      "Previously  he was the Mayor of Surakarta   Solo    from July          to October         accompanied by FX Hadi Rudyatmo as deputy mayor \n",
      "\n",
      "\n",
      "    Two years into his second term as Mayor of Solo  Jokowi was appointed by his party  the Indonesian Democratic Party of Struggle  PDI P   to compete in the election for the Governor of DKI Jakarta with Basuki Tjahaja Purnama  Ahok  \n",
      "\n",
      "\n",
      "   \n",
      "\n",
      "\n"
     ]
    }
   ],
   "source": [
    "for i in corpus:\n",
    "    print(i)\n",
    "    print('\\n')"
   ]
  },
  {
   "cell_type": "code",
   "execution_count": 64,
   "id": "6d75e4be",
   "metadata": {
    "scrolled": true
   },
   "outputs": [
    {
     "data": {
      "text/plain": [
       "['i',\n",
       " 'me',\n",
       " 'my',\n",
       " 'myself',\n",
       " 'we',\n",
       " 'our',\n",
       " 'ours',\n",
       " 'ourselves',\n",
       " 'you',\n",
       " \"you're\",\n",
       " \"you've\",\n",
       " \"you'll\",\n",
       " \"you'd\",\n",
       " 'your',\n",
       " 'yours',\n",
       " 'yourself',\n",
       " 'yourselves',\n",
       " 'he',\n",
       " 'him',\n",
       " 'his',\n",
       " 'himself',\n",
       " 'she',\n",
       " \"she's\",\n",
       " 'her',\n",
       " 'hers',\n",
       " 'herself',\n",
       " 'it',\n",
       " \"it's\",\n",
       " 'its',\n",
       " 'itself',\n",
       " 'they',\n",
       " 'them',\n",
       " 'their',\n",
       " 'theirs',\n",
       " 'themselves',\n",
       " 'what',\n",
       " 'which',\n",
       " 'who',\n",
       " 'whom',\n",
       " 'this',\n",
       " 'that',\n",
       " \"that'll\",\n",
       " 'these',\n",
       " 'those',\n",
       " 'am',\n",
       " 'is',\n",
       " 'are',\n",
       " 'was',\n",
       " 'were',\n",
       " 'be',\n",
       " 'been',\n",
       " 'being',\n",
       " 'have',\n",
       " 'has',\n",
       " 'had',\n",
       " 'having',\n",
       " 'do',\n",
       " 'does',\n",
       " 'did',\n",
       " 'doing',\n",
       " 'a',\n",
       " 'an',\n",
       " 'the',\n",
       " 'and',\n",
       " 'but',\n",
       " 'if',\n",
       " 'or',\n",
       " 'because',\n",
       " 'as',\n",
       " 'until',\n",
       " 'while',\n",
       " 'of',\n",
       " 'at',\n",
       " 'by',\n",
       " 'for',\n",
       " 'with',\n",
       " 'about',\n",
       " 'against',\n",
       " 'between',\n",
       " 'into',\n",
       " 'through',\n",
       " 'during',\n",
       " 'before',\n",
       " 'after',\n",
       " 'above',\n",
       " 'below',\n",
       " 'to',\n",
       " 'from',\n",
       " 'up',\n",
       " 'down',\n",
       " 'in',\n",
       " 'out',\n",
       " 'on',\n",
       " 'off',\n",
       " 'over',\n",
       " 'under',\n",
       " 'again',\n",
       " 'further',\n",
       " 'then',\n",
       " 'once',\n",
       " 'here',\n",
       " 'there',\n",
       " 'when',\n",
       " 'where',\n",
       " 'why',\n",
       " 'how',\n",
       " 'all',\n",
       " 'any',\n",
       " 'both',\n",
       " 'each',\n",
       " 'few',\n",
       " 'more',\n",
       " 'most',\n",
       " 'other',\n",
       " 'some',\n",
       " 'such',\n",
       " 'no',\n",
       " 'nor',\n",
       " 'not',\n",
       " 'only',\n",
       " 'own',\n",
       " 'same',\n",
       " 'so',\n",
       " 'than',\n",
       " 'too',\n",
       " 'very',\n",
       " 's',\n",
       " 't',\n",
       " 'can',\n",
       " 'will',\n",
       " 'just',\n",
       " 'don',\n",
       " \"don't\",\n",
       " 'should',\n",
       " \"should've\",\n",
       " 'now',\n",
       " 'd',\n",
       " 'll',\n",
       " 'm',\n",
       " 'o',\n",
       " 're',\n",
       " 've',\n",
       " 'y',\n",
       " 'ain',\n",
       " 'aren',\n",
       " \"aren't\",\n",
       " 'couldn',\n",
       " \"couldn't\",\n",
       " 'didn',\n",
       " \"didn't\",\n",
       " 'doesn',\n",
       " \"doesn't\",\n",
       " 'hadn',\n",
       " \"hadn't\",\n",
       " 'hasn',\n",
       " \"hasn't\",\n",
       " 'haven',\n",
       " \"haven't\",\n",
       " 'isn',\n",
       " \"isn't\",\n",
       " 'ma',\n",
       " 'mightn',\n",
       " \"mightn't\",\n",
       " 'mustn',\n",
       " \"mustn't\",\n",
       " 'needn',\n",
       " \"needn't\",\n",
       " 'shan',\n",
       " \"shan't\",\n",
       " 'shouldn',\n",
       " \"shouldn't\",\n",
       " 'wasn',\n",
       " \"wasn't\",\n",
       " 'weren',\n",
       " \"weren't\",\n",
       " 'won',\n",
       " \"won't\",\n",
       " 'wouldn',\n",
       " \"wouldn't\"]"
      ]
     },
     "execution_count": 64,
     "metadata": {},
     "output_type": "execute_result"
    }
   ],
   "source": [
    "stopwords.words('english')"
   ]
  },
  {
   "cell_type": "code",
   "execution_count": 67,
   "id": "b6281942",
   "metadata": {
    "scrolled": true
   },
   "outputs": [
    {
     "name": "stdout",
     "output_type": "stream",
     "text": [
      "ir\n",
      "h\n",
      "joko\n",
      "widodo\n",
      "indonesian\n",
      "pronunci\n",
      "born\n",
      "june\n",
      "better\n",
      "known\n",
      "jokowi\n",
      "presid\n",
      "indonesia\n",
      "offic\n",
      "sinc\n",
      "octob\n",
      "elect\n",
      "presidenti\n",
      "elect\n",
      "jokowi\n",
      "becam\n",
      "first\n",
      "presid\n",
      "indonesia\n",
      "histori\n",
      "come\n",
      "elit\n",
      "indonesian\n",
      "polit\n",
      "militari\n",
      "background\n",
      "he\n",
      "elect\n",
      "vice\n",
      "presid\n",
      "muhammad\n",
      "jusuf\n",
      "kalla\n",
      "elect\n",
      "vice\n",
      "presid\n",
      "maruf\n",
      "amin\n",
      "presidenti\n",
      "elect\n",
      "previous\n",
      "jokowi\n",
      "serv\n",
      "governor\n",
      "dki\n",
      "jakarta\n",
      "octob\n",
      "octob\n",
      "accompani\n",
      "basuki\n",
      "tjahaja\n",
      "purnama\n",
      "deputi\n",
      "governor\n",
      "previous\n",
      "mayor\n",
      "surakarta\n",
      "solo\n",
      "juli\n",
      "octob\n",
      "accompani\n",
      "fx\n",
      "hadi\n",
      "rudyatmo\n",
      "deputi\n",
      "mayor\n",
      "two\n",
      "year\n",
      "second\n",
      "term\n",
      "mayor\n",
      "solo\n",
      "jokowi\n",
      "appoint\n",
      "parti\n",
      "indonesian\n",
      "democrat\n",
      "parti\n",
      "struggl\n",
      "pdi\n",
      "p\n",
      "compet\n",
      "elect\n",
      "governor\n",
      "dki\n",
      "jakarta\n",
      "basuki\n",
      "tjahaja\n",
      "purnama\n",
      "ahok\n"
     ]
    }
   ],
   "source": [
    "#Stemming\n",
    "for i in corpus:\n",
    "    words = nltk.word_tokenize(i) #Sentence to Words\n",
    "    for word in words:\n",
    "        if word not in stopwords.words('english'):\n",
    "            print(stemmer.stem(word))"
   ]
  },
  {
   "cell_type": "code",
   "execution_count": 68,
   "id": "4c0293b8",
   "metadata": {
    "scrolled": true
   },
   "outputs": [
    {
     "name": "stdout",
     "output_type": "stream",
     "text": [
      "Ir\n",
      "H\n",
      "Joko\n",
      "Widodo\n",
      "Indonesian\n",
      "pronunciation\n",
      "born\n",
      "June\n",
      "better\n",
      "known\n",
      "Jokowi\n",
      "President\n",
      "Indonesia\n",
      "office\n",
      "since\n",
      "October\n",
      "Elected\n",
      "Presidential\n",
      "Election\n",
      "Jokowi\n",
      "became\n",
      "first\n",
      "President\n",
      "Indonesia\n",
      "history\n",
      "come\n",
      "elite\n",
      "Indonesian\n",
      "political\n",
      "military\n",
      "background\n",
      "He\n",
      "elected\n",
      "Vice\n",
      "President\n",
      "Muhammad\n",
      "Jusuf\n",
      "Kalla\n",
      "elected\n",
      "Vice\n",
      "President\n",
      "Maruf\n",
      "Amin\n",
      "Presidential\n",
      "Election\n",
      "Previously\n",
      "Jokowi\n",
      "served\n",
      "Governor\n",
      "DKI\n",
      "Jakarta\n",
      "October\n",
      "October\n",
      "accompanied\n",
      "Basuki\n",
      "Tjahaja\n",
      "Purnama\n",
      "deputy\n",
      "governor\n",
      "Previously\n",
      "Mayor\n",
      "Surakarta\n",
      "Solo\n",
      "July\n",
      "October\n",
      "accompanied\n",
      "FX\n",
      "Hadi\n",
      "Rudyatmo\n",
      "deputy\n",
      "mayor\n",
      "Two\n",
      "year\n",
      "second\n",
      "term\n",
      "Mayor\n",
      "Solo\n",
      "Jokowi\n",
      "appointed\n",
      "party\n",
      "Indonesian\n",
      "Democratic\n",
      "Party\n",
      "Struggle\n",
      "PDI\n",
      "P\n",
      "compete\n",
      "election\n",
      "Governor\n",
      "DKI\n",
      "Jakarta\n",
      "Basuki\n",
      "Tjahaja\n",
      "Purnama\n",
      "Ahok\n"
     ]
    }
   ],
   "source": [
    "# Lemmatization\n",
    "for i in corpus:\n",
    "    words = nltk.word_tokenize(i) #Sentence to Words\n",
    "    for word in words:\n",
    "        if word not in stopwords.words('english'):\n",
    "            print(lemmatizer.lemmatize(word))"
   ]
  },
  {
   "cell_type": "code",
   "execution_count": 103,
   "id": "77c72de4",
   "metadata": {},
   "outputs": [
    {
     "data": {
      "text/plain": [
       "'ryan-bobb-and'"
      ]
     },
     "execution_count": 103,
     "metadata": {},
     "output_type": "execute_result"
    }
   ],
   "source": [
    "a = ['ryan','bobb','and']\n",
    "'-'.join(a)"
   ]
  },
  {
   "cell_type": "code",
   "execution_count": 92,
   "id": "3ea1be8d",
   "metadata": {},
   "outputs": [
    {
     "data": {
      "text/plain": [
       "['ir',\n",
       " 'h joko widodo indonesian pronunciation born june better known jokowi president indonesia office since october',\n",
       " 'elected presidential election jokowi became first president indonesia history',\n",
       " 'come elite indonesian political military background',\n",
       " 'elected vice president muhammad jusuf kalla elected vice president maruf amin presidential election',\n",
       " 'previously jokowi served governor dki jakarta october october accompanied basuki tjahaja purnama deputy governor',\n",
       " 'previously mayor surakarta solo july october accompanied fx hadi rudyatmo deputy mayor',\n",
       " 'two year second term mayor solo jokowi appointed party indonesian democratic party struggle pdi p compete election governor dki jakarta basuki tjahaja purnama ahok',\n",
       " '']"
      ]
     },
     "execution_count": 92,
     "metadata": {},
     "output_type": "execute_result"
    }
   ],
   "source": [
    "# Aply Stopword in Lemmatization\n",
    "#Paragraphs\n",
    "corpus=[]\n",
    "for i in range(len(sentences)):\n",
    "    review = re.sub('[^a-zA-Z]',' ', sentences[i]) #we want to substitute every other character of capital a-z n small a-z, with ' '\n",
    "    review = review.lower()\n",
    "    review = review.split()\n",
    "    review = [lemmatizer.lemmatize(word) for word in review if not word in set(stopwords.words('english'))]\n",
    "    review = ' '.join(review)\n",
    "    corpus.append(review)\n",
    "corpus"
   ]
  },
  {
   "cell_type": "code",
   "execution_count": null,
   "id": "f28654be",
   "metadata": {},
   "outputs": [],
   "source": []
  },
  {
   "cell_type": "code",
   "execution_count": 93,
   "id": "0dfe03fc",
   "metadata": {},
   "outputs": [],
   "source": [
    "#Bag of Words\n",
    "from sklearn.feature_extraction.text import CountVectorizer\n",
    "cv = CountVectorizer()"
   ]
  },
  {
   "cell_type": "code",
   "execution_count": 94,
   "id": "add311bf",
   "metadata": {},
   "outputs": [],
   "source": [
    "#Create Bag of Words Based on the Index or Feature Number from the vocabulary\n",
    "X = cv.fit_transform(corpus)"
   ]
  },
  {
   "cell_type": "code",
   "execution_count": 95,
   "id": "1718fc39",
   "metadata": {
    "scrolled": true
   },
   "outputs": [
    {
     "data": {
      "text/plain": [
       "{'ir': 24,\n",
       " 'joko': 26,\n",
       " 'widodo': 58,\n",
       " 'indonesian': 23,\n",
       " 'pronunciation': 45,\n",
       " 'born': 8,\n",
       " 'june': 29,\n",
       " 'better': 7,\n",
       " 'known': 32,\n",
       " 'jokowi': 27,\n",
       " 'president': 42,\n",
       " 'indonesia': 22,\n",
       " 'office': 38,\n",
       " 'since': 50,\n",
       " 'october': 37,\n",
       " 'elected': 14,\n",
       " 'presidential': 43,\n",
       " 'election': 15,\n",
       " 'became': 6,\n",
       " 'first': 17,\n",
       " 'history': 21,\n",
       " 'come': 9,\n",
       " 'elite': 16,\n",
       " 'political': 41,\n",
       " 'military': 35,\n",
       " 'background': 4,\n",
       " 'vice': 57,\n",
       " 'muhammad': 36,\n",
       " 'jusuf': 30,\n",
       " 'kalla': 31,\n",
       " 'maruf': 33,\n",
       " 'amin': 2,\n",
       " 'previously': 44,\n",
       " 'served': 49,\n",
       " 'governor': 19,\n",
       " 'dki': 13,\n",
       " 'jakarta': 25,\n",
       " 'accompanied': 0,\n",
       " 'basuki': 5,\n",
       " 'tjahaja': 55,\n",
       " 'purnama': 46,\n",
       " 'deputy': 12,\n",
       " 'mayor': 34,\n",
       " 'surakarta': 53,\n",
       " 'solo': 51,\n",
       " 'july': 28,\n",
       " 'fx': 18,\n",
       " 'hadi': 20,\n",
       " 'rudyatmo': 47,\n",
       " 'two': 56,\n",
       " 'year': 59,\n",
       " 'second': 48,\n",
       " 'term': 54,\n",
       " 'appointed': 3,\n",
       " 'party': 39,\n",
       " 'democratic': 11,\n",
       " 'struggle': 52,\n",
       " 'pdi': 40,\n",
       " 'compete': 10,\n",
       " 'ahok': 1}"
      ]
     },
     "execution_count": 95,
     "metadata": {},
     "output_type": "execute_result"
    }
   ],
   "source": [
    "cv.vocabulary_"
   ]
  },
  {
   "cell_type": "code",
   "execution_count": 96,
   "id": "eaa1ab7d",
   "metadata": {},
   "outputs": [
    {
     "data": {
      "text/plain": [
       "'h joko widodo indonesian pronunciation born june better known jokowi president indonesia office since october'"
      ]
     },
     "execution_count": 96,
     "metadata": {},
     "output_type": "execute_result"
    }
   ],
   "source": [
    "corpus[1]"
   ]
  },
  {
   "cell_type": "code",
   "execution_count": 97,
   "id": "75ca7bbd",
   "metadata": {},
   "outputs": [
    {
     "data": {
      "text/plain": [
       "array([[0, 0, 0, 0, 0, 0, 0, 1, 1, 0, 0, 0, 0, 0, 0, 0, 0, 0, 0, 0, 0, 0,\n",
       "        1, 1, 0, 0, 1, 1, 0, 1, 0, 0, 1, 0, 0, 0, 0, 1, 1, 0, 0, 0, 1, 0,\n",
       "        0, 1, 0, 0, 0, 0, 1, 0, 0, 0, 0, 0, 0, 0, 1, 0]], dtype=int64)"
      ]
     },
     "execution_count": 97,
     "metadata": {},
     "output_type": "execute_result"
    }
   ],
   "source": [
    "X[1].toarray()"
   ]
  },
  {
   "cell_type": "code",
   "execution_count": 98,
   "id": "f03e20e9",
   "metadata": {},
   "outputs": [
    {
     "data": {
      "text/plain": [
       "'elected presidential election jokowi became first president indonesia history'"
      ]
     },
     "execution_count": 98,
     "metadata": {},
     "output_type": "execute_result"
    }
   ],
   "source": [
    "corpus[2]"
   ]
  },
  {
   "cell_type": "code",
   "execution_count": 99,
   "id": "9e1b62b7",
   "metadata": {},
   "outputs": [
    {
     "data": {
      "text/plain": [
       "array([[0, 0, 0, 0, 0, 0, 1, 0, 0, 0, 0, 0, 0, 0, 1, 1, 0, 1, 0, 0, 0, 1,\n",
       "        1, 0, 0, 0, 0, 1, 0, 0, 0, 0, 0, 0, 0, 0, 0, 0, 0, 0, 0, 0, 1, 1,\n",
       "        0, 0, 0, 0, 0, 0, 0, 0, 0, 0, 0, 0, 0, 0, 0, 0]], dtype=int64)"
      ]
     },
     "execution_count": 99,
     "metadata": {},
     "output_type": "execute_result"
    }
   ],
   "source": [
    "X[2].toarray()"
   ]
  },
  {
   "cell_type": "code",
   "execution_count": 100,
   "id": "a99c15db",
   "metadata": {},
   "outputs": [
    {
     "data": {
      "text/plain": [
       "array([[0, 0, 0, 0, 0, 0, 1, 0, 0, 0, 0, 0, 0, 0, 1, 1, 0, 1, 0, 0, 0, 1,\n",
       "        1, 0, 0, 0, 0, 1, 0, 0, 0, 0, 0, 0, 0, 0, 0, 0, 0, 0, 0, 0, 1, 1,\n",
       "        0, 0, 0, 0, 0, 0, 0, 0, 0, 0, 0, 0, 0, 0, 0, 0]], dtype=int64)"
      ]
     },
     "execution_count": 100,
     "metadata": {},
     "output_type": "execute_result"
    }
   ],
   "source": [
    "#With Binary, only 1 or 0\n",
    "cv = CountVectorizer(binary = True)\n",
    "X = cv.fit_transform(corpus)\n",
    "X[2].toarray()"
   ]
  },
  {
   "cell_type": "code",
   "execution_count": null,
   "id": "25d187dc",
   "metadata": {},
   "outputs": [],
   "source": []
  }
 ],
 "metadata": {
  "kernelspec": {
   "display_name": "Python 3",
   "language": "python",
   "name": "python3"
  },
  "language_info": {
   "codemirror_mode": {
    "name": "ipython",
    "version": 3
   },
   "file_extension": ".py",
   "mimetype": "text/x-python",
   "name": "python",
   "nbconvert_exporter": "python",
   "pygments_lexer": "ipython3",
   "version": "3.8.8"
  }
 },
 "nbformat": 4,
 "nbformat_minor": 5
}
