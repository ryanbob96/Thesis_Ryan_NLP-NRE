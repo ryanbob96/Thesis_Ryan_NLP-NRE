{
 "cells": [
  {
   "cell_type": "markdown",
   "id": "2668f611",
   "metadata": {},
   "source": [
    "## Tokenization"
   ]
  },
  {
   "cell_type": "code",
   "execution_count": 2,
   "id": "03a50302",
   "metadata": {},
   "outputs": [],
   "source": [
    "import tensorflow as tf\n",
    "from tensorflow import keras\n",
    "from tensorflow.keras.preprocessing.text import Tokenizer"
   ]
  },
  {
   "cell_type": "code",
   "execution_count": 7,
   "id": "e1ed57a7",
   "metadata": {},
   "outputs": [],
   "source": [
    "sentences = ['I Love my Dog', 'I love my Giraffe!!']"
   ]
  },
  {
   "cell_type": "code",
   "execution_count": 8,
   "id": "334a4999",
   "metadata": {},
   "outputs": [],
   "source": [
    "#Tokenization\n",
    "tokenizer = Tokenizer(num_words = 100)\n",
    "tokenizer.fit_on_texts(sentences)\n",
    "word_index = tokenizer.word_index"
   ]
  },
  {
   "cell_type": "code",
   "execution_count": 9,
   "id": "9bafaab0",
   "metadata": {},
   "outputs": [
    {
     "data": {
      "text/plain": [
       "{'i': 1, 'love': 2, 'my': 3, 'dog': 4, 'giraffe': 5}"
      ]
     },
     "execution_count": 9,
     "metadata": {},
     "output_type": "execute_result"
    }
   ],
   "source": [
    "word_index"
   ]
  },
  {
   "cell_type": "markdown",
   "id": "d9e59aed",
   "metadata": {},
   "source": [
    "## Word Index / Sequences"
   ]
  },
  {
   "cell_type": "code",
   "execution_count": 26,
   "id": "024e082f",
   "metadata": {},
   "outputs": [],
   "source": [
    "sentences = ['I Love my Dog', 'I love my Giraffe!!', 'you love my dog', 'do you think my dog is amazing?']"
   ]
  },
  {
   "cell_type": "code",
   "execution_count": 27,
   "id": "9d06a629",
   "metadata": {},
   "outputs": [],
   "source": [
    "#Tokenization\n",
    "tokenizer = Tokenizer(num_words = 100)\n",
    "tokenizer.fit_on_texts(sentences)\n",
    "word_index = tokenizer.word_index"
   ]
  },
  {
   "cell_type": "code",
   "execution_count": 28,
   "id": "dcc6fc22",
   "metadata": {},
   "outputs": [],
   "source": [
    "sequences = tokenizer.texts_to_sequences(sentences)"
   ]
  },
  {
   "cell_type": "code",
   "execution_count": 29,
   "id": "c446ecad",
   "metadata": {},
   "outputs": [
    {
     "data": {
      "text/plain": [
       "[[4, 2, 1, 3], [4, 2, 1, 6], [5, 2, 1, 3], [7, 5, 8, 1, 3, 9, 10]]"
      ]
     },
     "execution_count": 29,
     "metadata": {},
     "output_type": "execute_result"
    }
   ],
   "source": [
    "sequences"
   ]
  },
  {
   "cell_type": "code",
   "execution_count": 30,
   "id": "991dea3b",
   "metadata": {},
   "outputs": [],
   "source": [
    "Test_data = ['I really love my dog','my dog loves my manatee']"
   ]
  },
  {
   "cell_type": "code",
   "execution_count": 31,
   "id": "f193dd82",
   "metadata": {},
   "outputs": [
    {
     "data": {
      "text/plain": [
       "[[4, 2, 1, 3], [1, 3, 1]]"
      ]
     },
     "execution_count": 31,
     "metadata": {},
     "output_type": "execute_result"
    }
   ],
   "source": [
    "test_seq = tokenizer.texts_to_sequences(Test_data)\n",
    "test_seq\n",
    "# we can see that loves and manatee is not in the vocabulary"
   ]
  },
  {
   "cell_type": "code",
   "execution_count": 32,
   "id": "c5486864",
   "metadata": {},
   "outputs": [],
   "source": [
    "#Tokenization\n",
    "tokenizer = Tokenizer(num_words = 100,oov_token='<OOV>' ) #the unknown word will be assigned as OOV (Out Of Vocabulary)\n",
    "tokenizer.fit_on_texts(sentences)\n",
    "word_index = tokenizer.word_index"
   ]
  },
  {
   "cell_type": "code",
   "execution_count": 33,
   "id": "6418e715",
   "metadata": {},
   "outputs": [
    {
     "data": {
      "text/plain": [
       "{'<OOV>': 1,\n",
       " 'my': 2,\n",
       " 'love': 3,\n",
       " 'dog': 4,\n",
       " 'i': 5,\n",
       " 'you': 6,\n",
       " 'giraffe': 7,\n",
       " 'do': 8,\n",
       " 'think': 9,\n",
       " 'is': 10,\n",
       " 'amazing': 11}"
      ]
     },
     "execution_count": 33,
     "metadata": {},
     "output_type": "execute_result"
    }
   ],
   "source": [
    "word_index"
   ]
  },
  {
   "cell_type": "code",
   "execution_count": 34,
   "id": "76eeee73",
   "metadata": {},
   "outputs": [
    {
     "data": {
      "text/plain": [
       "[[5, 1, 3, 2, 4], [2, 4, 1, 2, 1]]"
      ]
     },
     "execution_count": 34,
     "metadata": {},
     "output_type": "execute_result"
    }
   ],
   "source": [
    "test_seq = tokenizer.texts_to_sequences(Test_data)\n",
    "test_seq\n",
    "# we can see that loves and manatee is not in the vocabulary"
   ]
  },
  {
   "cell_type": "markdown",
   "id": "4eee21eb",
   "metadata": {},
   "source": [
    "## Padding"
   ]
  },
  {
   "cell_type": "code",
   "execution_count": 35,
   "id": "21173862",
   "metadata": {},
   "outputs": [],
   "source": [
    "#When it come to train a neural network, we need a sentence that have same length/size among all\n",
    "from tensorflow.keras.preprocessing.sequence import pad_sequences"
   ]
  },
  {
   "cell_type": "code",
   "execution_count": 36,
   "id": "8e5b9fd3",
   "metadata": {},
   "outputs": [],
   "source": [
    "#Tokenization\n",
    "tokenizer = Tokenizer(num_words = 100,oov_token='<OOV>' ) #the unknown word will be assigned as OOV (Out Of Vocabulary)\n",
    "tokenizer.fit_on_texts(sentences)\n",
    "word_index = tokenizer.word_index\n",
    "\n",
    "sequences = tokenizer.texts_to_sequences(sentences)"
   ]
  },
  {
   "cell_type": "code",
   "execution_count": 38,
   "id": "3f4842cd",
   "metadata": {},
   "outputs": [
    {
     "data": {
      "text/plain": [
       "array([[ 0,  0,  0,  5,  3,  2,  4],\n",
       "       [ 0,  0,  0,  5,  3,  2,  7],\n",
       "       [ 0,  0,  0,  6,  3,  2,  4],\n",
       "       [ 8,  6,  9,  2,  4, 10, 11]])"
      ]
     },
     "execution_count": 38,
     "metadata": {},
     "output_type": "execute_result"
    }
   ],
   "source": [
    "padded = pad_sequences(sequences, padding = 'pre')\n",
    "padded"
   ]
  },
  {
   "cell_type": "code",
   "execution_count": null,
   "id": "27bd1d6f",
   "metadata": {},
   "outputs": [],
   "source": []
  },
  {
   "cell_type": "code",
   "execution_count": null,
   "id": "5b458d36",
   "metadata": {},
   "outputs": [],
   "source": []
  }
 ],
 "metadata": {
  "kernelspec": {
   "display_name": "Python 3",
   "language": "python",
   "name": "python3"
  },
  "language_info": {
   "codemirror_mode": {
    "name": "ipython",
    "version": 3
   },
   "file_extension": ".py",
   "mimetype": "text/x-python",
   "name": "python",
   "nbconvert_exporter": "python",
   "pygments_lexer": "ipython3",
   "version": "3.8.8"
  }
 },
 "nbformat": 4,
 "nbformat_minor": 5
}
