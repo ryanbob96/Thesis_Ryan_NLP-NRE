{
 "cells": [
  {
   "cell_type": "code",
   "execution_count": 2,
   "id": "252370d8",
   "metadata": {},
   "outputs": [
    {
     "name": "stdout",
     "output_type": "stream",
     "text": [
      "Collecting excalibur-py\n",
      "  Using cached excalibur_py-0.4.3-py3-none-any.whl (1.5 MB)\n",
      "Requirement already satisfied: Flask>=1.0.2 in c:\\users\\ryan bobby a\\anaconda3\\lib\\site-packages (from excalibur-py) (1.1.2)\n",
      "Collecting Werkzeug<1.0.0\n",
      "  Using cached Werkzeug-0.16.1-py2.py3-none-any.whl (327 kB)\n",
      "Requirement already satisfied: Click>=7.0 in c:\\users\\ryan bobby a\\anaconda3\\lib\\site-packages (from excalibur-py) (7.1.2)\n",
      "Collecting celery>=4.1.1\n",
      "  Using cached celery-5.2.7-py3-none-any.whl (405 kB)\n",
      "Collecting configparser<3.6.0,>=3.5.0\n",
      "  Using cached configparser-3.5.3-py3-none-any.whl (21 kB)\n",
      "Requirement already satisfied: camelot-py[cv]>=0.7.1 in c:\\users\\ryan bobby a\\anaconda3\\lib\\site-packages (from excalibur-py) (0.10.1)\n",
      "Requirement already satisfied: SQLAlchemy>=1.2.12 in c:\\users\\ryan bobby a\\anaconda3\\lib\\site-packages (from excalibur-py) (1.4.7)\n",
      "Requirement already satisfied: pdfminer.six>=20200726 in c:\\users\\ryan bobby a\\anaconda3\\lib\\site-packages (from camelot-py[cv]>=0.7.1->excalibur-py) (20220524)\n",
      "Requirement already satisfied: tabulate>=0.8.9 in c:\\users\\ryan bobby a\\anaconda3\\lib\\site-packages (from camelot-py[cv]>=0.7.1->excalibur-py) (0.8.9)\n",
      "Requirement already satisfied: chardet>=3.0.4 in c:\\users\\ryan bobby a\\anaconda3\\lib\\site-packages (from camelot-py[cv]>=0.7.1->excalibur-py) (4.0.0)\n",
      "Requirement already satisfied: PyPDF2>=1.26.0 in c:\\users\\ryan bobby a\\anaconda3\\lib\\site-packages (from camelot-py[cv]>=0.7.1->excalibur-py) (2.1.0)\n",
      "Requirement already satisfied: openpyxl>=2.5.8 in c:\\users\\ryan bobby a\\anaconda3\\lib\\site-packages (from camelot-py[cv]>=0.7.1->excalibur-py) (3.0.7)\n",
      "Requirement already satisfied: numpy>=1.13.3 in c:\\users\\ryan bobby a\\anaconda3\\lib\\site-packages (from camelot-py[cv]>=0.7.1->excalibur-py) (1.20.1)\n",
      "Requirement already satisfied: pandas>=0.23.4 in c:\\users\\ryan bobby a\\anaconda3\\lib\\site-packages (from camelot-py[cv]>=0.7.1->excalibur-py) (1.2.4)\n",
      "Requirement already satisfied: pdftopng>=0.2.3 in c:\\users\\ryan bobby a\\anaconda3\\lib\\site-packages (from camelot-py[cv]>=0.7.1->excalibur-py) (0.2.3)\n",
      "Requirement already satisfied: opencv-python>=3.4.2.17 in c:\\users\\ryan bobby a\\anaconda3\\lib\\site-packages (from camelot-py[cv]>=0.7.1->excalibur-py) (4.6.0.66)\n",
      "Requirement already satisfied: ghostscript>=0.7 in c:\\users\\ryan bobby a\\anaconda3\\lib\\site-packages (from camelot-py[cv]>=0.7.1->excalibur-py) (0.7)\n",
      "Collecting kombu<6.0,>=5.2.3\n",
      "  Using cached kombu-5.2.4-py3-none-any.whl (189 kB)\n",
      "Collecting Click>=7.0\n",
      "  Using cached click-8.1.3-py3-none-any.whl (96 kB)\n",
      "Collecting click-repl>=0.2.0\n",
      "  Using cached click_repl-0.2.0-py3-none-any.whl (5.2 kB)\n",
      "Collecting click-didyoumean>=0.0.3\n",
      "  Using cached click_didyoumean-0.3.0-py3-none-any.whl (2.7 kB)\n",
      "Collecting pytz>=2021.3\n",
      "  Downloading pytz-2022.1-py2.py3-none-any.whl (503 kB)\n",
      "Collecting billiard<4.0,>=3.6.4.0\n",
      "  Using cached billiard-3.6.4.0-py3-none-any.whl (89 kB)\n",
      "Collecting vine<6.0,>=5.0.0\n",
      "  Using cached vine-5.0.0-py2.py3-none-any.whl (9.4 kB)\n",
      "Collecting click-plugins>=1.1.1\n",
      "  Using cached click_plugins-1.1.1-py2.py3-none-any.whl (7.5 kB)\n",
      "Requirement already satisfied: colorama in c:\\users\\ryan bobby a\\anaconda3\\lib\\site-packages (from Click>=7.0->excalibur-py) (0.4.4)\n",
      "Requirement already satisfied: six in c:\\users\\ryan bobby a\\anaconda3\\lib\\site-packages (from click-repl>=0.2.0->celery>=4.1.1->excalibur-py) (1.15.0)\n",
      "Requirement already satisfied: prompt-toolkit in c:\\users\\ryan bobby a\\anaconda3\\lib\\site-packages (from click-repl>=0.2.0->celery>=4.1.1->excalibur-py) (3.0.17)\n",
      "Requirement already satisfied: itsdangerous>=0.24 in c:\\users\\ryan bobby a\\anaconda3\\lib\\site-packages (from Flask>=1.0.2->excalibur-py) (1.1.0)\n",
      "Requirement already satisfied: Jinja2>=2.10.1 in c:\\users\\ryan bobby a\\anaconda3\\lib\\site-packages (from Flask>=1.0.2->excalibur-py) (2.11.3)\n",
      "Requirement already satisfied: setuptools>=38.6.0 in c:\\users\\ryan bobby a\\anaconda3\\lib\\site-packages (from ghostscript>=0.7->camelot-py[cv]>=0.7.1->excalibur-py) (62.1.0)\n",
      "Requirement already satisfied: MarkupSafe>=0.23 in c:\\users\\ryan bobby a\\anaconda3\\lib\\site-packages (from Jinja2>=2.10.1->Flask>=1.0.2->excalibur-py) (1.1.1)\n",
      "Collecting amqp<6.0.0,>=5.0.9\n",
      "  Using cached amqp-5.1.1-py3-none-any.whl (50 kB)\n",
      "Requirement already satisfied: et-xmlfile in c:\\users\\ryan bobby a\\anaconda3\\lib\\site-packages (from openpyxl>=2.5.8->camelot-py[cv]>=0.7.1->excalibur-py) (1.0.1)\n",
      "Requirement already satisfied: python-dateutil>=2.7.3 in c:\\users\\ryan bobby a\\anaconda3\\lib\\site-packages (from pandas>=0.23.4->camelot-py[cv]>=0.7.1->excalibur-py) (2.8.1)\n",
      "Requirement already satisfied: cryptography>=36.0.0 in c:\\users\\ryan bobby a\\anaconda3\\lib\\site-packages (from pdfminer.six>=20200726->camelot-py[cv]>=0.7.1->excalibur-py) (37.0.2)\n",
      "Requirement already satisfied: charset-normalizer>=2.0.0 in c:\\users\\ryan bobby a\\anaconda3\\lib\\site-packages (from pdfminer.six>=20200726->camelot-py[cv]>=0.7.1->excalibur-py) (2.0.12)\n",
      "Requirement already satisfied: cffi>=1.12 in c:\\users\\ryan bobby a\\anaconda3\\lib\\site-packages (from cryptography>=36.0.0->pdfminer.six>=20200726->camelot-py[cv]>=0.7.1->excalibur-py) (1.14.5)\n",
      "Requirement already satisfied: pycparser in c:\\users\\ryan bobby a\\anaconda3\\lib\\site-packages (from cffi>=1.12->cryptography>=36.0.0->pdfminer.six>=20200726->camelot-py[cv]>=0.7.1->excalibur-py) (2.20)\n",
      "Requirement already satisfied: typing-extensions in c:\\users\\ryan bobby a\\anaconda3\\lib\\site-packages (from PyPDF2>=1.26.0->camelot-py[cv]>=0.7.1->excalibur-py) (3.7.4.3)\n",
      "Requirement already satisfied: greenlet!=0.4.17 in c:\\users\\ryan bobby a\\anaconda3\\lib\\site-packages (from SQLAlchemy>=1.2.12->excalibur-py) (1.0.0)\n",
      "Requirement already satisfied: wcwidth in c:\\users\\ryan bobby a\\anaconda3\\lib\\site-packages (from prompt-toolkit->click-repl>=0.2.0->celery>=4.1.1->excalibur-py) (0.2.5)\n",
      "Installing collected packages: vine, pytz, Click, amqp, Werkzeug, kombu, click-repl, click-plugins, click-didyoumean, billiard, configparser, celery, excalibur-py\n",
      "  Attempting uninstall: pytz\n",
      "    Found existing installation: pytz 2021.1\n",
      "    Uninstalling pytz-2021.1:\n",
      "      Successfully uninstalled pytz-2021.1\n",
      "  Attempting uninstall: Click\n",
      "    Found existing installation: click 7.1.2\n",
      "    Uninstalling click-7.1.2:\n",
      "      Successfully uninstalled click-7.1.2\n",
      "  Attempting uninstall: Werkzeug\n",
      "    Found existing installation: Werkzeug 1.0.1\n",
      "    Uninstalling Werkzeug-1.0.1:\n",
      "      Successfully uninstalled Werkzeug-1.0.1\n",
      "Successfully installed Click-8.1.3 Werkzeug-0.16.1 amqp-5.1.1 billiard-3.6.4.0 celery-5.2.7 click-didyoumean-0.3.0 click-plugins-1.1.1 click-repl-0.2.0 configparser-3.5.3 excalibur-py-0.4.3 kombu-5.2.4 pytz-2022.1 vine-5.0.0\n"
     ]
    },
    {
     "name": "stderr",
     "output_type": "stream",
     "text": [
      "ERROR: pip's dependency resolver does not currently take into account all the packages that are installed. This behaviour is the source of the following dependency conflicts.\n",
      "conda-repo-cli 1.0.4 requires pathlib, which is not installed.\n",
      "spacy 3.2.4 requires click<8.1.0, but you have click 8.1.3 which is incompatible.\n"
     ]
    }
   ],
   "source": [
    "!pip install excalibur-py"
   ]
  },
  {
   "cell_type": "code",
   "execution_count": 3,
   "id": "088de9bb",
   "metadata": {},
   "outputs": [],
   "source": [
    "import excalibur"
   ]
  },
  {
   "cell_type": "code",
   "execution_count": 7,
   "id": "f0141446",
   "metadata": {},
   "outputs": [
    {
     "ename": "SyntaxError",
     "evalue": "invalid syntax (<ipython-input-7-fe7408aaf200>, line 1)",
     "output_type": "error",
     "traceback": [
      "\u001b[1;36m  File \u001b[1;32m\"<ipython-input-7-fe7408aaf200>\"\u001b[1;36m, line \u001b[1;32m1\u001b[0m\n\u001b[1;33m    $ excalibur initdb\u001b[0m\n\u001b[1;37m    ^\u001b[0m\n\u001b[1;31mSyntaxError\u001b[0m\u001b[1;31m:\u001b[0m invalid syntax\n"
     ]
    }
   ],
   "source": [
    "$ excalibur initdb"
   ]
  },
  {
   "cell_type": "code",
   "execution_count": 8,
   "id": "cb2cedb9",
   "metadata": {},
   "outputs": [
    {
     "data": {
      "text/plain": [
       "<module 'excalibur' from 'C:\\\\Users\\\\Ryan Bobby A\\\\anaconda3\\\\lib\\\\site-packages\\\\excalibur\\\\__init__.py'>"
      ]
     },
     "execution_count": 8,
     "metadata": {},
     "output_type": "execute_result"
    }
   ],
   "source": [
    "excalibur"
   ]
  },
  {
   "cell_type": "code",
   "execution_count": null,
   "id": "68da3a0e",
   "metadata": {},
   "outputs": [],
   "source": []
  }
 ],
 "metadata": {
  "kernelspec": {
   "display_name": "Python 3",
   "language": "python",
   "name": "python3"
  },
  "language_info": {
   "codemirror_mode": {
    "name": "ipython",
    "version": 3
   },
   "file_extension": ".py",
   "mimetype": "text/x-python",
   "name": "python",
   "nbconvert_exporter": "python",
   "pygments_lexer": "ipython3",
   "version": "3.8.8"
  }
 },
 "nbformat": 4,
 "nbformat_minor": 5
}
