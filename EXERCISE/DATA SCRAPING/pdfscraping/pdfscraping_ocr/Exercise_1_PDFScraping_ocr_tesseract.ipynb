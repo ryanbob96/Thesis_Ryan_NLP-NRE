{
 "cells": [
  {
   "cell_type": "code",
   "execution_count": 2,
   "id": "4b36a598",
   "metadata": {},
   "outputs": [],
   "source": [
    "import cv2\n",
    "import pytesseract\n",
    "pytesseract.pytesseract.tesseract_cmd=r'C:\\Program Files\\Tesseract-OCR\\tesseract.exe'"
   ]
  },
  {
   "cell_type": "code",
   "execution_count": 7,
   "id": "7edad418",
   "metadata": {},
   "outputs": [],
   "source": [
    "img1 = cv2.imread('Data_Image/single_row.png')\n",
    "cv2.imshow('tes',img1)\n",
    "cv2.waitKey(0)\n",
    "cv2.destroyAllWindows()"
   ]
  },
  {
   "cell_type": "code",
   "execution_count": 5,
   "id": "b4954483",
   "metadata": {},
   "outputs": [
    {
     "name": "stdout",
     "output_type": "stream",
     "text": [
      "‘The somewhat similar procedure that is used with soil is known as the direct shear test.\n",
      "For this test the soil sample is placed in a container in which one half can move relative to the\n",
      "other half thus imposing a shear stress on the sample. As the displacement in the direction of the\n",
      "shear force T of one half of the apparatus relative to the other half increases, the shear stress\n",
      "gradually builds up to a maximum value as illustrated in Fig. 8.8. The maximum value of the\n",
      "shear stress is the shear strength of the soil for the particular value of the normal force N or\n",
      "normal stress (N/A) applied to the soil, where A is the cross sectional area of the soil sample.\n",
      "Fig. 8.8 shows that a dense sand has a greater shear strength than a loose sand and this strength is\n",
      "reached at a smaller value of the displacement.\n",
      "\n",
      "‘The results of a number of direct shear tests are shown in Fig. 8.9. The sand yields a\n",
      "shear stress-normal stress plot similar to that of the sliding block in Fig. 8.7 but the clay gives an\n",
      "intercept on the shear stress axis. The general equation of a straight line on this type of plot is\n",
      "\n",
      "Tmax = C+ otang 85)\n",
      "in which\n",
      "© called the cohesion is the intercept on the shear stress axis\n",
      "o called the friction angle or angle of shearing resistance indicates the slope of the\n",
      "line.\n",
      "\n",
      "Equation (8.5) is generally referred to as the Coulomb equation and this equation (the\n",
      "subscript max is often deleted) is commonly used to describe the strength of soils. The strength\n",
      "parameters c and may be expressed in terms of either total stresses or effective stresses. The\n",
      "lines (failure lines) plotted in Fig. 8.9 are straight but with many soils the lines exhibit a slight\n",
      "curvature. In these cases a straight line approximation over the relevant range of normal stress\n",
      "values is normally used.\n",
      "\n",
      "It should be emphasised that a particular soil does not possess unique values of cohesion\n",
      "and friction angle. The values of the strength parameters ¢ and 6 depend upon the method of test\n",
      "\n",
      "as well as upon the soil type. Some of the commonly used methods of shear strength testing will\n",
      "\n",
      "be discussed in later sections of this chapter. Typical strength values for sands, silts and for rocks\n",
      "are given in Tables 8.1 and 8.2.\n",
      "\n"
     ]
    }
   ],
   "source": [
    "text = pytesseract.image_to_string(img)\n",
    "print(text)"
   ]
  },
  {
   "cell_type": "code",
   "execution_count": 8,
   "id": "d58261b6",
   "metadata": {},
   "outputs": [],
   "source": [
    "img2 = cv2.imread('Data_Image/Straight_Table.png')\n",
    "cv2.imshow('tes',img2)\n",
    "cv2.waitKey(0)\n",
    "cv2.destroyAllWindows()"
   ]
  },
  {
   "cell_type": "code",
   "execution_count": 9,
   "id": "4ea0cb21",
   "metadata": {},
   "outputs": [
    {
     "name": "stdout",
     "output_type": "stream",
     "text": [
      "Speed (mph) | Driver Car Date\n",
      "407.447 Craig Breedlove Spirit of America GE 347 8/5/63\n",
      "413.199 Tom Green Wingfoot Express WE 346 10/2/64\n",
      "434.22 Art Arfons Green Monster GE 79 10/5/64\n",
      "468.719 Craig Breedlove Spirit of America GE 79 10/13/64\n",
      "526.277 Craig Breedlove Spirit of America GE 379 10/15/65\n",
      "536.712 Art Arfons Green Monster GE 79 10/27/65\n",
      "555.127 Craig Breedlove Spirit of America, Sonic 1 | GE 379 11/2/65\n",
      "576.553 Art Arfons Green Monster GE 79 11/7/65\n",
      "600.601 Craig Breedlove Spirit of America, Sonic 1 | GE 379 11/15/65\n",
      "622.407 Gary Gabelich Blue Flame Rocket 10/23/70\n",
      "633.468 Richard Noble Thrust 2 RRRG 146 | 10/4/83\n",
      "763.035 Andy Green Thrust SSC RR Spey 10/15/97\n",
      "\n",
      "\n"
     ]
    }
   ],
   "source": [
    "text = pytesseract.image_to_string(img)\n",
    "print(text)"
   ]
  },
  {
   "cell_type": "code",
   "execution_count": 10,
   "id": "fc2522ad",
   "metadata": {},
   "outputs": [],
   "source": [
    "img3 = cv2.imread('Data_Image/hand.png')\n",
    "cv2.imshow('tes',img3)\n",
    "cv2.waitKey(0)\n",
    "cv2.destroyAllWindows()"
   ]
  },
  {
   "cell_type": "code",
   "execution_count": 11,
   "id": "4ae0fbe5",
   "metadata": {},
   "outputs": [
    {
     "name": "stdout",
     "output_type": "stream",
     "text": [
      "ae\n",
      "\n",
      "TIM\n",
      "\n",
      ") Bein 4 i “) DUN EXTeh\n",
      ": 8) Bene PREPARE'S\n",
      "\n",
      ") Ben, CoACHABLE\n",
      "\n",
      "ie maylanyuce 10) ATTITUDE\n",
      "\n",
      ") EFFORT\n",
      ") ENERuy\n",
      "\n"
     ]
    }
   ],
   "source": [
    "text = pytesseract.image_to_string(img3)\n",
    "print(text)"
   ]
  },
  {
   "cell_type": "code",
   "execution_count": 12,
   "id": "017c39d7",
   "metadata": {},
   "outputs": [],
   "source": [
    "img4 = cv2.imread('Data_Image/handwrite.png')\n",
    "cv2.imshow('tes',img4)\n",
    "cv2.waitKey(0)\n",
    "cv2.destroyAllWindows()"
   ]
  },
  {
   "cell_type": "code",
   "execution_count": 13,
   "id": "fba04f4d",
   "metadata": {},
   "outputs": [
    {
     "name": "stdout",
     "output_type": "stream",
     "text": [
      "be Tay Antka\n",
      "\n",
      "Aloo\n",
      "\n"
     ]
    }
   ],
   "source": [
    "text = pytesseract.image_to_string(img4)\n",
    "print(text)"
   ]
  },
  {
   "cell_type": "code",
   "execution_count": null,
   "id": "eb926452",
   "metadata": {},
   "outputs": [],
   "source": []
  }
 ],
 "metadata": {
  "kernelspec": {
   "display_name": "Python 3",
   "language": "python",
   "name": "python3"
  },
  "language_info": {
   "codemirror_mode": {
    "name": "ipython",
    "version": 3
   },
   "file_extension": ".py",
   "mimetype": "text/x-python",
   "name": "python",
   "nbconvert_exporter": "python",
   "pygments_lexer": "ipython3",
   "version": "3.8.8"
  }
 },
 "nbformat": 4,
 "nbformat_minor": 5
}
