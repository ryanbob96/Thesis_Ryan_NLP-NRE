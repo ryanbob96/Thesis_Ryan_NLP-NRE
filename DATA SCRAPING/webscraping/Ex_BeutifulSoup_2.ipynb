{
 "cells": [
  {
   "cell_type": "code",
   "execution_count": 22,
   "id": "71302bd5",
   "metadata": {},
   "outputs": [],
   "source": [
    "from bs4 import BeautifulSoup\n",
    "\n",
    "with open('index2.html', 'r') as f:\n",
    "    doc = BeautifulSoup(f, 'html.parser')"
   ]
  },
  {
   "cell_type": "code",
   "execution_count": 2,
   "id": "f23874ab",
   "metadata": {},
   "outputs": [
    {
     "name": "stdout",
     "output_type": "stream",
     "text": [
      "<!DOCTYPE html>\n",
      "<html>\n",
      " <head>\n",
      "  <title>\n",
      "   Educational registration form\n",
      "  </title>\n",
      "  <link crossorigin=\"anonymous\" href=\"https://use.fontawesome.com/releases/v5.4.1/css/all.css\" integrity=\"sha384-5sAR7xN1Nv6T6+dT2mhtzEpVJvfS3NScPQTrOxhwjIuvcA67KV2R5Jz6kr4abQsz\" rel=\"stylesheet\"/>\n",
      "  <link href=\"https://fonts.googleapis.com/css?family=Roboto:300,400,500,700\" rel=\"stylesheet\"/>\n",
      "  <style>\n",
      "   html, body {\n",
      "      min-height: 100%;\n",
      "      }\n",
      "      body, div, form, input, select, p { \n",
      "      padding: 0;\n",
      "      margin: 0;\n",
      "      outline: none;\n",
      "      font-family: Roboto, Arial, sans-serif;\n",
      "      font-size: 16px;\n",
      "      color: #eee;\n",
      "      }\n",
      "      body {\n",
      "      background: url(\"/uploads/media/default/0001/01/b5edc1bad4dc8c20291c8394527cb2c5b43ee13c.jpeg\") no-repeat center;\n",
      "      background-size: cover;\n",
      "      }\n",
      "      h1, h2 {\n",
      "      text-transform: uppercase;\n",
      "      font-weight: 400;\n",
      "      }\n",
      "      h2 {\n",
      "      margin: 0 0 0 8px;\n",
      "      }\n",
      "      .main-block {\n",
      "      display: flex;\n",
      "      flex-direction: column;\n",
      "      justify-content: center;\n",
      "      align-items: center;\n",
      "      height: 100%;\n",
      "      padding: 25px;\n",
      "      background: rgba(0, 0, 0, 0.5); \n",
      "      }\n",
      "      .left-part, form {\n",
      "      padding: 25px;\n",
      "      }\n",
      "      .left-part {\n",
      "      text-align: center;\n",
      "      }\n",
      "      .fa-graduation-cap {\n",
      "      font-size: 72px;\n",
      "      }\n",
      "      form {\n",
      "      background: rgba(0, 0, 0, 0.7); \n",
      "      }\n",
      "      .title {\n",
      "      display: flex;\n",
      "      align-items: center;\n",
      "      margin-bottom: 20px;\n",
      "      }\n",
      "      .info {\n",
      "      display: flex;\n",
      "      flex-direction: column;\n",
      "      }\n",
      "      input, select {\n",
      "      padding: 5px;\n",
      "      margin-bottom: 30px;\n",
      "      background: transparent;\n",
      "      border: none;\n",
      "      border-bottom: 1px solid #eee;\n",
      "      }\n",
      "      input::placeholder {\n",
      "      color: #eee;\n",
      "      }\n",
      "      option:focus {\n",
      "      border: none;\n",
      "      }\n",
      "      option {\n",
      "      background: black; \n",
      "      border: none;\n",
      "      }\n",
      "      .checkbox input {\n",
      "      margin: 0 10px 0 0;\n",
      "      vertical-align: middle;\n",
      "      }\n",
      "      .checkbox a {\n",
      "      color: #26a9e0;\n",
      "      }\n",
      "      .checkbox a:hover {\n",
      "      color: #85d6de;\n",
      "      }\n",
      "      .btn-item, button {\n",
      "      padding: 10px 5px;\n",
      "      margin-top: 20px;\n",
      "      border-radius: 5px; \n",
      "      border: none;\n",
      "      background: #26a9e0; \n",
      "      text-decoration: none;\n",
      "      font-size: 15px;\n",
      "      font-weight: 400;\n",
      "      color: #fff;\n",
      "      }\n",
      "      .btn-item {\n",
      "      display: inline-block;\n",
      "      margin: 20px 5px 0;\n",
      "      }\n",
      "      button {\n",
      "      width: 100%;\n",
      "      }\n",
      "      button:hover, .btn-item:hover {\n",
      "      background: #85d6de;\n",
      "      }\n",
      "      @media (min-width: 568px) {\n",
      "      html, body {\n",
      "      height: 100%;\n",
      "      }\n",
      "      .main-block {\n",
      "      flex-direction: row;\n",
      "      height: calc(100% - 50px);\n",
      "      }\n",
      "      .left-part, form {\n",
      "      flex: 1;\n",
      "      height: auto;\n",
      "      }\n",
      "      }\n",
      "  </style>\n",
      " </head>\n",
      " <body>\n",
      "  <div class=\"main-block\">\n",
      "   <div class=\"left-part\">\n",
      "    <i class=\"fas fa-graduation-cap\">\n",
      "    </i>\n",
      "    <h1>\n",
      "     Register to our courses\n",
      "    </h1>\n",
      "    <p>\n",
      "     W3docs provides free learning materials for programming languages like HTML, CSS, Java Script, PHP etc.\n",
      "    </p>\n",
      "    <div class=\"btn-group\">\n",
      "     <a class=\"btn-item\" href=\"https://www.w3docs.com/learn-html.html\">\n",
      "      Learn HTML\n",
      "     </a>\n",
      "     <a class=\"btn-item\" href=\"https://www.w3docs.com/quiz/#\">\n",
      "      Select Quiz\n",
      "     </a>\n",
      "    </div>\n",
      "    $2345\n",
      "   </div>\n",
      "   <form action=\"/\">\n",
      "    <div class=\"title\">\n",
      "     <i class=\"fas fa-pencil-alt\">\n",
      "     </i>\n",
      "     <h2>\n",
      "      Register here\n",
      "     </h2>\n",
      "    </div>\n",
      "    $123\n",
      "    <div class=\"info\">\n",
      "     <input class=\"fname\" name=\"name\" placeholder=\"Full name\" type=\"text\"/>\n",
      "     <input name=\"name\" placeholder=\"Email\" type=\"text\"/>\n",
      "     <input name=\"name\" placeholder=\"Phone number\" type=\"text\"/>\n",
      "     <input name=\"name\" placeholder=\"Password\" type=\"password\"/>\n",
      "     <select>\n",
      "      <option selected=\"\" value=\"course-type\">\n",
      "       Course type*\n",
      "      </option>\n",
      "      <option value=\"short-courses\">\n",
      "       Short courses\n",
      "      </option>\n",
      "      <option value=\"featured-courses\">\n",
      "       Featured courses\n",
      "      </option>\n",
      "      <option value=\"undergraduate\">\n",
      "       Undergraduate\n",
      "      </option>\n",
      "      <option value=\"diploma\">\n",
      "       Diploma\n",
      "      </option>\n",
      "      <option value=\"certificate\">\n",
      "       Certificate\n",
      "      </option>\n",
      "      <option value=\"masters-degree\">\n",
      "       Masters degree\n",
      "      </option>\n",
      "      <option value=\"postgraduate\">\n",
      "       Postgraduate\n",
      "      </option>\n",
      "     </select>\n",
      "    </div>\n",
      "    <div class=\"checkbox\">\n",
      "     <input name=\"checkbox\" type=\"checkbox\"/>\n",
      "     <span>\n",
      "      I agree to the\n",
      "      <a href=\"https://www.w3docs.com/privacy-policy\">\n",
      "       Privacy Poalicy for W3Docs.\n",
      "      </a>\n",
      "     </span>\n",
      "    </div>\n",
      "    <button href=\"/\" type=\"submit\">\n",
      "     Submit\n",
      "    </button>\n",
      "   </form>\n",
      "  </div>\n",
      " </body>\n",
      "</html>\n"
     ]
    }
   ],
   "source": [
    "print (doc.prettify())\n",
    "#Here we can see the chematic 'Tree n Branch' in HTML. <html> child is <head>, <title> parent is <head> "
   ]
  },
  {
   "cell_type": "markdown",
   "id": "3b69bf89",
   "metadata": {},
   "source": [
    "# Tag Name"
   ]
  },
  {
   "cell_type": "code",
   "execution_count": 12,
   "id": "dee4286a",
   "metadata": {},
   "outputs": [
    {
     "name": "stdout",
     "output_type": "stream",
     "text": [
      "[<option selected=\"\" value=\"course-type\">Course type*</option>, <option value=\"short-courses\">Short courses</option>, <option value=\"featured-courses\">Featured courses</option>, <option value=\"undergraduate\">Undergraduate</option>, <option value=\"diploma\">Diploma</option>, <option value=\"certificate\">Certificate</option>, <option value=\"masters-degree\">Masters degree</option>, <option value=\"postgraduate\">Postgraduate</option>]\n",
      "#####################\n",
      "<option selected=\"\" value=\"course-type\">Course type*</option>\n",
      "#####################\n",
      "{'value': 'course-type', 'selected': ''}\n"
     ]
    }
   ],
   "source": [
    "#Look for Tag\n",
    "tag = doc.find_all('option')\n",
    "print(tag)\n",
    "\n",
    "print('#####################')\n",
    "\n",
    "tag = doc.find('option')\n",
    "print(tag)\n",
    "\n",
    "print('#####################')\n",
    "\n",
    "#Know the attributes\n",
    "print(tag.attrs)"
   ]
  },
  {
   "cell_type": "code",
   "execution_count": 14,
   "id": "9bbe948f",
   "metadata": {},
   "outputs": [
    {
     "name": "stdout",
     "output_type": "stream",
     "text": [
      "<div class=\"main-block\">\n",
      "<div class=\"left-part\">\n",
      "<i class=\"fas fa-graduation-cap\"></i>\n",
      "<h1>Register to our courses</h1>\n",
      "<p>W3docs provides free learning materials for programming languages like HTML, CSS, Java Script, PHP etc.</p>\n",
      "<div class=\"btn-group\">\n",
      "<a class=\"btn-item\" href=\"https://www.w3docs.com/learn-html.html\">Learn HTML</a>\n",
      "<a class=\"btn-item\" href=\"https://www.w3docs.com/quiz/#\">Select Quiz</a>\n",
      "</div>\n",
      "        $2345\n",
      "      </div>\n",
      "<form action=\"/\">\n",
      "<div class=\"title\">\n",
      "<i class=\"fas fa-pencil-alt\"></i>\n",
      "<h2>Register here</h2>\n",
      "</div>\n",
      "        $123\n",
      "        <div class=\"info\">\n",
      "<input class=\"fname\" name=\"name\" placeholder=\"Full name\" type=\"text\"/>\n",
      "<input name=\"name\" placeholder=\"Email\" type=\"text\"/>\n",
      "<input name=\"name\" placeholder=\"Phone number\" type=\"text\"/>\n",
      "<input name=\"name\" placeholder=\"Password\" type=\"password\"/>\n",
      "<select>\n",
      "<option selected=\"\" value=\"course-type\">Course type*</option>\n",
      "<option value=\"short-courses\">Short courses</option>\n",
      "<option value=\"featured-courses\">Featured courses</option>\n",
      "<option value=\"undergraduate\">Undergraduate</option>\n",
      "<option value=\"diploma\">Diploma</option>\n",
      "<option value=\"certificate\">Certificate</option>\n",
      "<option value=\"masters-degree\">Masters degree</option>\n",
      "<option value=\"postgraduate\">Postgraduate</option>\n",
      "</select>\n",
      "</div>\n",
      "<div class=\"checkbox\">\n",
      "<input name=\"checkbox\" type=\"checkbox\"/><span>I agree to the <a href=\"https://www.w3docs.com/privacy-policy\">Privacy Poalicy for W3Docs.</a></span>\n",
      "</div>\n",
      "<button href=\"/\" type=\"submit\">Submit</button>\n",
      "</form>\n",
      "</div>\n"
     ]
    }
   ],
   "source": [
    "#We can search for several tags\n",
    "tags = doc.find(['p','div','li'])\n",
    "print(tags)"
   ]
  },
  {
   "cell_type": "code",
   "execution_count": 20,
   "id": "b44dbfca",
   "metadata": {},
   "outputs": [
    {
     "name": "stdout",
     "output_type": "stream",
     "text": [
      "[<option value=\"undergraduate\">Undergraduate</option>]\n",
      "#############\n",
      "[<option value=\"undergraduate\">Undergraduate</option>]\n"
     ]
    }
   ],
   "source": [
    "#We want to seach for a tag with specific text, or value of undergraduate\n",
    "tags = doc.find_all(['option'], text = 'Undergraduate')\n",
    "print(tags)\n",
    "\n",
    "print('#############')\n",
    "\n",
    "tags = doc.find_all(['option'], text = 'Undergraduate', value = 'undergraduate')\n",
    "print(tags)"
   ]
  },
  {
   "cell_type": "markdown",
   "id": "f904a3a4",
   "metadata": {},
   "source": [
    "# Find Class"
   ]
  },
  {
   "cell_type": "code",
   "execution_count": 24,
   "id": "b9e43a59",
   "metadata": {},
   "outputs": [
    {
     "name": "stdout",
     "output_type": "stream",
     "text": [
      "[<a class=\"btn-item\" href=\"https://www.w3docs.com/learn-html.html\">Learn HTML</a>, <a class=\"btn-item\" href=\"https://www.w3docs.com/quiz/#\">Select Quiz</a>]\n"
     ]
    }
   ],
   "source": [
    "tags = doc.find_all(class_= 'btn-item')\n",
    "print(tags)"
   ]
  },
  {
   "cell_type": "markdown",
   "id": "aaa0b1b6",
   "metadata": {},
   "source": [
    "# Incorporate Regex"
   ]
  },
  {
   "cell_type": "code",
   "execution_count": 31,
   "id": "d3bc6c4a",
   "metadata": {},
   "outputs": [
    {
     "name": "stdout",
     "output_type": "stream",
     "text": [
      "['\\n        $2345\\n      ']\n",
      "$2345\n"
     ]
    }
   ],
   "source": [
    "import re\n",
    "#Instead of looking for the tag, we can also use regex compile to search for a text after dollar are numbers\n",
    "tags = doc.find_all(text=re.compile('\\$.*'), limit = 1) #Limit can be used to limit the number of findings\n",
    "print(tags)\n",
    "for tag in tags:\n",
    "    print(tag.strip())"
   ]
  },
  {
   "cell_type": "markdown",
   "id": "77a171d1",
   "metadata": {},
   "source": [
    "# Save the modified HTML"
   ]
  },
  {
   "cell_type": "code",
   "execution_count": 32,
   "id": "30fee758",
   "metadata": {},
   "outputs": [],
   "source": [
    "tags = doc.find_all('input', type = 'text')\n",
    "for tag in tags:\n",
    "    tag['placeholder'] = 'I change you!'\n",
    "    \n",
    "with open('changed.html', 'w') as file:\n",
    "    file.write(str(doc))"
   ]
  }
 ],
 "metadata": {
  "kernelspec": {
   "display_name": "Python 3",
   "language": "python",
   "name": "python3"
  },
  "language_info": {
   "codemirror_mode": {
    "name": "ipython",
    "version": 3
   },
   "file_extension": ".py",
   "mimetype": "text/x-python",
   "name": "python",
   "nbconvert_exporter": "python",
   "pygments_lexer": "ipython3",
   "version": "3.8.8"
  }
 },
 "nbformat": 4,
 "nbformat_minor": 5
}
