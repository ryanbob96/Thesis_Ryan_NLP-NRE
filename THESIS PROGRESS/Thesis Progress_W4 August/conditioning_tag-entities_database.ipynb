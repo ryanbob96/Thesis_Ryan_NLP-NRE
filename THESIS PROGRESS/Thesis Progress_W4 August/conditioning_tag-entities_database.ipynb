{
 "cells": [
  {
   "cell_type": "code",
   "execution_count": 310,
   "id": "9cde4fba",
   "metadata": {},
   "outputs": [],
   "source": [
    "import re\n",
    "import regex\n",
    "import glob\n",
    "import os"
   ]
  },
  {
   "cell_type": "markdown",
   "id": "de24516c",
   "metadata": {},
   "source": [
    "# Non English Alphabetic Conditioning"
   ]
  },
  {
   "cell_type": "code",
   "execution_count": 317,
   "id": "119110ad",
   "metadata": {},
   "outputs": [],
   "source": [
    "def search_bool(j):\n",
    "    aa = [\n",
    "        bool(re.search(r'ö',j)),\n",
    "        bool(re.search(r'ä',j)),\n",
    "        bool(re.search(r'ü',j)),\n",
    "        bool(re.search(r'é',j)),\n",
    "        bool(re.search(r'í',j)),\n",
    "        bool(re.search(r'á',j)),\n",
    "        bool(re.search(r'ú',j)),\n",
    "        bool(re.search(r'ó',j)),\n",
    "        bool(re.search(r'ð',j)),\n",
    "        bool(re.search(r'è',j)),\n",
    "        bool(re.search(r'ñ',j)),\n",
    "        bool(re.search(r'æ',j)),\n",
    "        bool(re.search(r'ý',j)),\n",
    "        bool(re.search(r'ß',j)),\n",
    "        bool(re.search(r'\\bst.\\b',j)),\n",
    "        bool(re.search(r'ô',j)),\n",
    "        bool(re.search(r'\\bst-\\b',j)),\n",
    "        bool(re.search(r'þ',j))]\n",
    "    return aa\n",
    "\n",
    "def append_tool(j):\n",
    "    a =[\n",
    "        re.sub(r'ö','oe',j),\n",
    "        re.sub(r'ä','ae',j),\n",
    "        re.sub(r'ü','ue',j),\n",
    "        re.sub(r'é','e',j),\n",
    "        re.sub(r'í','i',j),\n",
    "        re.sub(r'á','a',j),\n",
    "        re.sub(r'ú','u',j),\n",
    "        re.sub(r'ó','o',j),\n",
    "        re.sub(r'ð','d',j),\n",
    "        re.sub(r'è','e',j),\n",
    "        re.sub(r'ñ','n',j),\n",
    "        re.sub(r'æ','ae',j),\n",
    "        re.sub(r'ý','y',j),\n",
    "        re.sub(r'ß','ss',j),\n",
    "        re.sub(r'\\bst.\\b','saint ',j),\n",
    "        re.sub(r'ô','o',j),\n",
    "        re.sub(r'\\bst-\\b','saint ',j),\n",
    "        re.sub(r'þ','p',j)\n",
    "]\n",
    "    return a"
   ]
  },
  {
   "cell_type": "code",
   "execution_count": 318,
   "id": "6c2a5a55",
   "metadata": {},
   "outputs": [],
   "source": [
    "path='list_entities/'\n",
    "for filename in glob.glob(os.path.join(path, '*.txt')):\n",
    "    gist_file = open(filename, \"r\")\n",
    "    lis = list(filter(None, gist_file.read().lower().split(\"\\n\")))\n",
    "    extra = []\n",
    "    for i,j in enumerate(lis):\n",
    "        layer = [i for i, x in enumerate(search_bool(lis[i])) if x == True]\n",
    "        if len(layer) > 0:\n",
    "            layer1 = lis[i]\n",
    "            for l in layer:\n",
    "                layer1 = append_tool(layer1)[l]           \n",
    "            if layer1 not in lis:\n",
    "                extra.append(layer1)\n",
    "            else:\n",
    "                pass\n",
    "        else:\n",
    "            pass\n",
    "    \n",
    "    with open(filename, 'w') as f:\n",
    "        for i in lis + extra:\n",
    "            f.write(str(i) + '\\n')\n",
    "    f.close()"
   ]
  },
  {
   "cell_type": "markdown",
   "id": "b863c51d",
   "metadata": {},
   "source": [
    "# No Spacing at the last entities"
   ]
  },
  {
   "cell_type": "code",
   "execution_count": 319,
   "id": "ed2708ed",
   "metadata": {},
   "outputs": [],
   "source": [
    "path='/list_entities/'\n",
    "for filename in glob.glob(os.path.join(path, '*.txt')):\n",
    "    gist_file = open(filename, \"r\")\n",
    "    lis = list(filter(None, gist_file.read().lower().split(\"\\n\")))\n",
    "    \n",
    "    for i,j in enumerate(lis):\n",
    "        lis[i] = re.sub('\\s+$','',j)\n",
    "    \n",
    "    with open(filename,'w') as f:\n",
    "        for i in lis:\n",
    "            f.write(str(i) + '\\n')\n",
    "    f.close()"
   ]
  },
  {
   "cell_type": "markdown",
   "id": "b7436b1f",
   "metadata": {},
   "source": [
    "# Ordering Entities"
   ]
  },
  {
   "cell_type": "code",
   "execution_count": 320,
   "id": "f40b6b98",
   "metadata": {},
   "outputs": [],
   "source": [
    "path='list_entities/'\n",
    "for filename in glob.glob(os.path.join(path, '*.txt')):\n",
    "    gist_file = open(filename, \"r\")\n",
    "    space_2 = []\n",
    "    space_1 = []\n",
    "    space_0 = []\n",
    "    \n",
    "    try:\n",
    "        content = list(filter(None, gist_file.read().lower().split(\"\\n\")))\n",
    "        for i in content:\n",
    "            s = re.findall(r\"\\s\",i)\n",
    "            if len(s)>1:\n",
    "                space_2.append(i)\n",
    "            elif len(s)==1:\n",
    "                space_1.append(i)\n",
    "            else:\n",
    "                space_0.append(i) \n",
    "        content_com = space_2 + space_1 + space_0\n",
    "    \n",
    "    finally:\n",
    "        gist_file.close()\n",
    "        \n",
    "    with open(filename, 'w') as f:\n",
    "        for i in content_com:\n",
    "            f.write(str(i) + '\\n')"
   ]
  },
  {
   "cell_type": "code",
   "execution_count": 321,
   "id": "04045e74",
   "metadata": {},
   "outputs": [
    {
     "data": {
      "text/plain": [
       "['lead']"
      ]
     },
     "execution_count": 321,
     "metadata": {},
     "output_type": "execute_result"
    }
   ],
   "source": [
    "re.findall(r'lead','broad grading generally lead high dry density range')"
   ]
  },
  {
   "cell_type": "markdown",
   "id": "732d5e7f",
   "metadata": {},
   "source": [
    "# Optional Conditioning (No Repetition among countries, states, location)"
   ]
  },
  {
   "cell_type": "code",
   "execution_count": null,
   "id": "9ffca375",
   "metadata": {},
   "outputs": [],
   "source": [
    "# lis_countr = []\n",
    "# with open('list_entities\\list_countries.txt','r') as l:\n",
    "#     for i in l.readlines():\n",
    "#         lis_countr.append(re.sub(r'\\n','',i).lower())\n",
    "        \n",
    "# lis_states = []\n",
    "# with open('list_entities\\list_states.txt','r') as l:\n",
    "#     for i in l.readlines():\n",
    "#         lis_states.append(re.sub(r'\\n','',i))\n",
    "        \n",
    "# lis_geol = []\n",
    "# with open('list_entities\\list_geolocation.txt','r') as l:\n",
    "#     for i in l.readlines():\n",
    "#         lis_geol.append(re.sub(r'\\n','',i))\n",
    "\n",
    "\n",
    "# pattern = r\"((^\\s*\\b(?:{}))\\b)\".format(\"|\".join(lis_countr))\n",
    "\n",
    "# for i,k in enumerate(lis_states):\n",
    "#     if bool(re.search(pattern, k)) == True:\n",
    "#         lis_states[i] = ''\n",
    "#     else:\n",
    "#         pass\n",
    "# lis_states = list(filter(None, lis_states))\n",
    "\n",
    "# with open ('list_entities\\list_states.txt','w') as f:\n",
    "#     for item in lis_states:\n",
    "#         f.write(str(item) + '\\n')\n",
    "#     f.close()    \n",
    "\n",
    "# for i,k in enumerate(lis_geol):\n",
    "#     if bool(re.search(pattern, k)) == True:\n",
    "#         lis_geol[i] = ''\n",
    "#     else:\n",
    "#         pass\n",
    "# lis_geol = list(filter(None, lis_geol))\n",
    "    \n",
    "# with open ('list_entities\\list_geolocation.txt','w') as f:\n",
    "#     for item in lis_geol:\n",
    "#         f.write(str(item) + '\\n')\n",
    "#     f.close()"
   ]
  }
 ],
 "metadata": {
  "kernelspec": {
   "display_name": "Python 3",
   "language": "python",
   "name": "python3"
  },
  "language_info": {
   "codemirror_mode": {
    "name": "ipython",
    "version": 3
   },
   "file_extension": ".py",
   "mimetype": "text/x-python",
   "name": "python",
   "nbconvert_exporter": "python",
   "pygments_lexer": "ipython3",
   "version": "3.8.8"
  }
 },
 "nbformat": 4,
 "nbformat_minor": 5
}
