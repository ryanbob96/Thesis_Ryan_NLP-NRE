{
 "cells": [
  {
   "cell_type": "markdown",
   "id": "0d741646",
   "metadata": {},
   "source": [
    "# Needed Modules"
   ]
  },
  {
   "cell_type": "code",
   "execution_count": 24,
   "id": "7af9ce51",
   "metadata": {},
   "outputs": [],
   "source": [
    "from sklearn.decomposition import PCA\n",
    "import matplotlib.pyplot as plt"
   ]
  },
  {
   "cell_type": "markdown",
   "id": "887955d3",
   "metadata": {},
   "source": [
    "# Import Fine - Tuned GeoBERT"
   ]
  },
  {
   "cell_type": "code",
   "execution_count": 40,
   "id": "b4def82c",
   "metadata": {},
   "outputs": [
    {
     "name": "stderr",
     "output_type": "stream",
     "text": [
      "Some layers from the model checkpoint at botryan96/GeoBERT were not used when initializing TFBertForTokenClassification: ['dropout_37']\n",
      "- This IS expected if you are initializing TFBertForTokenClassification from the checkpoint of a model trained on another task or with another architecture (e.g. initializing a BertForSequenceClassification model from a BertForPreTraining model).\n",
      "- This IS NOT expected if you are initializing TFBertForTokenClassification from the checkpoint of a model that you expect to be exactly identical (initializing a BertForSequenceClassification model from a BertForSequenceClassification model).\n",
      "All the layers of TFBertForTokenClassification were initialized from the model checkpoint at botryan96/GeoBERT.\n",
      "If your task is similar to the task the model of the checkpoint was trained on, you can already use TFBertForTokenClassification for predictions without further training.\n"
     ]
    }
   ],
   "source": [
    "from transformers import TFAutoModelForTokenClassification\n",
    "from transformers import AutoTokenizer\n",
    "model_checkpoint = \"botryan96/GeoBERT\"\n",
    "\n",
    "tokenizer = AutoTokenizer.from_pretrained(model_checkpoint)\n",
    "models = TFAutoModelForTokenClassification.from_pretrained(model_checkpoint)"
   ]
  },
  {
   "cell_type": "markdown",
   "id": "9dae42d6",
   "metadata": {},
   "source": [
    "# Data Preparation"
   ]
  },
  {
   "cell_type": "code",
   "execution_count": 41,
   "id": "d1b14ce9",
   "metadata": {},
   "outputs": [],
   "source": [
    "sentence = ['In North America, the water storage in the seepage face model is higher than the base case because positive pore pressure is requisite for drainage through a seepage face boundary condition. The result from the resistivity data supports the notion, especially in the northern part of the Sandstone Sediment formation. The active formation of America has a big potential for Oil and Gas based on the seismic section, has been activated since the Paleozoic.']"
   ]
  },
  {
   "cell_type": "code",
   "execution_count": 42,
   "id": "96c0c03a",
   "metadata": {},
   "outputs": [],
   "source": [
    "outputs = tokenizer(sentence, return_tensors=\"np\", padding=\"longest\")\n",
    "out = models(outputs, output_hidden_states= True)"
   ]
  },
  {
   "cell_type": "code",
   "execution_count": 59,
   "id": "6808f0e1",
   "metadata": {},
   "outputs": [
    {
     "name": "stdout",
     "output_type": "stream",
     "text": [
      "[('[CLS]', 2, None), ('in', 126, 0), ('north', 764, 1), ('america', 15952, 2), (',', 9, 3), ('the', 116, 4), ('water', 1162, 5), ('storage', 14152, 6), ('in', 126, 7), ('the', 116, 8), ('see', 4130, 9), ('##pa', 13842, 9), ('##ge', 678, 9), ('face', 5840, 10), ('model', 585, 11), ('is', 162, 12), ('higher', 830, 13), ('than', 528, 14), ('the', 116, 15), ('base', 1131, 16), ('case', 2434, 17), ('because', 1284, 18), ('positive', 1796, 19), ('pore', 4869, 20), ('pressure', 1115, 21), ('is', 162, 22), ('requisite', 21578, 23), ('for', 166, 24), ('drainage', 19005, 25), ('through', 966, 26), ('a', 24, 27), ('see', 4130, 28), ('##pa', 13842, 28), ('##ge', 678, 28), ('face', 5840, 29), ('boundary', 2215, 30), ('condition', 946, 31), ('.', 11, 32), ('the', 116, 33), ('result', 1533, 34), ('from', 183, 35), ('the', 116, 36), ('resistivity', 22383, 37), ('data', 500, 38), ('supports', 5243, 39), ('the', 116, 40), ('notion', 14539, 41), (',', 9, 42), ('especially', 3294, 43), ('in', 126, 44), ('the', 116, 45), ('northern', 1768, 46), ('part', 871, 47), ('of', 125, 48), ('the', 116, 49), ('sandstone', 2451, 50), ('sediment', 655, 51), ('formation', 465, 52), ('.', 11, 53), ('the', 116, 54), ('active', 3893, 55), ('formation', 465, 56), ('of', 125, 57), ('america', 15952, 58), ('has', 527, 59), ('a', 24, 60), ('big', 9712, 61), ('potential', 1837, 62), ('for', 166, 63), ('oil', 10643, 64), ('and', 124, 65), ('gas', 2541, 66), ('based', 932, 67), ('on', 250, 68), ('the', 116, 69), ('seismic', 4374, 70), ('section', 1025, 71), (',', 9, 72), ('has', 527, 73), ('been', 537, 74), ('activated', 6504, 75), ('since', 2898, 76), ('the', 116, 77), ('paleozoic', 2360, 78), ('.', 11, 79), ('[SEP]', 3, None)]\n",
      " \n",
      "('drainage', 19005, 25)\n",
      "('sandstone', 2451, 50)\n"
     ]
    }
   ],
   "source": [
    "loc = outputs.word_ids()\n",
    "tokens = outputs.tokens()\n",
    "ids = tokenizer.convert_tokens_to_ids(tokens)\n",
    "\n",
    "print(list(zip(tokens, ids, loc)))\n",
    "print(' ')\n",
    "print(list(zip(tokens, ids, loc))[28])\n",
    "print(list(zip(tokens, ids, loc))[55])"
   ]
  },
  {
   "cell_type": "code",
   "execution_count": 57,
   "id": "53447696",
   "metadata": {},
   "outputs": [],
   "source": [
    "america_1 = out.hidden_states[-1][0][3]\n",
    "america_2 = out.hidden_states[-1][0][63]"
   ]
  },
  {
   "cell_type": "markdown",
   "id": "a3d33336",
   "metadata": {},
   "source": [
    "# Application of PCA"
   ]
  },
  {
   "cell_type": "code",
   "execution_count": 48,
   "id": "c78a5e27",
   "metadata": {},
   "outputs": [
    {
     "name": "stdout",
     "output_type": "stream",
     "text": [
      "Dimension After PCA: (1, 1)  =  [[2.0388553]]\n"
     ]
    },
    {
     "name": "stderr",
     "output_type": "stream",
     "text": [
      "C:\\Users\\Admin\\anaconda3\\lib\\site-packages\\sklearn\\decomposition\\_pca.py:499: RuntimeWarning: invalid value encountered in true_divide\n",
      "  explained_variance_ = (S ** 2) / (n_samples - 1)\n"
     ]
    }
   ],
   "source": [
    "#PCA (Principal Component Analysis)\n",
    "pca = PCA(n_components=1)\n",
    "pca.fit(america_1.numpy().reshape(1,768)*10)\n",
    "x_pca = pca.transform(america_1.numpy().reshape(1,768))\n",
    "print('Dimension After PCA:',x_pca.shape, \" = \", x_pca)"
   ]
  },
  {
   "cell_type": "code",
   "execution_count": 49,
   "id": "dc122e56",
   "metadata": {},
   "outputs": [
    {
     "name": "stdout",
     "output_type": "stream",
     "text": [
      "Dimension After PCA: (1, 1)  =  [[-0.19713129]]\n"
     ]
    },
    {
     "name": "stderr",
     "output_type": "stream",
     "text": [
      "C:\\Users\\Admin\\anaconda3\\lib\\site-packages\\sklearn\\decomposition\\_pca.py:499: RuntimeWarning: invalid value encountered in true_divide\n",
      "  explained_variance_ = (S ** 2) / (n_samples - 1)\n"
     ]
    }
   ],
   "source": [
    "#PCA (Principal Component Analysis)\n",
    "pca = PCA(n_components=1)\n",
    "pca.fit(america_2.numpy().reshape(1,768)*10)\n",
    "x_pca_2 = pca.transform(america_1.numpy().reshape(1,768))\n",
    "print('Dimension After PCA:',x_pca_2.shape, \" = \", x_pca_2)"
   ]
  },
  {
   "cell_type": "code",
   "execution_count": 30,
   "id": "a388c352",
   "metadata": {},
   "outputs": [
    {
     "data": {
      "text/plain": [
       "<matplotlib.collections.PathCollection at 0x21802642fa0>"
      ]
     },
     "execution_count": 30,
     "metadata": {},
     "output_type": "execute_result"
    },
    {
     "data": {
      "image/png": "[encoded data removed]",
      "text/plain": [
       "<Figure size 432x288 with 1 Axes>"
      ]
     },
     "metadata": {
      "needs_background": "light"
     },
     "output_type": "display_data"
    }
   ],
   "source": [
    "plt.scatter(x_pca_2[0], 0)\n",
    "plt.scatter(x_pca[0], 0)"
   ]
  },
  {
   "cell_type": "code",
   "execution_count": 50,
   "id": "03169db7",
   "metadata": {},
   "outputs": [],
   "source": [
    "america_1 = out.hidden_states[-1][0][37]\n",
    "america_2 = out.hidden_states[-1][0][70]"
   ]
  },
  {
   "cell_type": "code",
   "execution_count": 51,
   "id": "825bcbf0",
   "metadata": {},
   "outputs": [
    {
     "name": "stdout",
     "output_type": "stream",
     "text": [
      "Dimension After PCA: (1, 1)  =  [[2.5296776]]\n"
     ]
    },
    {
     "name": "stderr",
     "output_type": "stream",
     "text": [
      "C:\\Users\\Admin\\anaconda3\\lib\\site-packages\\sklearn\\decomposition\\_pca.py:499: RuntimeWarning: invalid value encountered in true_divide\n",
      "  explained_variance_ = (S ** 2) / (n_samples - 1)\n"
     ]
    }
   ],
   "source": [
    "#PCA (Principal Component Analysis)\n",
    "pca = PCA(n_components=1)\n",
    "pca.fit(america_1.numpy().reshape(1,768)*10)\n",
    "x_pca = pca.transform(america_1.numpy().reshape(1,768))\n",
    "print('Dimension After PCA:',x_pca.shape, \" = \", x_pca)"
   ]
  },
  {
   "cell_type": "code",
   "execution_count": 52,
   "id": "2f03bcdb",
   "metadata": {},
   "outputs": [
    {
     "name": "stdout",
     "output_type": "stream",
     "text": [
      "Dimension After PCA: (1, 1)  =  [[0.7167303]]\n"
     ]
    },
    {
     "name": "stderr",
     "output_type": "stream",
     "text": [
      "C:\\Users\\Admin\\anaconda3\\lib\\site-packages\\sklearn\\decomposition\\_pca.py:499: RuntimeWarning: invalid value encountered in true_divide\n",
      "  explained_variance_ = (S ** 2) / (n_samples - 1)\n"
     ]
    }
   ],
   "source": [
    "#PCA (Principal Component Analysis)\n",
    "pca = PCA(n_components=1)\n",
    "pca.fit(america_2.numpy().reshape(1,768)*10)\n",
    "x_pca_2 = pca.transform(america_1.numpy().reshape(1,768))\n",
    "print('Dimension After PCA:',x_pca_2.shape, \" = \", x_pca_2)"
   ]
  },
  {
   "cell_type": "code",
   "execution_count": 53,
   "id": "6f7add79",
   "metadata": {},
   "outputs": [
    {
     "data": {
      "text/plain": [
       "<matplotlib.collections.PathCollection at 0x21873322610>"
      ]
     },
     "execution_count": 53,
     "metadata": {},
     "output_type": "execute_result"
    },
    {
     "data": {
      "image/png": "[encoded data removed]",
      "text/plain": [
       "<Figure size 432x288 with 1 Axes>"
      ]
     },
     "metadata": {
      "needs_background": "light"
     },
     "output_type": "display_data"
    }
   ],
   "source": [
    "plt.scatter(x_pca_2[0], 0)\n",
    "plt.scatter(x_pca[0], 0)"
   ]
  },
  {
   "cell_type": "code",
   "execution_count": 60,
   "id": "1e15d596",
   "metadata": {},
   "outputs": [],
   "source": [
    "america_1 = out.hidden_states[-1][0][28]\n",
    "america_2 = out.hidden_states[-1][0][55]"
   ]
  },
  {
   "cell_type": "code",
   "execution_count": 61,
   "id": "fbbb38cb",
   "metadata": {},
   "outputs": [
    {
     "name": "stdout",
     "output_type": "stream",
     "text": [
      "Dimension After PCA: (1, 1)  =  [[6.0463424]]\n"
     ]
    },
    {
     "name": "stderr",
     "output_type": "stream",
     "text": [
      "C:\\Users\\Admin\\anaconda3\\lib\\site-packages\\sklearn\\decomposition\\_pca.py:499: RuntimeWarning: invalid value encountered in true_divide\n",
      "  explained_variance_ = (S ** 2) / (n_samples - 1)\n"
     ]
    }
   ],
   "source": [
    "#PCA (Principal Component Analysis)\n",
    "pca = PCA(n_components=1)\n",
    "pca.fit(america_1.numpy().reshape(1,768)*10)\n",
    "x_pca = pca.transform(america_1.numpy().reshape(1,768))\n",
    "print('Dimension After PCA:',x_pca.shape, \" = \", x_pca)"
   ]
  },
  {
   "cell_type": "code",
   "execution_count": 62,
   "id": "2b90f23c",
   "metadata": {},
   "outputs": [
    {
     "name": "stdout",
     "output_type": "stream",
     "text": [
      "The history saving thread hit an unexpected error (OperationalError('database or disk is full')).History will not be written to the database.\n",
      "Dimension After PCA: (1, 1)  =  [[0.7888971]]\n"
     ]
    },
    {
     "name": "stderr",
     "output_type": "stream",
     "text": [
      "C:\\Users\\Admin\\anaconda3\\lib\\site-packages\\sklearn\\decomposition\\_pca.py:499: RuntimeWarning: invalid value encountered in true_divide\n",
      "  explained_variance_ = (S ** 2) / (n_samples - 1)\n"
     ]
    }
   ],
   "source": [
    "#PCA (Principal Component Analysis)\n",
    "pca = PCA(n_components=1)\n",
    "pca.fit(america_2.numpy().reshape(1,768)*10)\n",
    "x_pca_2 = pca.transform(america_1.numpy().reshape(1,768))\n",
    "print('Dimension After PCA:',x_pca_2.shape, \" = \", x_pca_2)"
   ]
  },
  {
   "cell_type": "code",
   "execution_count": null,
   "id": "5d766a1c",
   "metadata": {},
   "outputs": [],
   "source": []
  }
 ],
 "metadata": {
  "kernelspec": {
   "display_name": "Python 3 (ipykernel)",
   "language": "python",
   "name": "python3"
  },
  "language_info": {
   "codemirror_mode": {
    "name": "ipython",
    "version": 3
   },
   "file_extension": ".py",
   "mimetype": "text/x-python",
   "name": "python",
   "nbconvert_exporter": "python",
   "pygments_lexer": "ipython3",
   "version": "3.9.15"
  }
 },
 "nbformat": 4,
 "nbformat_minor": 5
}
