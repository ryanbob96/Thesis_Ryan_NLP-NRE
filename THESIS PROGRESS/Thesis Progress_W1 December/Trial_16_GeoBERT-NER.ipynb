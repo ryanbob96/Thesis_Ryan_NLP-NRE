{
 "cells": [
  {
   "cell_type": "markdown",
   "id": "860202e8",
   "metadata": {},
   "source": [
    "# A. Import the Pipelines of GeoBERT_NER"
   ]
  },
  {
   "cell_type": "code",
   "execution_count": 2,
   "id": "b4def82c",
   "metadata": {},
   "outputs": [
    {
     "name": "stderr",
     "output_type": "stream",
     "text": [
      "All model checkpoint layers were used when initializing TFBertForTokenClassification.\n",
      "\n",
      "All the layers of TFBertForTokenClassification were initialized from the model checkpoint at botryan96/GeoBERT_NER.\n",
      "If your task is similar to the task the model of the checkpoint was trained on, you can already use TFBertForTokenClassification for predictions without further training.\n"
     ]
    }
   ],
   "source": [
    "#Import it using Transformer Huggingface\n",
    "from transformers import TFAutoModelForTokenClassification\n",
    "from transformers import AutoTokenizer\n",
    "model_checkpoint = \"botryan96/GeoBERT_NER\"\n",
    "\n",
    "#Imporrt the model and Tokenizer of GeoBERT_NER\n",
    "tokenizer = AutoTokenizer.from_pretrained(model_checkpoint)\n",
    "models = TFAutoModelForTokenClassification.from_pretrained(model_checkpoint)"
   ]
  },
  {
   "cell_type": "code",
   "execution_count": 5,
   "id": "4d58beb4",
   "metadata": {},
   "outputs": [],
   "source": [
    "#Define the pipeline\n",
    "from transformers import pipeline\n",
    "ner_machine = pipeline('ner',model = models,tokenizer=tokenizer, aggregation_strategy=\"simple\")"
   ]
  },
  {
   "cell_type": "code",
   "execution_count": 6,
   "id": "d1b14ce9",
   "metadata": {},
   "outputs": [],
   "source": [
    "sentence = 'In North America, the water storage in the seepage face model is higher than the base case because positive pore pressure is requisite for drainage through a seepage face boundary condition. The resut from the resistivity data supports the notion, especially in the northern part of the Sandstone Sediment formation. The active formation of America has a big potential for Oil and Gas based on the seismic section, has been activated since the Paleozoic'"
   ]
  },
  {
   "cell_type": "code",
   "execution_count": 7,
   "id": "2dc0ab77",
   "metadata": {},
   "outputs": [
    {
     "name": "stderr",
     "output_type": "stream",
     "text": [
      "Asking to truncate to max_length but no maximum length is provided and the model has no predefined maximum length. Default to no truncation.\n"
     ]
    },
    {
     "data": {
      "text/plain": [
       "[{'entity_group': 'GeoLoc',\n",
       "  'score': 0.99993944,\n",
       "  'word': 'north america',\n",
       "  'start': 3,\n",
       "  'end': 16},\n",
       " {'entity_group': 'GeoMeth',\n",
       "  'score': 0.9998363,\n",
       "  'word': 'pore pressure',\n",
       "  'start': 108,\n",
       "  'end': 121},\n",
       " {'entity_group': 'GeoPetro',\n",
       "  'score': 0.95574135,\n",
       "  'word': 'drainage',\n",
       "  'start': 139,\n",
       "  'end': 147},\n",
       " {'entity_group': 'GeoPetro',\n",
       "  'score': 0.6431445,\n",
       "  'word': 'resistivity',\n",
       "  'start': 210,\n",
       "  'end': 221},\n",
       " {'entity_group': 'GeoPetro',\n",
       "  'score': 0.99988997,\n",
       "  'word': 'sandstone',\n",
       "  'start': 287,\n",
       "  'end': 296},\n",
       " {'entity_group': 'GeoPetro',\n",
       "  'score': 0.9970866,\n",
       "  'word': 'sediment',\n",
       "  'start': 297,\n",
       "  'end': 305},\n",
       " {'entity_group': 'GeoMeth',\n",
       "  'score': 0.9987852,\n",
       "  'word': 'seismic section',\n",
       "  'start': 398,\n",
       "  'end': 413},\n",
       " {'entity_group': 'GeoTime',\n",
       "  'score': 0.99943334,\n",
       "  'word': 'paleozoic',\n",
       "  'start': 444,\n",
       "  'end': 453}]"
      ]
     },
     "execution_count": 7,
     "metadata": {},
     "output_type": "execute_result"
    }
   ],
   "source": [
    "#Deploy the NER Machine\n",
    "ner_machine(sentence)"
   ]
  },
  {
   "cell_type": "code",
   "execution_count": null,
   "id": "5d766a1c",
   "metadata": {},
   "outputs": [],
   "source": []
  }
 ],
 "metadata": {
  "kernelspec": {
   "display_name": "Python 3 (ipykernel)",
   "language": "python",
   "name": "python3"
  },
  "language_info": {
   "codemirror_mode": {
    "name": "ipython",
    "version": 3
   },
   "file_extension": ".py",
   "mimetype": "text/x-python",
   "name": "python",
   "nbconvert_exporter": "python",
   "pygments_lexer": "ipython3",
   "version": "3.9.15"
  }
 },
 "nbformat": 4,
 "nbformat_minor": 5
}
