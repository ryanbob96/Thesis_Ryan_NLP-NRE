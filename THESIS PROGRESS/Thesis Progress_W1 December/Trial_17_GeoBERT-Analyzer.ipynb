{
 "cells": [
  {
   "cell_type": "code",
   "execution_count": 1,
   "id": "4f8c50da",
   "metadata": {},
   "outputs": [
    {
     "name": "stderr",
     "output_type": "stream",
     "text": [
      "Some layers from the model checkpoint at botryan96/GeoBERT_analyzer were not used when initializing TFBertForSequenceClassification: ['dropout_75']\n",
      "- This IS expected if you are initializing TFBertForSequenceClassification from the checkpoint of a model trained on another task or with another architecture (e.g. initializing a BertForSequenceClassification model from a BertForPreTraining model).\n",
      "- This IS NOT expected if you are initializing TFBertForSequenceClassification from the checkpoint of a model that you expect to be exactly identical (initializing a BertForSequenceClassification model from a BertForSequenceClassification model).\n",
      "All the layers of TFBertForSequenceClassification were initialized from the model checkpoint at botryan96/GeoBERT_analyzer.\n",
      "If your task is similar to the task the model of the checkpoint was trained on, you can already use TFBertForSequenceClassification for predictions without further training.\n"
     ]
    }
   ],
   "source": [
    "#Import it using Transformer Huggingface\n",
    "from transformers import TFAutoModelForSequenceClassification\n",
    "from transformers import AutoTokenizer\n",
    "model_checkpoint2 = \"botryan96/GeoBERT_analyzer\"\n",
    "\n",
    "# #Imporrt the model and Tokenizer of GeoBERT_NER\n",
    "tokenizer2 = AutoTokenizer.from_pretrained(model_checkpoint2)\n",
    "models2 = TFAutoModelForSequenceClassification.from_pretrained(model_checkpoint2)"
   ]
  },
  {
   "cell_type": "code",
   "execution_count": 2,
   "id": "fcb55ab0",
   "metadata": {},
   "outputs": [
    {
     "name": "stderr",
     "output_type": "stream",
     "text": [
      "C:\\Users\\Admin\\anaconda3\\lib\\site-packages\\huggingface_hub\\utils\\_deprecation.py:128: FutureWarning: '_raise_for_status' (from 'huggingface_hub.utils._errors') is deprecated and will be removed from version '0.13'. Use `hf_raise_for_status` instead.\n",
      "  warnings.warn(warning_message, FutureWarning)\n",
      "All model checkpoint layers were used when initializing TFBertForSequenceClassification.\n",
      "\n",
      "All the layers of TFBertForSequenceClassification were initialized from the model checkpoint at botryan96/GeoBERT_analyzer.\n",
      "If your task is similar to the task the model of the checkpoint was trained on, you can already use TFBertForSequenceClassification for predictions without further training.\n"
     ]
    }
   ],
   "source": [
    "#Define the pipeline\n",
    "from transformers import pipeline\n",
    "anlyze_machine=pipeline('text-classification',model = model_checkpoint2)"
   ]
  },
  {
   "cell_type": "code",
   "execution_count": 3,
   "id": "c3f3778b",
   "metadata": {},
   "outputs": [],
   "source": [
    "sentences = ['the average iron and sulfate concentrations were calculated to be 19 . 6 5 . 2 and 426 182 mg / l , respectively .',\n",
    "            'She first gained media attention as a friend and stylist of Paris Hilton']"
   ]
  },
  {
   "cell_type": "code",
   "execution_count": 6,
   "id": "8cb8d4b1",
   "metadata": {},
   "outputs": [
    {
     "data": {
      "text/plain": [
       "[{'label': 'geoscience', 'score': 0.999980092048645},\n",
       " {'label': 'general', 'score': 0.9803792238235474}]"
      ]
     },
     "execution_count": 6,
     "metadata": {},
     "output_type": "execute_result"
    }
   ],
   "source": [
    "anlyze_machine(sentences)"
   ]
  },
  {
   "cell_type": "code",
   "execution_count": null,
   "id": "9d42cddd",
   "metadata": {},
   "outputs": [],
   "source": []
  }
 ],
 "metadata": {
  "kernelspec": {
   "display_name": "Python 3 (ipykernel)",
   "language": "python",
   "name": "python3"
  },
  "language_info": {
   "codemirror_mode": {
    "name": "ipython",
    "version": 3
   },
   "file_extension": ".py",
   "mimetype": "text/x-python",
   "name": "python",
   "nbconvert_exporter": "python",
   "pygments_lexer": "ipython3",
   "version": "3.9.12"
  }
 },
 "nbformat": 4,
 "nbformat_minor": 5
}
