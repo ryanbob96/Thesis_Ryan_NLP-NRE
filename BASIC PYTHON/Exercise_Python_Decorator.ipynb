{
 "cells": [
  {
   "cell_type": "code",
   "execution_count": 1,
   "id": "3bd62d9b",
   "metadata": {},
   "outputs": [
    {
     "name": "stdout",
     "output_type": "stream",
     "text": [
      "Called f1\n"
     ]
    }
   ],
   "source": [
    "def f1():\n",
    "    print(\"Called f1\")\n",
    "\n",
    "def f2(f):\n",
    "    f()\n",
    "\n",
    "f2(f1)"
   ]
  },
  {
   "cell_type": "code",
   "execution_count": 3,
   "id": "2d8d42a4",
   "metadata": {},
   "outputs": [
    {
     "name": "stdout",
     "output_type": "stream",
     "text": [
      "Started\n",
      "Hello\n",
      "Ended\n",
      "Started\n",
      "Hello\n",
      "Ended\n"
     ]
    }
   ],
   "source": [
    " # We want to call a function from the result of the other function\n",
    "def f1(func):\n",
    "    def wrapper():\n",
    "        print(\"Started\")\n",
    "        func()\n",
    "        print(\"Ended\")\n",
    "\n",
    "    return wrapper\n",
    "\n",
    "def f():\n",
    "    print('Hello')\n",
    "\n",
    "f1(f)()\n",
    "\n",
    "#or use function alliasing\n",
    "x = f1(f)\n",
    "\n",
    "x()"
   ]
  },
  {
   "cell_type": "code",
   "execution_count": 4,
   "id": "b451a5b3",
   "metadata": {},
   "outputs": [
    {
     "name": "stdout",
     "output_type": "stream",
     "text": [
      "Started\n",
      "hello\n",
      "Ended\n"
     ]
    }
   ],
   "source": [
    "def f1(func):\n",
    "    def wrapper():\n",
    "        print(\"Started\")\n",
    "        func()\n",
    "        print(\"Ended\")\n",
    "\n",
    "    return wrapper\n",
    "\n",
    "@f1\n",
    "def f():\n",
    "    print('hello')\n",
    "\n",
    "f()"
   ]
  },
  {
   "cell_type": "code",
   "execution_count": 7,
   "id": "e8dfbad4",
   "metadata": {},
   "outputs": [
    {
     "ename": "TypeError",
     "evalue": "wrapper() takes 0 positional arguments but 1 was given",
     "output_type": "error",
     "traceback": [
      "\u001b[1;31m---------------------------------------------------------------------------\u001b[0m",
      "\u001b[1;31mTypeError\u001b[0m                                 Traceback (most recent call last)",
      "\u001b[1;32m<ipython-input-7-314e8bbe3fda>\u001b[0m in \u001b[0;36m<module>\u001b[1;34m\u001b[0m\n\u001b[0;32m     12\u001b[0m     \u001b[0mprint\u001b[0m\u001b[1;33m(\u001b[0m\u001b[0ma\u001b[0m\u001b[1;33m,\u001b[0m \u001b[0mb\u001b[0m\u001b[1;33m)\u001b[0m\u001b[1;33m\u001b[0m\u001b[1;33m\u001b[0m\u001b[0m\n\u001b[0;32m     13\u001b[0m \u001b[1;33m\u001b[0m\u001b[0m\n\u001b[1;32m---> 14\u001b[1;33m \u001b[0mf\u001b[0m\u001b[1;33m(\u001b[0m\u001b[1;34m\"Hi !\"\u001b[0m\u001b[1;33m)\u001b[0m\u001b[1;33m\u001b[0m\u001b[1;33m\u001b[0m\u001b[0m\n\u001b[0m",
      "\u001b[1;31mTypeError\u001b[0m: wrapper() takes 0 positional arguments but 1 was given"
     ]
    }
   ],
   "source": [
    "def f1(func):\n",
    "    #If we don't use *args, **Kwargs\n",
    "    def wrapper():\n",
    "        print(\"Started\")\n",
    "        func()\n",
    "        print(\"Ended\")\n",
    "\n",
    "    return wrapper\n",
    "\n",
    "@f1\n",
    "def f(a, b=9):\n",
    "    print(a, b)\n",
    "\n",
    "f(\"Hi !\")"
   ]
  },
  {
   "cell_type": "code",
   "execution_count": 6,
   "id": "d90d8b0e",
   "metadata": {},
   "outputs": [
    {
     "name": "stdout",
     "output_type": "stream",
     "text": [
      "Started\n",
      "Hi ! 9\n",
      "Ended\n"
     ]
    }
   ],
   "source": [
    "def f1(func):\n",
    "    #We will have some kind of arguments\n",
    "    def wrapper(*args, **kwargs):\n",
    "        print(\"Started\")\n",
    "        func(*args, **kwargs)\n",
    "        print(\"Ended\")\n",
    "\n",
    "    return wrapper\n",
    "\n",
    "@f1\n",
    "def f(a, b=9):\n",
    "    print(a, b)\n",
    "\n",
    "f(\"Hi !\")"
   ]
  },
  {
   "cell_type": "code",
   "execution_count": 8,
   "id": "a7b26a3c",
   "metadata": {},
   "outputs": [
    {
     "name": "stdout",
     "output_type": "stream",
     "text": [
      "Started\n",
      "Ended\n",
      "9\n"
     ]
    }
   ],
   "source": [
    "def f1(func):\n",
    "    #We will have some kind of arguments\n",
    "    #We want some mathematical arguments\n",
    "    def wrapper(*args, **kwargs):\n",
    "        print(\"Started\")\n",
    "        val = func(*args, **kwargs)\n",
    "        print(\"Ended\")\n",
    "        return val\n",
    "\n",
    "    return wrapper\n",
    "\n",
    "@f1\n",
    "def f(a, b=9):\n",
    "    print(a, b)\n",
    "\n",
    "@f1\n",
    "def add(x,y):\n",
    "    return x+y\n",
    "\n",
    "print(add(4,5))"
   ]
  },
  {
   "cell_type": "code",
   "execution_count": 15,
   "id": "d5d36bfc",
   "metadata": {},
   "outputs": [
    {
     "name": "stdout",
     "output_type": "stream",
     "text": [
      "Function took:  2.0030946731567383  Seconds\n"
     ]
    }
   ],
   "source": [
    "import time\n",
    "\n",
    "def timer(func):\n",
    "    def wrapper():\n",
    "        before = time.time()\n",
    "        func()\n",
    "        print(\"Function took: \", time.time() - before, \" Seconds\")\n",
    "        \n",
    "    return wrapper\n",
    "@timer\n",
    "def run():\n",
    "    time.sleep(2)\n",
    "\n",
    "run()"
   ]
  },
  {
   "cell_type": "code",
   "execution_count": null,
   "id": "d6918cc2",
   "metadata": {},
   "outputs": [],
   "source": []
  }
 ],
 "metadata": {
  "kernelspec": {
   "display_name": "Python 3",
   "language": "python",
   "name": "python3"
  },
  "language_info": {
   "codemirror_mode": {
    "name": "ipython",
    "version": 3
   },
   "file_extension": ".py",
   "mimetype": "text/x-python",
   "name": "python",
   "nbconvert_exporter": "python",
   "pygments_lexer": "ipython3",
   "version": "3.8.8"
  }
 },
 "nbformat": 4,
 "nbformat_minor": 5
}
